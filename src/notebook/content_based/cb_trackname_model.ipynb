{
 "nbformat": 4,
 "nbformat_minor": 0,
 "metadata": {
  "colab": {
   "name": "cb_trackname_model.ipynb",
   "provenance": [],
   "collapsed_sections": [
    "8nv7inCAde5k",
    "DQFPKf5HV_K6",
    "89CDfA9VWtMM",
    "moAAQ19hiZpO",
    "3s6JUm-z8mvj",
    "DaALDUE28u1j"
   ],
   "mount_file_id": "1ekf4Eqt4bH215BXsuzG61cLA0NRMY6IQ",
   "authorship_tag": "ABX9TyMr5JyQrD0cq2F3IMAvwPSL"
  },
  "kernelspec": {
   "name": "python3",
   "display_name": "Python 3"
  },
  "language_info": {
   "name": "python"
  }
 },
 "cells": [
  {
   "cell_type": "markdown",
   "metadata": {
    "id": "AhHPb5x0W0IL"
   },
   "source": [
    "# Content-based"
   ]
  },
  {
   "cell_type": "markdown",
   "metadata": {
    "id": "8nv7inCAde5k"
   },
   "source": [
    "### word2vecVN"
   ]
  },
  {
   "cell_type": "code",
   "metadata": {
    "id": "svHzMAMxbkyP",
    "colab": {
     "base_uri": "https://localhost:8080/"
    },
    "executionInfo": {
     "status": "ok",
     "timestamp": 1640184185080,
     "user_tz": -420,
     "elapsed": 39120,
     "user": {
      "displayName": "Binh Duong Van",
      "photoUrl": "https://lh3.googleusercontent.com/a-/AOh14Ggt0R_vpxdkA9SOrPvnHgwuzwsHmYSxz6AMEDHtsA=s64",
      "userId": "14650316510824230211"
     }
    },
    "outputId": "a71a2a26-11e2-4914-80d1-72c474e2c131"
   },
   "source": [
    "# Model trained on Le et al.'s data (window-size 5, 400 dims)\n",
    "!wget https://thiaisotajppub.s3-ap-northeast-1.amazonaws.com/publicfiles/baomoi.model.bin"
   ],
   "execution_count": 1,
   "outputs": [
    {
     "output_type": "stream",
     "name": "stdout",
     "text": [
      "--2021-12-22 14:42:25--  https://thiaisotajppub.s3-ap-northeast-1.amazonaws.com/publicfiles/baomoi.model.bin\n",
      "Resolving thiaisotajppub.s3-ap-northeast-1.amazonaws.com (thiaisotajppub.s3-ap-northeast-1.amazonaws.com)... 52.219.17.50\n",
      "Connecting to thiaisotajppub.s3-ap-northeast-1.amazonaws.com (thiaisotajppub.s3-ap-northeast-1.amazonaws.com)|52.219.17.50|:443... connected.\n",
      "HTTP request sent, awaiting response... 200 OK\n",
      "Length: 708212586 (675M) [application/macbinary]\n",
      "Saving to: ‘baomoi.model.bin’\n",
      "\n",
      "baomoi.model.bin    100%[===================>] 675.40M  19.4MB/s    in 37s     \n",
      "\n",
      "2021-12-22 14:43:03 (18.2 MB/s) - ‘baomoi.model.bin’ saved [708212586/708212586]\n",
      "\n"
     ]
    }
   ]
  },
  {
   "cell_type": "markdown",
   "metadata": {
    "id": "DQFPKf5HV_K6"
   },
   "source": [
    "## File paths"
   ]
  },
  {
   "cell_type": "code",
   "metadata": {
    "id": "RAx2BYSUVNNC",
    "executionInfo": {
     "status": "ok",
     "timestamp": 1640184185082,
     "user_tz": -420,
     "elapsed": 34,
     "user": {
      "displayName": "Binh Duong Van",
      "photoUrl": "https://lh3.googleusercontent.com/a-/AOh14Ggt0R_vpxdkA9SOrPvnHgwuzwsHmYSxz6AMEDHtsA=s64",
      "userId": "14650316510824230211"
     }
    }
   },
   "source": [
    "data_root = './data'\n",
    "user_1 = data_root + '/user1.csv'\n",
    "user_2 = data_root + '/user2.csv'\n",
    "user_3 = data_root + '/user3.csv'\n",
    "full_data = data_root + '/full_data.csv'\n",
    "\n",
    "oov400 = data_root + '/oov400_list.txt'\n",
    "\n",
    "w2vec_400 = '/content/baomoi.model.bin'"
   ],
   "execution_count": 1,
   "outputs": []
  },
  {
   "cell_type": "markdown",
   "metadata": {
    "id": "89CDfA9VWtMM"
   },
   "source": [
    "## Libraries"
   ]
  },
  {
   "cell_type": "code",
   "metadata": {
    "id": "Ks7uc1bUpRj1",
    "colab": {
     "base_uri": "https://localhost:8080/"
    },
    "executionInfo": {
     "status": "ok",
     "timestamp": 1640184205896,
     "user_tz": -420,
     "elapsed": 20838,
     "user": {
      "displayName": "Binh Duong Van",
      "photoUrl": "https://lh3.googleusercontent.com/a-/AOh14Ggt0R_vpxdkA9SOrPvnHgwuzwsHmYSxz6AMEDHtsA=s64",
      "userId": "14650316510824230211"
     }
    },
    "outputId": "375cb548-8f52-462d-dec9-f7d257a686df"
   },
   "source": [
    "!pip install texthero\n",
    "!pip install num2words\n",
    "!pip install viet-text-tools\n",
    "!pip install pyvi"
   ],
   "execution_count": 3,
   "outputs": [
    {
     "output_type": "stream",
     "name": "stdout",
     "text": [
      "Collecting texthero\n",
      "  Downloading texthero-1.1.0-py3-none-any.whl (24 kB)\n",
      "Requirement already satisfied: gensim<4.0,>=3.6.0 in /usr/local/lib/python3.7/dist-packages (from texthero) (3.6.0)\n",
      "Collecting nltk>=3.3\n",
      "  Downloading nltk-3.6.6-py3-none-any.whl (1.5 MB)\n",
      "\u001B[K     |████████████████████████████████| 1.5 MB 7.0 MB/s \n",
      "\u001B[?25hRequirement already satisfied: numpy>=1.17 in /usr/local/lib/python3.7/dist-packages (from texthero) (1.19.5)\n",
      "Requirement already satisfied: matplotlib>=3.1.0 in /usr/local/lib/python3.7/dist-packages (from texthero) (3.2.2)\n",
      "Requirement already satisfied: spacy<3.0.0 in /usr/local/lib/python3.7/dist-packages (from texthero) (2.2.4)\n",
      "Requirement already satisfied: tqdm>=4.3 in /usr/local/lib/python3.7/dist-packages (from texthero) (4.62.3)\n",
      "Requirement already satisfied: wordcloud>=1.5.0 in /usr/local/lib/python3.7/dist-packages (from texthero) (1.5.0)\n",
      "Requirement already satisfied: pandas>=1.0.2 in /usr/local/lib/python3.7/dist-packages (from texthero) (1.1.5)\n",
      "Collecting unidecode>=1.1.1\n",
      "  Downloading Unidecode-1.3.2-py3-none-any.whl (235 kB)\n",
      "\u001B[K     |████████████████████████████████| 235 kB 55.3 MB/s \n",
      "\u001B[?25hRequirement already satisfied: plotly>=4.2.0 in /usr/local/lib/python3.7/dist-packages (from texthero) (4.4.1)\n",
      "Requirement already satisfied: scikit-learn>=0.22 in /usr/local/lib/python3.7/dist-packages (from texthero) (1.0.1)\n",
      "Requirement already satisfied: scipy>=0.18.1 in /usr/local/lib/python3.7/dist-packages (from gensim<4.0,>=3.6.0->texthero) (1.4.1)\n",
      "Requirement already satisfied: smart-open>=1.2.1 in /usr/local/lib/python3.7/dist-packages (from gensim<4.0,>=3.6.0->texthero) (5.2.1)\n",
      "Requirement already satisfied: six>=1.5.0 in /usr/local/lib/python3.7/dist-packages (from gensim<4.0,>=3.6.0->texthero) (1.15.0)\n",
      "Requirement already satisfied: kiwisolver>=1.0.1 in /usr/local/lib/python3.7/dist-packages (from matplotlib>=3.1.0->texthero) (1.3.2)\n",
      "Requirement already satisfied: cycler>=0.10 in /usr/local/lib/python3.7/dist-packages (from matplotlib>=3.1.0->texthero) (0.11.0)\n",
      "Requirement already satisfied: pyparsing!=2.0.4,!=2.1.2,!=2.1.6,>=2.0.1 in /usr/local/lib/python3.7/dist-packages (from matplotlib>=3.1.0->texthero) (3.0.6)\n",
      "Requirement already satisfied: python-dateutil>=2.1 in /usr/local/lib/python3.7/dist-packages (from matplotlib>=3.1.0->texthero) (2.8.2)\n",
      "Collecting regex>=2021.8.3\n",
      "  Downloading regex-2021.11.10-cp37-cp37m-manylinux_2_17_x86_64.manylinux2014_x86_64.whl (749 kB)\n",
      "\u001B[K     |████████████████████████████████| 749 kB 48.5 MB/s \n",
      "\u001B[?25hRequirement already satisfied: joblib in /usr/local/lib/python3.7/dist-packages (from nltk>=3.3->texthero) (1.1.0)\n",
      "Requirement already satisfied: click in /usr/local/lib/python3.7/dist-packages (from nltk>=3.3->texthero) (7.1.2)\n",
      "Requirement already satisfied: pytz>=2017.2 in /usr/local/lib/python3.7/dist-packages (from pandas>=1.0.2->texthero) (2018.9)\n",
      "Requirement already satisfied: retrying>=1.3.3 in /usr/local/lib/python3.7/dist-packages (from plotly>=4.2.0->texthero) (1.3.3)\n",
      "Requirement already satisfied: threadpoolctl>=2.0.0 in /usr/local/lib/python3.7/dist-packages (from scikit-learn>=0.22->texthero) (3.0.0)\n",
      "Requirement already satisfied: wasabi<1.1.0,>=0.4.0 in /usr/local/lib/python3.7/dist-packages (from spacy<3.0.0->texthero) (0.8.2)\n",
      "Requirement already satisfied: srsly<1.1.0,>=1.0.2 in /usr/local/lib/python3.7/dist-packages (from spacy<3.0.0->texthero) (1.0.5)\n",
      "Requirement already satisfied: plac<1.2.0,>=0.9.6 in /usr/local/lib/python3.7/dist-packages (from spacy<3.0.0->texthero) (1.1.3)\n",
      "Requirement already satisfied: murmurhash<1.1.0,>=0.28.0 in /usr/local/lib/python3.7/dist-packages (from spacy<3.0.0->texthero) (1.0.6)\n",
      "Requirement already satisfied: requests<3.0.0,>=2.13.0 in /usr/local/lib/python3.7/dist-packages (from spacy<3.0.0->texthero) (2.23.0)\n",
      "Requirement already satisfied: blis<0.5.0,>=0.4.0 in /usr/local/lib/python3.7/dist-packages (from spacy<3.0.0->texthero) (0.4.1)\n",
      "Requirement already satisfied: catalogue<1.1.0,>=0.0.7 in /usr/local/lib/python3.7/dist-packages (from spacy<3.0.0->texthero) (1.0.0)\n",
      "Requirement already satisfied: cymem<2.1.0,>=2.0.2 in /usr/local/lib/python3.7/dist-packages (from spacy<3.0.0->texthero) (2.0.6)\n",
      "Requirement already satisfied: thinc==7.4.0 in /usr/local/lib/python3.7/dist-packages (from spacy<3.0.0->texthero) (7.4.0)\n",
      "Requirement already satisfied: setuptools in /usr/local/lib/python3.7/dist-packages (from spacy<3.0.0->texthero) (57.4.0)\n",
      "Requirement already satisfied: preshed<3.1.0,>=3.0.2 in /usr/local/lib/python3.7/dist-packages (from spacy<3.0.0->texthero) (3.0.6)\n",
      "Requirement already satisfied: importlib-metadata>=0.20 in /usr/local/lib/python3.7/dist-packages (from catalogue<1.1.0,>=0.0.7->spacy<3.0.0->texthero) (4.8.2)\n",
      "Requirement already satisfied: typing-extensions>=3.6.4 in /usr/local/lib/python3.7/dist-packages (from importlib-metadata>=0.20->catalogue<1.1.0,>=0.0.7->spacy<3.0.0->texthero) (3.10.0.2)\n",
      "Requirement already satisfied: zipp>=0.5 in /usr/local/lib/python3.7/dist-packages (from importlib-metadata>=0.20->catalogue<1.1.0,>=0.0.7->spacy<3.0.0->texthero) (3.6.0)\n",
      "Requirement already satisfied: urllib3!=1.25.0,!=1.25.1,<1.26,>=1.21.1 in /usr/local/lib/python3.7/dist-packages (from requests<3.0.0,>=2.13.0->spacy<3.0.0->texthero) (1.24.3)\n",
      "Requirement already satisfied: chardet<4,>=3.0.2 in /usr/local/lib/python3.7/dist-packages (from requests<3.0.0,>=2.13.0->spacy<3.0.0->texthero) (3.0.4)\n",
      "Requirement already satisfied: certifi>=2017.4.17 in /usr/local/lib/python3.7/dist-packages (from requests<3.0.0,>=2.13.0->spacy<3.0.0->texthero) (2021.10.8)\n",
      "Requirement already satisfied: idna<3,>=2.5 in /usr/local/lib/python3.7/dist-packages (from requests<3.0.0,>=2.13.0->spacy<3.0.0->texthero) (2.10)\n",
      "Requirement already satisfied: pillow in /usr/local/lib/python3.7/dist-packages (from wordcloud>=1.5.0->texthero) (7.1.2)\n",
      "Installing collected packages: regex, unidecode, nltk, texthero\n",
      "  Attempting uninstall: regex\n",
      "    Found existing installation: regex 2019.12.20\n",
      "    Uninstalling regex-2019.12.20:\n",
      "      Successfully uninstalled regex-2019.12.20\n",
      "  Attempting uninstall: nltk\n",
      "    Found existing installation: nltk 3.2.5\n",
      "    Uninstalling nltk-3.2.5:\n",
      "      Successfully uninstalled nltk-3.2.5\n",
      "Successfully installed nltk-3.6.6 regex-2021.11.10 texthero-1.1.0 unidecode-1.3.2\n",
      "Collecting num2words\n",
      "  Downloading num2words-0.5.10-py3-none-any.whl (101 kB)\n",
      "\u001B[K     |████████████████████████████████| 101 kB 3.7 MB/s \n",
      "\u001B[?25hRequirement already satisfied: docopt>=0.6.2 in /usr/local/lib/python3.7/dist-packages (from num2words) (0.6.2)\n",
      "Installing collected packages: num2words\n",
      "Successfully installed num2words-0.5.10\n",
      "Collecting viet-text-tools\n",
      "  Downloading viet_text_tools-0.1.4-py3-none-any.whl (3.7 kB)\n",
      "Installing collected packages: viet-text-tools\n",
      "Successfully installed viet-text-tools-0.1.4\n",
      "Collecting pyvi\n",
      "  Downloading pyvi-0.1.1-py2.py3-none-any.whl (8.5 MB)\n",
      "\u001B[K     |████████████████████████████████| 8.5 MB 6.0 MB/s \n",
      "\u001B[?25hRequirement already satisfied: scikit-learn in /usr/local/lib/python3.7/dist-packages (from pyvi) (1.0.1)\n",
      "Collecting sklearn-crfsuite\n",
      "  Downloading sklearn_crfsuite-0.3.6-py2.py3-none-any.whl (12 kB)\n",
      "Requirement already satisfied: numpy>=1.14.6 in /usr/local/lib/python3.7/dist-packages (from scikit-learn->pyvi) (1.19.5)\n",
      "Requirement already satisfied: joblib>=0.11 in /usr/local/lib/python3.7/dist-packages (from scikit-learn->pyvi) (1.1.0)\n",
      "Requirement already satisfied: threadpoolctl>=2.0.0 in /usr/local/lib/python3.7/dist-packages (from scikit-learn->pyvi) (3.0.0)\n",
      "Requirement already satisfied: scipy>=1.1.0 in /usr/local/lib/python3.7/dist-packages (from scikit-learn->pyvi) (1.4.1)\n",
      "Requirement already satisfied: six in /usr/local/lib/python3.7/dist-packages (from sklearn-crfsuite->pyvi) (1.15.0)\n",
      "Collecting python-crfsuite>=0.8.3\n",
      "  Downloading python_crfsuite-0.9.7-cp37-cp37m-manylinux1_x86_64.whl (743 kB)\n",
      "\u001B[K     |████████████████████████████████| 743 kB 61.9 MB/s \n",
      "\u001B[?25hRequirement already satisfied: tabulate in /usr/local/lib/python3.7/dist-packages (from sklearn-crfsuite->pyvi) (0.8.9)\n",
      "Requirement already satisfied: tqdm>=2.0 in /usr/local/lib/python3.7/dist-packages (from sklearn-crfsuite->pyvi) (4.62.3)\n",
      "Installing collected packages: python-crfsuite, sklearn-crfsuite, pyvi\n",
      "Successfully installed python-crfsuite-0.9.7 pyvi-0.1.1 sklearn-crfsuite-0.3.6\n"
     ]
    }
   ]
  },
  {
   "cell_type": "code",
   "metadata": {
    "id": "iiiQE7dSWyQx",
    "colab": {
     "base_uri": "https://localhost:8080/"
    },
    "executionInfo": {
     "status": "ok",
     "timestamp": 1640184213005,
     "user_tz": -420,
     "elapsed": 7123,
     "user": {
      "displayName": "Binh Duong Van",
      "photoUrl": "https://lh3.googleusercontent.com/a-/AOh14Ggt0R_vpxdkA9SOrPvnHgwuzwsHmYSxz6AMEDHtsA=s64",
      "userId": "14650316510824230211"
     }
    },
    "outputId": "4ed10909-c6ea-4970-b157-1638fd029b58"
   },
   "source": [
    "import pandas as pd\n",
    "import numpy as np\n",
    "from gensim.models import KeyedVectors\n",
    "from gensim import models\n",
    "import texthero as hero\n",
    "from num2words import num2words\n",
    "from viet_text_tools import normalize_diacritics\n",
    "from pyvi import ViTokenizer\n",
    "from keras.preprocessing.text import Tokenizer\n",
    "from keras.preprocessing.sequence import pad_sequences\n",
    "from scipy.stats import pearsonr"
   ],
   "execution_count": 4,
   "outputs": [
    {
     "output_type": "stream",
     "name": "stderr",
     "text": [
      "[nltk_data] Downloading package stopwords to /root/nltk_data...\n",
      "[nltk_data]   Unzipping corpora/stopwords.zip.\n"
     ]
    }
   ]
  },
  {
   "cell_type": "code",
   "metadata": {
    "id": "lasUpFQ6eSHv",
    "executionInfo": {
     "status": "ok",
     "timestamp": 1640184221278,
     "user_tz": -420,
     "elapsed": 8311,
     "user": {
      "displayName": "Binh Duong Van",
      "photoUrl": "https://lh3.googleusercontent.com/a-/AOh14Ggt0R_vpxdkA9SOrPvnHgwuzwsHmYSxz6AMEDHtsA=s64",
      "userId": "14650316510824230211"
     }
    }
   },
   "source": [
    "w2v_model = models.KeyedVectors.load_word2vec_format(w2vec_400, binary = True)"
   ],
   "execution_count": 5,
   "outputs": []
  },
  {
   "cell_type": "code",
   "metadata": {
    "colab": {
     "base_uri": "https://localhost:8080/"
    },
    "id": "sNMfbBf3fA7A",
    "executionInfo": {
     "status": "ok",
     "timestamp": 1640184221282,
     "user_tz": -420,
     "elapsed": 48,
     "user": {
      "displayName": "Binh Duong Van",
      "photoUrl": "https://lh3.googleusercontent.com/a-/AOh14Ggt0R_vpxdkA9SOrPvnHgwuzwsHmYSxz6AMEDHtsA=s64",
      "userId": "14650316510824230211"
     }
    },
    "outputId": "93da618b-c1da-4917-b24a-532bda9ab3ac"
   },
   "source": [
    "type(w2v_model)"
   ],
   "execution_count": 6,
   "outputs": [
    {
     "output_type": "execute_result",
     "data": {
      "text/plain": [
       "gensim.models.keyedvectors.Word2VecKeyedVectors"
      ]
     },
     "metadata": {},
     "execution_count": 6
    }
   ]
  },
  {
   "cell_type": "code",
   "metadata": {
    "id": "dZEwQraEfFBh",
    "colab": {
     "base_uri": "https://localhost:8080/"
    },
    "executionInfo": {
     "status": "ok",
     "timestamp": 1640184221284,
     "user_tz": -420,
     "elapsed": 32,
     "user": {
      "displayName": "Binh Duong Van",
      "photoUrl": "https://lh3.googleusercontent.com/a-/AOh14Ggt0R_vpxdkA9SOrPvnHgwuzwsHmYSxz6AMEDHtsA=s64",
      "userId": "14650316510824230211"
     }
    },
    "outputId": "0a69d445-67bc-4889-c858-9c7273854de2"
   },
   "source": [
    "w2v_model.most_similar('lk')#tình"
   ],
   "execution_count": 7,
   "outputs": [
    {
     "output_type": "execute_result",
     "data": {
      "text/plain": [
       "[('thanh_hà_b', 0.7464016675949097),\n",
       " ('s=', 0.716158390045166),\n",
       " ('cccc', 0.6638514995574951),\n",
       " ('liền_kề', 0.65683913230896),\n",
       " ('chcc', 0.6486336588859558),\n",
       " ('Đại_học_vân_canh', 0.6474381685256958),\n",
       " ('xala', 0.6207592487335205),\n",
       " ('minh_giang_Đầm_và', 0.6187067031860352),\n",
       " ('dt', 0.5980429649353027),\n",
       " ('linh*', 0.5929301977157593)]"
      ]
     },
     "metadata": {},
     "execution_count": 7
    }
   ]
  },
  {
   "cell_type": "code",
   "metadata": {
    "id": "pdCMw2Dnf-VO",
    "executionInfo": {
     "status": "ok",
     "timestamp": 1640184221286,
     "user_tz": -420,
     "elapsed": 26,
     "user": {
      "displayName": "Binh Duong Van",
      "photoUrl": "https://lh3.googleusercontent.com/a-/AOh14Ggt0R_vpxdkA9SOrPvnHgwuzwsHmYSxz6AMEDHtsA=s64",
      "userId": "14650316510824230211"
     }
    }
   },
   "source": [
    "vocab = w2v_model.vocab"
   ],
   "execution_count": 8,
   "outputs": []
  },
  {
   "cell_type": "code",
   "metadata": {
    "id": "gCNGj0LPgsZW",
    "executionInfo": {
     "status": "ok",
     "timestamp": 1640184222163,
     "user_tz": -420,
     "elapsed": 899,
     "user": {
      "displayName": "Binh Duong Van",
      "photoUrl": "https://lh3.googleusercontent.com/a-/AOh14Ggt0R_vpxdkA9SOrPvnHgwuzwsHmYSxz6AMEDHtsA=s64",
      "userId": "14650316510824230211"
     }
    }
   },
   "source": [
    "word_vec_dict = {}\n",
    "for word in vocab:\n",
    "  word_vec_dict[word] = w2v_model.get_vector(word)"
   ],
   "execution_count": 9,
   "outputs": []
  },
  {
   "cell_type": "code",
   "source": [
    "import pickle\n",
    "\n",
    "pickle.dump(word_vec_dict, open('word_vec_dict.sav', 'wb'))"
   ],
   "metadata": {
    "id": "gHTNzY4D4p4s",
    "executionInfo": {
     "status": "ok",
     "timestamp": 1640184231188,
     "user_tz": -420,
     "elapsed": 9036,
     "user": {
      "displayName": "Binh Duong Van",
      "photoUrl": "https://lh3.googleusercontent.com/a-/AOh14Ggt0R_vpxdkA9SOrPvnHgwuzwsHmYSxz6AMEDHtsA=s64",
      "userId": "14650316510824230211"
     }
    }
   },
   "execution_count": 10,
   "outputs": []
  },
  {
   "cell_type": "code",
   "source": [
    "k = pickle.load(open('/content/word_vec_dict.sav', 'rb'))"
   ],
   "metadata": {
    "id": "5n5QOqOI4u7C",
    "executionInfo": {
     "status": "ok",
     "timestamp": 1640184232504,
     "user_tz": -420,
     "elapsed": 1328,
     "user": {
      "displayName": "Binh Duong Van",
      "photoUrl": "https://lh3.googleusercontent.com/a-/AOh14Ggt0R_vpxdkA9SOrPvnHgwuzwsHmYSxz6AMEDHtsA=s64",
      "userId": "14650316510824230211"
     }
    }
   },
   "execution_count": 11,
   "outputs": []
  },
  {
   "cell_type": "code",
   "source": [
    "type(k)"
   ],
   "metadata": {
    "colab": {
     "base_uri": "https://localhost:8080/"
    },
    "id": "iNzW0I4I9ZYV",
    "executionInfo": {
     "status": "ok",
     "timestamp": 1640184233037,
     "user_tz": -420,
     "elapsed": 559,
     "user": {
      "displayName": "Binh Duong Van",
      "photoUrl": "https://lh3.googleusercontent.com/a-/AOh14Ggt0R_vpxdkA9SOrPvnHgwuzwsHmYSxz6AMEDHtsA=s64",
      "userId": "14650316510824230211"
     }
    },
    "outputId": "9d8781c6-898b-417d-d0f4-7694132989a9"
   },
   "execution_count": 12,
   "outputs": [
    {
     "output_type": "execute_result",
     "data": {
      "text/plain": [
       "dict"
      ]
     },
     "metadata": {},
     "execution_count": 12
    }
   ]
  },
  {
   "cell_type": "markdown",
   "metadata": {
    "id": "moAAQ19hiZpO"
   },
   "source": [
    "## Data"
   ]
  },
  {
   "cell_type": "code",
   "metadata": {
    "id": "yxWQeG2PibZH",
    "executionInfo": {
     "status": "ok",
     "timestamp": 1640184235004,
     "user_tz": -420,
     "elapsed": 1986,
     "user": {
      "displayName": "Binh Duong Van",
      "photoUrl": "https://lh3.googleusercontent.com/a-/AOh14Ggt0R_vpxdkA9SOrPvnHgwuzwsHmYSxz6AMEDHtsA=s64",
      "userId": "14650316510824230211"
     }
    }
   },
   "source": [
    "data_df = pd.read_csv(full_data)\n",
    "user1_df = pd.read_csv(user_1)\n",
    "user2_df = pd.read_csv(user_2)\n",
    "user3_df = pd.read_csv(user_3)"
   ],
   "execution_count": 13,
   "outputs": []
  },
  {
   "cell_type": "code",
   "metadata": {
    "id": "ZHOyQTNRja5w",
    "executionInfo": {
     "status": "ok",
     "timestamp": 1640184586210,
     "user_tz": -420,
     "elapsed": 626,
     "user": {
      "displayName": "Binh Duong Van",
      "photoUrl": "https://lh3.googleusercontent.com/a-/AOh14Ggt0R_vpxdkA9SOrPvnHgwuzwsHmYSxz6AMEDHtsA=s64",
      "userId": "14650316510824230211"
     }
    }
   },
   "source": [
    "raw_data_track = data_df.track_name\n",
    "raw_user1_track = user1_df.track_name\n",
    "raw_user2_track = user2_df.track_name\n",
    "raw_user3_track = user3_df.track_name"
   ],
   "execution_count": 36,
   "outputs": []
  },
  {
   "cell_type": "markdown",
   "metadata": {
    "id": "3s6JUm-z8mvj"
   },
   "source": [
    "## Preprocessing"
   ]
  },
  {
   "cell_type": "code",
   "metadata": {
    "id": "FsEOHRvTsb9g",
    "executionInfo": {
     "status": "ok",
     "timestamp": 1640184596777,
     "user_tz": -420,
     "elapsed": 27,
     "user": {
      "displayName": "Binh Duong Van",
      "photoUrl": "https://lh3.googleusercontent.com/a-/AOh14Ggt0R_vpxdkA9SOrPvnHgwuzwsHmYSxz6AMEDHtsA=s64",
      "userId": "14650316510824230211"
     }
    }
   },
   "source": [
    "def num_to_words(s):\n",
    "  for w in s.split():\n",
    "    if w.isdigit():\n",
    "      s = s.replace(w, num2words(float(w), lang='vi'))\n",
    "  return s\n",
    "\n",
    "def remove_oov(s):\n",
    "  oov_list = []\n",
    "  with open(oov400, 'r') as f:\n",
    "    for w in f:\n",
    "      oov_list.append(w.strip())\n",
    "  for word in s.split():\n",
    "    if word in oov_list:\n",
    "      s = s.replace(word, '')\n",
    "  return s\n",
    "\n",
    "def preprocessing(series):\n",
    "  series = series.pipe(hero.fillna)\n",
    "  series = series.pipe(hero.lowercase)\n",
    "  series = series.pipe(hero.remove_punctuation)\n",
    "  series = series.pipe(hero.remove_whitespace)\n",
    "  series = series.apply(num_to_words)\n",
    "  series = series.apply(normalize_diacritics)\n",
    "  series = series.apply(remove_oov)\n",
    "  series = series.pipe(hero.remove_whitespace)\n",
    "  return list(series)\n",
    "\n",
    "# def out_vocab(s):\n",
    "#   word_vocab = []\n",
    "#   for word in w2v_model.vocab:\n",
    "#     word_vocab.append(word)\n",
    "#   oov_list = []\n",
    "#   for sentence in s:\n",
    "#     for word in sentence.split():\n",
    "#       if word not in word_vocab:\n",
    "#         oov_list.append(word)\n",
    "#   return oov_list"
   ],
   "execution_count": 37,
   "outputs": []
  },
  {
   "cell_type": "code",
   "metadata": {
    "id": "XLk-Z6YinQ3M",
    "executionInfo": {
     "status": "ok",
     "timestamp": 1640184596779,
     "user_tz": -420,
     "elapsed": 25,
     "user": {
      "displayName": "Binh Duong Van",
      "photoUrl": "https://lh3.googleusercontent.com/a-/AOh14Ggt0R_vpxdkA9SOrPvnHgwuzwsHmYSxz6AMEDHtsA=s64",
      "userId": "14650316510824230211"
     }
    }
   },
   "source": [
    "data_track = preprocessing(raw_data_track)\n",
    "user1_track = preprocessing(raw_user1_track)\n",
    "user2_track = preprocessing(raw_user2_track)\n",
    "user3_track = preprocessing(raw_user3_track)"
   ],
   "execution_count": 38,
   "outputs": []
  },
  {
   "cell_type": "code",
   "metadata": {
    "colab": {
     "base_uri": "https://localhost:8080/"
    },
    "id": "VpML-Vyx6daB",
    "executionInfo": {
     "status": "ok",
     "timestamp": 1640184596779,
     "user_tz": -420,
     "elapsed": 21,
     "user": {
      "displayName": "Binh Duong Van",
      "photoUrl": "https://lh3.googleusercontent.com/a-/AOh14Ggt0R_vpxdkA9SOrPvnHgwuzwsHmYSxz6AMEDHtsA=s64",
      "userId": "14650316510824230211"
     }
    },
    "outputId": "f31bebb3-98fc-42c3-8d69-a9cf500e9d93"
   },
   "source": [
    "print(len(data_track))"
   ],
   "execution_count": 39,
   "outputs": [
    {
     "output_type": "stream",
     "name": "stdout",
     "text": [
      "1781\n"
     ]
    }
   ]
  },
  {
   "cell_type": "code",
   "metadata": {
    "colab": {
     "base_uri": "https://localhost:8080/"
    },
    "id": "0kozd6ImnkRq",
    "executionInfo": {
     "status": "ok",
     "timestamp": 1640184596780,
     "user_tz": -420,
     "elapsed": 19,
     "user": {
      "displayName": "Binh Duong Van",
      "photoUrl": "https://lh3.googleusercontent.com/a-/AOh14Ggt0R_vpxdkA9SOrPvnHgwuzwsHmYSxz6AMEDHtsA=s64",
      "userId": "14650316510824230211"
     }
    },
    "outputId": "180bbbd8-4c2d-4ca2-d078-a6e4e1fe4e04"
   },
   "source": [
    "track_drop = []\n",
    "for i in range(len(data_track)):\n",
    "  if data_track[i] == '':\n",
    "    print(i, end = ', ')\n",
    "    track_drop.append(i)"
   ],
   "execution_count": 40,
   "outputs": [
    {
     "output_type": "stream",
     "name": "stdout",
     "text": [
      "47, 110, 232, 234, 243, 271, 517, 617, 647, 1315, 1345, "
     ]
    }
   ]
  },
  {
   "cell_type": "code",
   "metadata": {
    "id": "INIygwdrppDt",
    "executionInfo": {
     "status": "ok",
     "timestamp": 1640184596782,
     "user_tz": -420,
     "elapsed": 18,
     "user": {
      "displayName": "Binh Duong Van",
      "photoUrl": "https://lh3.googleusercontent.com/a-/AOh14Ggt0R_vpxdkA9SOrPvnHgwuzwsHmYSxz6AMEDHtsA=s64",
      "userId": "14650316510824230211"
     }
    }
   },
   "source": [
    "# data_df.iloc[track_drop, :]"
   ],
   "execution_count": 41,
   "outputs": []
  },
  {
   "cell_type": "code",
   "metadata": {
    "colab": {
     "base_uri": "https://localhost:8080/"
    },
    "id": "5uXy3RcRq5C9",
    "executionInfo": {
     "status": "ok",
     "timestamp": 1640184596783,
     "user_tz": -420,
     "elapsed": 17,
     "user": {
      "displayName": "Binh Duong Van",
      "photoUrl": "https://lh3.googleusercontent.com/a-/AOh14Ggt0R_vpxdkA9SOrPvnHgwuzwsHmYSxz6AMEDHtsA=s64",
      "userId": "14650316510824230211"
     }
    },
    "outputId": "a8405318-9d58-4814-fe6b-2a21cc6fb698"
   },
   "source": [
    "temp = []\n",
    "for track in data_track:\n",
    "  if track != '':\n",
    "    temp.append(track)\n",
    "data_track = temp\n",
    "del temp\n",
    "print(len(data_track))"
   ],
   "execution_count": 42,
   "outputs": [
    {
     "output_type": "stream",
     "name": "stdout",
     "text": [
      "1770\n"
     ]
    }
   ]
  },
  {
   "cell_type": "markdown",
   "metadata": {
    "id": "DaALDUE28u1j"
   },
   "source": [
    "## Embedding and similarity functons"
   ]
  },
  {
   "cell_type": "code",
   "metadata": {
    "id": "bM7Zudvs_h1I",
    "executionInfo": {
     "status": "ok",
     "timestamp": 1640184597338,
     "user_tz": -420,
     "elapsed": 56,
     "user": {
      "displayName": "Binh Duong Van",
      "photoUrl": "https://lh3.googleusercontent.com/a-/AOh14Ggt0R_vpxdkA9SOrPvnHgwuzwsHmYSxz6AMEDHtsA=s64",
      "userId": "14650316510824230211"
     }
    }
   },
   "source": [
    "embeded_dims = 400\n",
    "\n",
    "tok = Tokenizer()\n",
    "tok.fit_on_texts(data_track)\n",
    "vocab_size = len(tok.word_index) + 1"
   ],
   "execution_count": 43,
   "outputs": []
  },
  {
   "cell_type": "code",
   "metadata": {
    "colab": {
     "base_uri": "https://localhost:8080/"
    },
    "id": "gsqGnS0R86fn",
    "executionInfo": {
     "status": "ok",
     "timestamp": 1640184597341,
     "user_tz": -420,
     "elapsed": 53,
     "user": {
      "displayName": "Binh Duong Van",
      "photoUrl": "https://lh3.googleusercontent.com/a-/AOh14Ggt0R_vpxdkA9SOrPvnHgwuzwsHmYSxz6AMEDHtsA=s64",
      "userId": "14650316510824230211"
     }
    },
    "outputId": "91f5b5b8-c360-4465-b368-9caff249225f"
   },
   "source": [
    "max_seq = 1\n",
    "for track in data_track:\n",
    "  if len(track.split()) > max_seq:\n",
    "    max_seq = len(track.split())\n",
    "print(max_seq)"
   ],
   "execution_count": 44,
   "outputs": [
    {
     "output_type": "stream",
     "name": "stdout",
     "text": [
      "17\n"
     ]
    }
   ]
  },
  {
   "cell_type": "code",
   "metadata": {
    "id": "IV2F9-xsvd3K",
    "executionInfo": {
     "status": "ok",
     "timestamp": 1640184597345,
     "user_tz": -420,
     "elapsed": 50,
     "user": {
      "displayName": "Binh Duong Van",
      "photoUrl": "https://lh3.googleusercontent.com/a-/AOh14Ggt0R_vpxdkA9SOrPvnHgwuzwsHmYSxz6AMEDHtsA=s64",
      "userId": "14650316510824230211"
     }
    }
   },
   "source": [
    "def seq_padding(data, maxlen):\n",
    "  encoded_seq_matrix = tok.texts_to_sequences(data)\n",
    "  padded_seq_matrix = pad_sequences(encoded_seq_matrix, maxlen=maxlen, padding = 'post')\n",
    "  return padded_seq_matrix\n",
    "\n",
    "def embedding(padded, maxlen):\n",
    "  embeded_matrix = np.zeros(shape = (vocab_size, embeded_dims))\n",
    "  # embeded_matrix.setflags(write=1)\n",
    "  for word, i in tok.word_index.items():\n",
    "    embed_vector = word_vec_dict.get(word)\n",
    "    if embed_vector is not None:\n",
    "      embeded_matrix[i] = embed_vector\n",
    "  \n",
    "  embeddings = []\n",
    "  for seq in padded: # get each padded sequence\n",
    "    # temp = pd.Series()\n",
    "    # for i in range(len(seq)):\n",
    "    #   temp = pd.concat([temp, pd.Series(embeded_matrix[seq[i]])])\n",
    "    # temp = np.array(temp).reshape(-1, embeded_dims)\n",
    "    # embeddings.append(temp)\n",
    "    temp = []\n",
    "    for i in range(len(seq)):\n",
    "      temp.append(np.mean(embeded_matrix[seq[i]]))\n",
    "    embeddings.append(temp)\n",
    "    del temp\n",
    "  return np.array(embeddings)\n",
    "\n",
    "def cosine_sim(x, y):\n",
    "  k = np.dot(x, y.T)/(np.linalg.norm(x) * np.linalg.norm(y))\n",
    "  return k\n",
    "\n",
    "def pearson_sim(x, y):\n",
    "  k, _ = pearsonr(x, y)\n",
    "  return k"
   ],
   "execution_count": 45,
   "outputs": []
  },
  {
   "cell_type": "code",
   "metadata": {
    "id": "SMn6JXAQAVVe",
    "colab": {
     "base_uri": "https://localhost:8080/"
    },
    "executionInfo": {
     "status": "ok",
     "timestamp": 1640184597348,
     "user_tz": -420,
     "elapsed": 48,
     "user": {
      "displayName": "Binh Duong Van",
      "photoUrl": "https://lh3.googleusercontent.com/a-/AOh14Ggt0R_vpxdkA9SOrPvnHgwuzwsHmYSxz6AMEDHtsA=s64",
      "userId": "14650316510824230211"
     }
    },
    "outputId": "3359bec7-9ed9-400b-b065-5e068f991365"
   },
   "source": [
    "padded_track = seq_padding(data_track, max_seq)\n",
    "padded_user1 = seq_padding(user1_track, max_seq)\n",
    "padded_user2 = seq_padding(user2_track, max_seq)\n",
    "padded_user3 = seq_padding(user3_track, max_seq)\n",
    "print(padded_track)\n",
    "print(padded_user1)\n",
    "print(padded_user2)\n",
    "print(padded_user3)"
   ],
   "execution_count": 46,
   "outputs": [
    {
     "output_type": "stream",
     "name": "stdout",
     "text": [
      "[[ 23 182 307 ...   0   0   0]\n",
      " [363  72 254 ...   0   0   0]\n",
      " [216  21  20 ...   0   0   0]\n",
      " ...\n",
      " [ 45  42 173 ...   0   0   0]\n",
      " [132 104 160 ...   0   0   0]\n",
      " [421 150 807 ...   0   0   0]]\n",
      "[[ 310   27  393   87   11    0    0    0    0    0    0    0    0    0\n",
      "     0    0    0]\n",
      " [1313  256   68  560    0    0    0    0    0    0    0    0    0    0\n",
      "     0    0    0]\n",
      " [ 683  171  428 1005  288    0    0    0    0    0    0    0    0    0\n",
      "     0    0    0]\n",
      " [  14  310    4    9   93    0    0    0    0    0    0    0    0    0\n",
      "     0    0    0]\n",
      " [ 216   21   20  594  183    0    0    0    0    0    0    0    0    0\n",
      "     0    0    0]\n",
      " [ 216   21    7  621   11   13    0    0    0    0    0    0    0    0\n",
      "     0    0    0]\n",
      " [ 483  258   59    1    0    0    0    0    0    0    0    0    0    0\n",
      "     0    0    0]\n",
      " [ 363   72  254   19   26    0    0    0    0    0    0    0    0    0\n",
      "     0    0    0]\n",
      " [ 109  125   14    3    0    0    0    0    0    0    0    0    0    0\n",
      "     0    0    0]\n",
      " [ 239  141   94  353    0    0    0    0    0    0    0    0    0    0\n",
      "     0    0    0]\n",
      " [ 969  970   28  524   47   22    0    0    0    0    0    0    0    0\n",
      "     0    0    0]\n",
      " [   3  189   72    0    0    0    0    0    0    0    0    0    0    0\n",
      "     0    0    0]\n",
      " [ 848  228   94   13   82    0    0    0    0    0    0    0    0    0\n",
      "     0    0    0]]\n",
      "[[ 21 186  10 264  13  50  89 100  20  90   0   0   0   0   0   0   0]\n",
      " [260 232   0   0   0   0   0   0   0   0   0   0   0   0   0   0   0]\n",
      " [193  41  50  89 100  20  90   0   0   0   0   0   0   0   0   0   0]\n",
      " [410   1  67   3 236 276  66   0   0   0   0   0   0   0   0   0   0]\n",
      " [217 671 147   0   0   0   0   0   0   0   0   0   0   0   0   0   0]\n",
      " [124  41 155  50  89 100  20  90   0   0   0   0   0   0   0   0   0]\n",
      " [  8 294 123  28   0   0   0   0   0   0   0   0   0   0   0   0   0]\n",
      " [ 55 187 168 124 261 829   0   0   0   0   0   0   0   0   0   0   0]\n",
      " [252 456   0   0   0   0   0   0   0   0   0   0   0   0   0   0   0]\n",
      " [ 10 327 198 199  55   0   0   0   0   0   0   0   0   0   0   0   0]\n",
      " [  3 609 111  66 124 490   1   0   0   0   0   0   0   0   0   0   0]\n",
      " [410   1  67   3 236 276  66  50  89 100  20  90   0   0   0   0   0]\n",
      " [ 17 385 322 936  48   0   0   0   0   0   0   0   0   0   0   0   0]\n",
      " [ 10 327 198 199  55  50  89 100  20  90   0   0   0   0   0   0   0]\n",
      " [ 10  11 147   0   0   0   0   0   0   0   0   0   0   0   0   0   0]\n",
      " [ 16 105 115 530 957   0   0   0   0   0   0   0   0   0   0   0   0]\n",
      " [220 125 256 479   0   0   0   0   0   0   0   0   0   0   0   0   0]\n",
      " [ 29 238   3   9 966   0   0   0   0   0   0   0   0   0   0   0   0]\n",
      " [ 71  54 421  13   0   0   0   0   0   0   0   0   0   0   0   0   0]\n",
      " [367  73   0   0   0   0   0   0   0   0   0   0   0   0   0   0   0]\n",
      " [  8 224 839   0   0   0   0   0   0   0   0   0   0   0   0   0   0]\n",
      " [ 21 186  10 264  13   0   0   0   0   0   0   0   0   0   0   0   0]\n",
      " [ 23 224  41  50  89 100  20  90   0   0   0   0   0   0   0   0   0]\n",
      " [ 17 161 162   0   0   0   0   0   0   0   0   0   0   0   0   0   0]\n",
      " [ 23 224  41 560   0   0   0   0   0   0   0   0   0   0   0   0   0]\n",
      " [  3 609 111  66 124 490   1  50  89 100  20  90   0   0   0   0   0]\n",
      " [ 22   0   0   0   0   0   0   0   0   0   0   0   0   0   0   0   0]\n",
      " [921 922   0   0   0   0   0   0   0   0   0   0   0   0   0   0   0]\n",
      " [317  13  10 367  50  89 100  20  90   0   0   0   0   0   0   0   0]\n",
      " [ 37 149 620  59   0   0   0   0   0   0   0   0   0   0   0   0   0]\n",
      " [ 22  50  89 100  20  90   0   0   0   0   0   0   0   0   0   0   0]\n",
      " [ 55  77  31  75 119 678  50  89 100  20  90   0   0   0   0   0   0]]\n",
      "[[   1  314    0    0    0    0    0    0    0    0    0    0    0    0\n",
      "     0    0    0]\n",
      " [ 214  250   62    0    0    0    0    0    0    0    0    0    0    0\n",
      "     0    0    0]\n",
      " [1329    0    0    0    0    0    0    0    0    0    0    0    0    0\n",
      "     0    0    0]\n",
      " [  97   34    1    0    0    0    0    0    0    0    0    0    0    0\n",
      "     0    0    0]\n",
      " [ 109   86    0    0    0    0    0    0    0    0    0    0    0    0\n",
      "     0    0    0]\n",
      " [ 102  431 1399    0    0    0    0    0    0    0    0    0    0    0\n",
      "     0    0    0]\n",
      " [   2   25  358  378    0    0    0    0    0    0    0    0    0    0\n",
      "     0    0    0]\n",
      " [  18    1    0    0    0    0    0    0    0    0    0    0    0    0\n",
      "     0    0    0]\n",
      " [  85    9   47   22    0    0    0    0    0    0    0    0    0    0\n",
      "     0    0    0]\n",
      " [  45   93    1   38    8  326  197    0    0    0    0    0    0    0\n",
      "     0    0    0]\n",
      " [ 305    0    0    0    0    0    0    0    0    0    0    0    0    0\n",
      "     0    0    0]\n",
      " [ 173  493  465   68    0    0    0    0    0    0    0    0    0    0\n",
      "     0    0    0]\n",
      " [ 166  144  383  288    1    0    0    0    0    0    0    0    0    0\n",
      "     0    0    0]\n",
      " [ 121  774  171  129    0    0    0    0    0    0    0    0    0    0\n",
      "     0    0    0]\n",
      " [ 193   41   50   89  100   20   90    0    0    0    0    0    0    0\n",
      "     0    0    0]\n",
      " [   2    4   26   51    0    0    0    0    0    0    0    0    0    0\n",
      "     0    0    0]\n",
      " [1251   94  225  284  291    0    0    0    0    0    0    0    0    0\n",
      "     0    0    0]\n",
      " [ 170  194  146  297    0    0    0    0    0    0    0    0    0    0\n",
      "     0    0    0]\n",
      " [   4   34  208   22    0    0    0    0    0    0    0    0    0    0\n",
      "     0    0    0]\n",
      " [  71   67   12    1    0    0    0    0    0    0    0    0    0    0\n",
      "     0    0    0]]\n"
     ]
    }
   ]
  },
  {
   "cell_type": "code",
   "metadata": {
    "id": "s4W3NDs36p3k",
    "colab": {
     "base_uri": "https://localhost:8080/"
    },
    "executionInfo": {
     "status": "ok",
     "timestamp": 1640184597353,
     "user_tz": -420,
     "elapsed": 46,
     "user": {
      "displayName": "Binh Duong Van",
      "photoUrl": "https://lh3.googleusercontent.com/a-/AOh14Ggt0R_vpxdkA9SOrPvnHgwuzwsHmYSxz6AMEDHtsA=s64",
      "userId": "14650316510824230211"
     }
    },
    "outputId": "dd3fed9d-36b8-40da-f802-6662ddf85ab0"
   },
   "source": [
    "embeded_track = embedding(padded_track, max_seq)\n",
    "embedded_user1 = embedding(padded_user1, max_seq)\n",
    "embedded_user2 = embedding(padded_user2, max_seq)\n",
    "embedded_user3 = embedding(padded_user3, max_seq)\n",
    "print(embeded_track)\n",
    "print(embedded_user1)\n",
    "print(embedded_user2)\n",
    "print(embedded_user3)"
   ],
   "execution_count": 47,
   "outputs": [
    {
     "output_type": "stream",
     "name": "stdout",
     "text": [
      "[[ 0.08403356 -0.02541728  0.03174873 ...  0.          0.\n",
      "   0.        ]\n",
      " [-0.03130917 -0.04701964 -0.1238172  ...  0.          0.\n",
      "   0.        ]\n",
      " [-0.04028999 -0.09138102 -0.01422054 ...  0.          0.\n",
      "   0.        ]\n",
      " ...\n",
      " [ 0.09853326  0.01828721  0.04342335 ...  0.          0.\n",
      "   0.        ]\n",
      " [ 0.10175381 -0.05758433  0.02685704 ...  0.          0.\n",
      "   0.        ]\n",
      " [-0.07868152  0.08431231 -0.12648652 ...  0.          0.\n",
      "   0.        ]]\n",
      "[[-0.00665436 -0.05368769  0.03820119 -0.14003186 -0.00520911  0.\n",
      "   0.          0.          0.          0.          0.          0.\n",
      "   0.          0.          0.          0.          0.        ]\n",
      " [ 0.00451962 -0.02977728  0.01461879 -0.01424627  0.          0.\n",
      "   0.          0.          0.          0.          0.          0.\n",
      "   0.          0.          0.          0.          0.        ]\n",
      " [ 0.06071658  0.02026855  0.05153608  0.06919722  0.02898023  0.\n",
      "   0.          0.          0.          0.          0.          0.\n",
      "   0.          0.          0.          0.          0.        ]\n",
      " [-0.07527336 -0.00665436 -0.04217839  0.04703849 -0.06551244  0.\n",
      "   0.          0.          0.          0.          0.          0.\n",
      "   0.          0.          0.          0.          0.        ]\n",
      " [-0.04028999 -0.09138102 -0.01422054  0.08388433  0.18682411  0.\n",
      "   0.          0.          0.          0.          0.          0.\n",
      "   0.          0.          0.          0.          0.        ]\n",
      " [-0.04028999 -0.09138102  0.03860201  0.06705801 -0.00520911 -0.02319603\n",
      "   0.          0.          0.          0.          0.          0.\n",
      "   0.          0.          0.          0.          0.        ]\n",
      " [-0.0235662   0.07446732  0.06081066 -0.08681032  0.          0.\n",
      "   0.          0.          0.          0.          0.          0.\n",
      "   0.          0.          0.          0.          0.        ]\n",
      " [-0.03130917 -0.04701964 -0.1238172   0.08285239 -0.01211021  0.\n",
      "   0.          0.          0.          0.          0.          0.\n",
      "   0.          0.          0.          0.          0.        ]\n",
      " [ 0.02966711 -0.09483602 -0.07527336 -0.13977821  0.          0.\n",
      "   0.          0.          0.          0.          0.          0.\n",
      "   0.          0.          0.          0.          0.        ]\n",
      " [-0.04591776  0.10980433 -0.02856312  0.01407142  0.          0.\n",
      "   0.          0.          0.          0.          0.          0.\n",
      "   0.          0.          0.          0.          0.        ]\n",
      " [ 0.10367789  0.13193453 -0.05253194  0.061292   -0.09540836 -0.01539094\n",
      "   0.          0.          0.          0.          0.          0.\n",
      "   0.          0.          0.          0.          0.        ]\n",
      " [-0.13977821  0.04390504 -0.04701964  0.          0.          0.\n",
      "   0.          0.          0.          0.          0.          0.\n",
      "   0.          0.          0.          0.          0.        ]\n",
      " [-0.013399    0.08821542 -0.02856312 -0.02319603  0.00634812  0.\n",
      "   0.          0.          0.          0.          0.          0.\n",
      "   0.          0.          0.          0.          0.        ]]\n",
      "[[-0.09138102 -0.10262829 -0.12230588 -0.03535642 -0.02319603 -0.00652116\n",
      "  -0.06174595  0.00287653 -0.01422054  0.11198775  0.          0.\n",
      "   0.          0.          0.          0.          0.        ]\n",
      " [ 0.01653637 -0.01446894  0.          0.          0.          0.\n",
      "   0.          0.          0.          0.          0.          0.\n",
      "   0.          0.          0.          0.          0.        ]\n",
      " [-0.0712614  -0.10899992 -0.00652116 -0.06174595  0.00287653 -0.01422054\n",
      "   0.11198775  0.          0.          0.          0.          0.\n",
      "   0.          0.          0.          0.          0.        ]\n",
      " [ 0.09324244 -0.08681032  0.06151174 -0.13977821 -0.0605245  -0.09871822\n",
      "  -0.09799022  0.          0.          0.          0.          0.\n",
      "   0.          0.          0.          0.          0.        ]\n",
      " [ 0.06965032  0.0918627  -0.02960861  0.          0.          0.\n",
      "   0.          0.          0.          0.          0.          0.\n",
      "   0.          0.          0.          0.          0.        ]\n",
      " [-0.09914476 -0.10899992 -0.09870637 -0.00652116 -0.06174595  0.00287653\n",
      "  -0.01422054  0.11198775  0.          0.          0.          0.\n",
      "   0.          0.          0.          0.          0.        ]\n",
      " [ 0.03593618 -0.02362675 -0.18919418 -0.05253194  0.          0.\n",
      "   0.          0.          0.          0.          0.          0.\n",
      "   0.          0.          0.          0.          0.        ]\n",
      " [-0.0469108   0.03117618  0.09810787 -0.09914476  0.08013449  0.21314229\n",
      "   0.          0.          0.          0.          0.          0.\n",
      "   0.          0.          0.          0.          0.        ]\n",
      " [-0.12688493 -0.01696589  0.          0.          0.          0.\n",
      "   0.          0.          0.          0.          0.          0.\n",
      "   0.          0.          0.          0.          0.        ]\n",
      " [-0.12230588 -0.06274611 -0.02665068 -0.02440367 -0.0469108   0.\n",
      "   0.          0.          0.          0.          0.          0.\n",
      "   0.          0.          0.          0.          0.        ]\n",
      " [-0.13977821  0.00424932 -0.14538851 -0.09799022 -0.09914476 -0.01406295\n",
      "  -0.08681032  0.          0.          0.          0.          0.\n",
      "   0.          0.          0.          0.          0.        ]\n",
      " [ 0.09324244 -0.08681032  0.06151174 -0.13977821 -0.0605245  -0.09871822\n",
      "  -0.09799022 -0.00652116 -0.06174595  0.00287653 -0.01422054  0.11198775\n",
      "   0.          0.          0.          0.          0.        ]\n",
      " [ 0.01557627 -0.03333732 -0.1049927  -0.01140125  0.05051406  0.\n",
      "   0.          0.          0.          0.          0.          0.\n",
      "   0.          0.          0.          0.          0.        ]\n",
      " [-0.12230588 -0.06274611 -0.02665068 -0.02440367 -0.0469108  -0.00652116\n",
      "  -0.06174595  0.00287653 -0.01422054  0.11198775  0.          0.\n",
      "   0.          0.          0.          0.          0.        ]\n",
      " [-0.12230588 -0.00520911 -0.02960861  0.          0.          0.\n",
      "   0.          0.          0.          0.          0.          0.\n",
      "   0.          0.          0.          0.          0.        ]\n",
      " [ 0.15884614  0.0870178  -0.09387451  0.10344194 -0.00511956  0.\n",
      "   0.          0.          0.          0.          0.          0.\n",
      "   0.          0.          0.          0.          0.        ]\n",
      " [-0.01117428 -0.09483602 -0.02977728  0.01524455  0.          0.\n",
      "   0.          0.          0.          0.          0.          0.\n",
      "   0.          0.          0.          0.          0.        ]\n",
      " [-0.03308487  0.12129452 -0.13977821  0.04703849  0.09384469  0.\n",
      "   0.          0.          0.          0.          0.          0.\n",
      "   0.          0.          0.          0.          0.        ]\n",
      " [-0.08996341 -0.19564332 -0.07868152 -0.02319603  0.          0.\n",
      "   0.          0.          0.          0.          0.          0.\n",
      "   0.          0.          0.          0.          0.        ]\n",
      " [ 0.01998152 -0.09504251  0.          0.          0.          0.\n",
      "   0.          0.          0.          0.          0.          0.\n",
      "   0.          0.          0.          0.          0.        ]\n",
      " [ 0.03593618  0.17293337  0.00857076  0.          0.          0.\n",
      "   0.          0.          0.          0.          0.          0.\n",
      "   0.          0.          0.          0.          0.        ]\n",
      " [-0.09138102 -0.10262829 -0.12230588 -0.03535642 -0.02319603  0.\n",
      "   0.          0.          0.          0.          0.          0.\n",
      "   0.          0.          0.          0.          0.        ]\n",
      " [ 0.08403356  0.17293337 -0.10899992 -0.00652116 -0.06174595  0.00287653\n",
      "  -0.01422054  0.11198775  0.          0.          0.          0.\n",
      "   0.          0.          0.          0.          0.        ]\n",
      " [ 0.01557627 -0.00400794 -0.00259266  0.          0.          0.\n",
      "   0.          0.          0.          0.          0.          0.\n",
      "   0.          0.          0.          0.          0.        ]\n",
      " [ 0.08403356  0.17293337 -0.10899992 -0.01424627  0.          0.\n",
      "   0.          0.          0.          0.          0.          0.\n",
      "   0.          0.          0.          0.          0.        ]\n",
      " [-0.13977821  0.00424932 -0.14538851 -0.09799022 -0.09914476 -0.01406295\n",
      "  -0.08681032 -0.00652116 -0.06174595  0.00287653 -0.01422054  0.11198775\n",
      "   0.          0.          0.          0.          0.        ]\n",
      " [-0.01539094  0.          0.          0.          0.          0.\n",
      "   0.          0.          0.          0.          0.          0.\n",
      "   0.          0.          0.          0.          0.        ]\n",
      " [ 0.01823344  0.05971492  0.          0.          0.          0.\n",
      "   0.          0.          0.          0.          0.          0.\n",
      "   0.          0.          0.          0.          0.        ]\n",
      " [-0.10401145 -0.02319603 -0.12230588  0.01998152 -0.00652116 -0.06174595\n",
      "   0.00287653 -0.01422054  0.11198775  0.          0.          0.\n",
      "   0.          0.          0.          0.          0.        ]\n",
      " [-0.16770962  0.0803289   0.06195524  0.06081066  0.          0.\n",
      "   0.          0.          0.          0.          0.          0.\n",
      "   0.          0.          0.          0.          0.        ]\n",
      " [-0.01539094 -0.00652116 -0.06174595  0.00287653 -0.01422054  0.11198775\n",
      "   0.          0.          0.          0.          0.          0.\n",
      "   0.          0.          0.          0.          0.        ]\n",
      " [-0.0469108   0.15652423 -0.06018293  0.08768303 -0.07112399  0.01425339\n",
      "  -0.00652116 -0.06174595  0.00287653 -0.01422054  0.11198775  0.\n",
      "   0.          0.          0.          0.          0.        ]]\n",
      "[[-0.08681032 -0.00312764  0.          0.          0.          0.\n",
      "   0.          0.          0.          0.          0.          0.\n",
      "   0.          0.          0.          0.          0.        ]\n",
      " [ 0.13173468  0.11709445  0.07158602  0.          0.          0.\n",
      "   0.          0.          0.          0.          0.          0.\n",
      "   0.          0.          0.          0.          0.        ]\n",
      " [ 0.0368176   0.          0.          0.          0.          0.\n",
      "   0.          0.          0.          0.          0.          0.\n",
      "   0.          0.          0.          0.          0.        ]\n",
      " [-0.24380742 -0.12059583 -0.08681032  0.          0.          0.\n",
      "   0.          0.          0.          0.          0.          0.\n",
      "   0.          0.          0.          0.          0.        ]\n",
      " [ 0.02966711 -0.12504703  0.          0.          0.          0.\n",
      "   0.          0.          0.          0.          0.          0.\n",
      "   0.          0.          0.          0.          0.        ]\n",
      " [ 0.09899573  0.09533872  0.01893677  0.          0.          0.\n",
      "   0.          0.          0.          0.          0.          0.\n",
      "   0.          0.          0.          0.          0.        ]\n",
      " [ 0.01529643  0.1651241   0.02533153  0.0420159   0.          0.\n",
      "   0.          0.          0.          0.          0.          0.\n",
      "   0.          0.          0.          0.          0.        ]\n",
      " [-0.07411644 -0.08681032  0.          0.          0.          0.\n",
      "   0.          0.          0.          0.          0.          0.\n",
      "   0.          0.          0.          0.          0.        ]\n",
      " [-0.0468667   0.04703849 -0.09540836 -0.01539094  0.          0.\n",
      "   0.          0.          0.          0.          0.          0.\n",
      "   0.          0.          0.          0.          0.        ]\n",
      " [ 0.09853326 -0.06551244 -0.08681032 -0.04817667  0.03593618 -0.07130166\n",
      "   0.08936076  0.          0.          0.          0.          0.\n",
      "   0.          0.          0.          0.          0.        ]\n",
      " [-0.11245428  0.          0.          0.          0.          0.\n",
      "   0.          0.          0.          0.          0.          0.\n",
      "   0.          0.          0.          0.          0.        ]\n",
      " [ 0.04342335 -0.01404266  0.00850559  0.01461879  0.          0.\n",
      "   0.          0.          0.          0.          0.          0.\n",
      "   0.          0.          0.          0.          0.        ]\n",
      " [-0.06291923 -0.1027816  -0.06954651  0.02898023 -0.08681032  0.\n",
      "   0.          0.          0.          0.          0.          0.\n",
      "   0.          0.          0.          0.          0.        ]\n",
      " [ 0.03283095 -0.0323129   0.02026855 -0.06904297  0.          0.\n",
      "   0.          0.          0.          0.          0.          0.\n",
      "   0.          0.          0.          0.          0.        ]\n",
      " [-0.0712614  -0.10899992 -0.00652116 -0.06174595  0.00287653 -0.01422054\n",
      "   0.11198775  0.          0.          0.          0.          0.\n",
      "   0.          0.          0.          0.          0.        ]\n",
      " [ 0.01529643 -0.04217839 -0.01211021 -0.17912103  0.          0.\n",
      "   0.          0.          0.          0.          0.          0.\n",
      "   0.          0.          0.          0.          0.        ]\n",
      " [ 0.06700012 -0.02856312  0.00377682 -0.05115237 -0.08255045  0.\n",
      "   0.          0.          0.          0.          0.          0.\n",
      "   0.          0.          0.          0.          0.        ]\n",
      " [ 0.01926497 -0.05954532  0.06675518 -0.02058221  0.          0.\n",
      "   0.          0.          0.          0.          0.          0.\n",
      "   0.          0.          0.          0.          0.        ]\n",
      " [-0.04217839 -0.12059583  0.03892735 -0.01539094  0.          0.\n",
      "   0.          0.          0.          0.          0.          0.\n",
      "   0.          0.          0.          0.          0.        ]\n",
      " [-0.08996341  0.06151174 -0.16232401 -0.08681032  0.          0.\n",
      "   0.          0.          0.          0.          0.          0.\n",
      "   0.          0.          0.          0.          0.        ]]\n"
     ]
    }
   ]
  },
  {
   "cell_type": "markdown",
   "metadata": {
    "id": "8lfSQFJNtA6d"
   },
   "source": [
    "## Arrange track_name and its feature extraction"
   ]
  },
  {
   "cell_type": "code",
   "metadata": {
    "id": "3aoXHPrsvl2A",
    "executionInfo": {
     "status": "ok",
     "timestamp": 1640184598037,
     "user_tz": -420,
     "elapsed": 29,
     "user": {
      "displayName": "Binh Duong Van",
      "photoUrl": "https://lh3.googleusercontent.com/a-/AOh14Ggt0R_vpxdkA9SOrPvnHgwuzwsHmYSxz6AMEDHtsA=s64",
      "userId": "14650316510824230211"
     }
    }
   },
   "source": [
    "def fillback_data(data_track, user1_track, user2_track, user3_track):\n",
    "  data_track_name = data_df.track_name\n",
    "  user1_track_name = user1_df.track_name\n",
    "  user2_track_name = user2_df.track_name\n",
    "  user3_track_name = user3_df.track_name\n",
    "  data_track_name.drop(track_drop, inplace = True)\n",
    "  data_track_name.reset_index(drop = True, inplace = True)\n",
    "\n",
    "  df = pd.DataFrame()\n",
    "  df['org_name'] = data_track_name\n",
    "  df['preprocessed_name'] = data_track\n",
    "  df['padding_name'] = list(map(lambda row: row, padded_track))\n",
    "  df['embedding_name'] = list(map(lambda row: row, embeded_track))\n",
    "\n",
    "  df1 = pd.DataFrame()\n",
    "  df1['org_name'] = user1_track_name\n",
    "  df1['preprocessed_name'] = user1_track\n",
    "  df1['padding_name'] = list(map(lambda row: row, padded_user1))\n",
    "  df1['embedding_name'] = list(map(lambda row: row, embedded_user1))\n",
    "\n",
    "  df2 = pd.DataFrame()\n",
    "  df2['org_name'] = user2_track_name\n",
    "  df2['preprocessed_name'] = user2_track\n",
    "  df2['padding_name'] = list(map(lambda row: row, padded_user2))\n",
    "  df2['embedding_name'] = list(map(lambda row: row, embedded_user2))\n",
    "\n",
    "  df3 = pd.DataFrame()\n",
    "  df3['org_name'] = user3_track_name\n",
    "  df3['preprocessed_name'] = user3_track\n",
    "  df3['padding_name'] = list(map(lambda row: row, padded_user3))\n",
    "  df3['embedding_name'] = list(map(lambda row: row, embedded_user3))\n",
    "\n",
    "  return df, df1, df2, df3"
   ],
   "execution_count": 48,
   "outputs": []
  },
  {
   "cell_type": "code",
   "metadata": {
    "id": "LSyEtL5cyF8H",
    "executionInfo": {
     "status": "ok",
     "timestamp": 1640184598038,
     "user_tz": -420,
     "elapsed": 28,
     "user": {
      "displayName": "Binh Duong Van",
      "photoUrl": "https://lh3.googleusercontent.com/a-/AOh14Ggt0R_vpxdkA9SOrPvnHgwuzwsHmYSxz6AMEDHtsA=s64",
      "userId": "14650316510824230211"
     }
    }
   },
   "source": [
    "f_data_track, f_user1_track, f_user2_track, f_user3_track = fillback_data(data_track, user1_track, user2_track, user3_track)"
   ],
   "execution_count": 49,
   "outputs": []
  },
  {
   "cell_type": "code",
   "metadata": {
    "colab": {
     "base_uri": "https://localhost:8080/",
     "height": 36
    },
    "id": "2wObTeVa5qhK",
    "executionInfo": {
     "status": "ok",
     "timestamp": 1640184598039,
     "user_tz": -420,
     "elapsed": 27,
     "user": {
      "displayName": "Binh Duong Van",
      "photoUrl": "https://lh3.googleusercontent.com/a-/AOh14Ggt0R_vpxdkA9SOrPvnHgwuzwsHmYSxz6AMEDHtsA=s64",
      "userId": "14650316510824230211"
     }
    },
    "outputId": "6804f37d-d8ad-4f61-879d-4a47c59507c2"
   },
   "source": [
    "user1_track[1]"
   ],
   "execution_count": 50,
   "outputs": [
    {
     "output_type": "execute_result",
     "data": {
      "application/vnd.google.colaboratory.intrinsic+json": {
       "type": "string"
      },
      "text/plain": [
       "'dnb chill original mix'"
      ]
     },
     "metadata": {},
     "execution_count": 50
    }
   ]
  },
  {
   "cell_type": "code",
   "metadata": {
    "colab": {
     "base_uri": "https://localhost:8080/"
    },
    "id": "t7BZZaKK55TP",
    "executionInfo": {
     "status": "ok",
     "timestamp": 1640184598040,
     "user_tz": -420,
     "elapsed": 23,
     "user": {
      "displayName": "Binh Duong Van",
      "photoUrl": "https://lh3.googleusercontent.com/a-/AOh14Ggt0R_vpxdkA9SOrPvnHgwuzwsHmYSxz6AMEDHtsA=s64",
      "userId": "14650316510824230211"
     }
    },
    "outputId": "6541ba71-2914-494a-be6a-babe43fa4425"
   },
   "source": [
    "f_user1_track.iloc[1, :]"
   ],
   "execution_count": 51,
   "outputs": [
    {
     "output_type": "execute_result",
     "data": {
      "text/plain": [
       "org_name                                      DnB Chill (Original Mix)\n",
       "preprocessed_name                               dnb chill original mix\n",
       "padding_name         [1313, 256, 68, 560, 0, 0, 0, 0, 0, 0, 0, 0, 0...\n",
       "embedding_name       [0.004519624118984211, -0.0297772849915782, 0....\n",
       "Name: 1, dtype: object"
      ]
     },
     "metadata": {},
     "execution_count": 51
    }
   ]
  },
  {
   "cell_type": "markdown",
   "metadata": {
    "id": "p9wOaXHEMokP"
   },
   "source": [
    "## Experiments on recommendations"
   ]
  },
  {
   "cell_type": "code",
   "metadata": {
    "id": "A77_nCc3Mv7d",
    "executionInfo": {
     "status": "ok",
     "timestamp": 1640185083846,
     "user_tz": -420,
     "elapsed": 549,
     "user": {
      "displayName": "Binh Duong Van",
      "photoUrl": "https://lh3.googleusercontent.com/a-/AOh14Ggt0R_vpxdkA9SOrPvnHgwuzwsHmYSxz6AMEDHtsA=s64",
      "userId": "14650316510824230211"
     }
    }
   },
   "source": [
    "def top_10_similarity(user_embedded_track, raw_user_track, similarity = 'cosine'):\n",
    "  if similarity.lower() not in ['cosine', 'pearson']:\n",
    "    return None\n",
    "\n",
    "  f_data_track, _, __, ___ = fillback_data(data_track, user1_track, user2_track, user3_track)\n",
    "  temp = []\n",
    "  if similarity.lower() == 'cosine':\n",
    "    for name, embed in zip(f_data_track.org_name, f_data_track.embedding_name):\n",
    "      if name in list(raw_user_track): continue\n",
    "      sim = cosine_sim(user_embedded_track, np.array(embed))\n",
    "      temp.append((name, sim))\n",
    "  \n",
    "  else:\n",
    "    for name, embed in zip(f_data_track.org_name, f_data_track.embedding_name):\n",
    "      if name in list(raw_user_track): continue\n",
    "      sim = pearson_sim(user_embedded_track, np.array(embed))\n",
    "      temp.append((name, sim))\n",
    "  \n",
    "  temp.sort(key = lambda x: x[1], reverse = True)\n",
    "  return temp[:10]"
   ],
   "execution_count": 70,
   "outputs": []
  },
  {
   "cell_type": "code",
   "metadata": {
    "id": "PfI3ZF3XBU7R",
    "executionInfo": {
     "status": "ok",
     "timestamp": 1640185087172,
     "user_tz": -420,
     "elapsed": 2805,
     "user": {
      "displayName": "Binh Duong Van",
      "photoUrl": "https://lh3.googleusercontent.com/a-/AOh14Ggt0R_vpxdkA9SOrPvnHgwuzwsHmYSxz6AMEDHtsA=s64",
      "userId": "14650316510824230211"
     }
    }
   },
   "source": [
    "# Get recommend for each track of user 1\n",
    "# pearson, cosine\n",
    "pear_recommend_user1 = []\n",
    "cosine_recommend_user1 = []\n",
    "for track in embedded_user1:\n",
    "  pear_recommend_user1.append(top_10_similarity(track, raw_user1_track, similarity = 'pearson'))\n",
    "  cosine_recommend_user1.append(top_10_similarity(track, raw_user1_track, similarity = 'cosine'))"
   ],
   "execution_count": 71,
   "outputs": []
  },
  {
   "cell_type": "code",
   "metadata": {
    "id": "qZ6Lu0W1S3zN",
    "executionInfo": {
     "status": "ok",
     "timestamp": 1640185098144,
     "user_tz": -420,
     "elapsed": 10993,
     "user": {
      "displayName": "Binh Duong Van",
      "photoUrl": "https://lh3.googleusercontent.com/a-/AOh14Ggt0R_vpxdkA9SOrPvnHgwuzwsHmYSxz6AMEDHtsA=s64",
      "userId": "14650316510824230211"
     }
    }
   },
   "source": [
    "# Get recommend for each track of user 2\n",
    "# pearson, cosine\n",
    "pear_recommend_user2 = []\n",
    "cosine_recommend_user2 = []\n",
    "for track in embedded_user2:\n",
    "  pear_recommend_user2.append(top_10_similarity(track, raw_user2_track, similarity = 'pearson'))\n",
    "  cosine_recommend_user2.append(top_10_similarity(track, raw_user2_track, similarity = 'cosine'))"
   ],
   "execution_count": 72,
   "outputs": []
  },
  {
   "cell_type": "code",
   "metadata": {
    "id": "chUEhT7FWGYa",
    "executionInfo": {
     "status": "ok",
     "timestamp": 1640185098631,
     "user_tz": -420,
     "elapsed": 494,
     "user": {
      "displayName": "Binh Duong Van",
      "photoUrl": "https://lh3.googleusercontent.com/a-/AOh14Ggt0R_vpxdkA9SOrPvnHgwuzwsHmYSxz6AMEDHtsA=s64",
      "userId": "14650316510824230211"
     }
    }
   },
   "source": [
    "# Get recommend for each track of user 3\n",
    "# pearson, cosine\n",
    "pear_recommend_user3 = []\n",
    "cosine_recommend_user3 = []\n",
    "for track in embedded_user3:\n",
    "  pear_recommend_user3.append(top_10_similarity(track, raw_user3_track, similarity = 'pearson'))\n",
    "  cosine_recommend_user3.append(top_10_similarity(track, raw_user3_track, similarity = 'cosine'))"
   ],
   "execution_count": 73,
   "outputs": []
  },
  {
   "cell_type": "code",
   "metadata": {
    "id": "Vbxdr7oeWLu0",
    "colab": {
     "base_uri": "https://localhost:8080/"
    },
    "executionInfo": {
     "status": "ok",
     "timestamp": 1640185098633,
     "user_tz": -420,
     "elapsed": 39,
     "user": {
      "displayName": "Binh Duong Van",
      "photoUrl": "https://lh3.googleusercontent.com/a-/AOh14Ggt0R_vpxdkA9SOrPvnHgwuzwsHmYSxz6AMEDHtsA=s64",
      "userId": "14650316510824230211"
     }
    },
    "outputId": "81195d76-f2ba-4d68-e661-48c09ec3674f"
   },
   "source": [
    "pear_recommend_user2"
   ],
   "execution_count": 74,
   "outputs": [
    {
     "output_type": "execute_result",
     "data": {
      "text/plain": [
       "[[('Gửi Anh Xa Nhớ', 0.7883439914457534),\n",
       "  ('Người Đi Xa Mãi', 0.7847957667433556),\n",
       "  ('Hãy Để Anh Yêu Em Lần Nữa', 0.7813846498221825),\n",
       "  ('Cho Em Lời Cuối', 0.777914263379685),\n",
       "  ('Bao Lâu Ta Lại Yêu Một Người', 0.7724085611624149),\n",
       "  ('Ai Rồi Cũng Khác', 0.7710145506811358),\n",
       "  ('Đợi Em Trở Về', 0.7709195837971156),\n",
       "  ('Nếu Có Quay Về', 0.7708851064053134),\n",
       "  ('Nếu Phải Xa Nhau', 0.7626524903892149),\n",
       "  ('Tha Rang Nhu The', 0.7611706659667573)],\n",
       " [('Đôi Lời', 0.9998574053706696),\n",
       "  ('Nho Em', 0.9996773303494944),\n",
       "  ('Trò Đùa - Lofi', 0.9992399291977879),\n",
       "  ('Tiễn Em', 0.9969352475276807),\n",
       "  ('Kém Duyên', 0.9962143558638433),\n",
       "  ('Do Ai?', 0.9962050614112038),\n",
       "  ('Cưới Thôi', 0.9954605874458536),\n",
       "  ('1 Phút', 0.9952872924518334),\n",
       "  ('Thầm Mong', 0.9926036547467731),\n",
       "  ('Mai đây', 0.9922822137246519)],\n",
       " [('Xin Em Cho Tôi Một Cơ Hội', 0.8225465681800739),\n",
       "  ('vâng anh đi đi (liu riu version)', 0.8036965898406014),\n",
       "  ('Cho Tôi Lang Thang', 0.7681218209026226),\n",
       "  ('Chi Anh Hieu Em', 0.7625707335449673),\n",
       "  ('Chỉ Anh Hiểu Em', 0.7625019270212106),\n",
       "  ('Anh Sẽ Về Sớm Thôi', 0.7623604779324578),\n",
       "  ('Xin Hãy Quên Đi', 0.7620748494103335),\n",
       "  ('Nếu Ta Còn Yêu Nhau', 0.7614367466760145),\n",
       "  ('Đừng Vội (Take It Slow)', 0.7560240962748096),\n",
       "  ('Thà Người Đừng Nói', 0.7549597375287915)],\n",
       " [('Đố em biết anh đang nghĩ gì - Remix', 0.9983786959151464),\n",
       "  ('Dịu Dàng Đến Từng Phút Giây', 0.8244424129602131),\n",
       "  ('Điệp khúc tình yêu Cha cha cha', 0.8191270884360653),\n",
       "  ('Một thoáng chim bay', 0.8183758137460987),\n",
       "  ('Nỗi nhớ ngàn năm', 0.8143553362578039),\n",
       "  ('Nỗi Đau Chia Xa', 0.805426884086898),\n",
       "  ('Da Qua Thoi Mong Cho', 0.7955023059516159),\n",
       "  ('Như Phút Ban Đầu', 0.794489584247811),\n",
       "  ('Tận Cùng Nỗi Nhớ (feat. Han Sara)', 0.7928462748338163),\n",
       "  ('Vùng Trời Bình Yên', 0.791408727443407)],\n",
       " [('Món Quà Cuối', 0.9965267510110499),\n",
       "  ('Áng Mây Buồn', 0.9916060598126182),\n",
       "  ('Góc Phố Buồn', 0.9875152237936362),\n",
       "  ('Mai Mai Ben Nhau', 0.9783733837447532),\n",
       "  ('Mưa Bão Trong Lòng', 0.9773022926929922),\n",
       "  ('Yeu Lai Tu Dau', 0.9737712449878071),\n",
       "  ('Dòng Sông Lơ Đãng', 0.9733309990341372),\n",
       "  ('Dáng Xưa', 0.9671365203612298),\n",
       "  ('Đất nước', 0.9671300696371792),\n",
       "  ('Thoi Doi', 0.9651144841210656)],\n",
       " [('Có Em Đời Bỗng Vui', 0.8061592783015677),\n",
       "  ('Hãy Để Anh Yêu Em Lần Nữa', 0.7948174144350618),\n",
       "  ('Người Ta Đâu Thương Em', 0.7873618438055282),\n",
       "  ('Hạnh Phúc Bỏ Rơi Em', 0.7866040534129796),\n",
       "  ('Cho Em Lời Cuối', 0.7799943568918244),\n",
       "  ('Có Em Chờ', 0.7787216331388858),\n",
       "  ('Nếu Có Quay Về', 0.7773838072008242),\n",
       "  ('Điều Em Muốn', 0.7741069797355279),\n",
       "  ('Gửi Anh Xa Nhớ', 0.7712422696025759),\n",
       "  ('Đợi Em Trở Về', 0.7703615501124196)],\n",
       " [('Mộng mơ xa rồi', 0.9985650187449157),\n",
       "  ('Tình Xót Xa Thôi', 0.9958484074198755),\n",
       "  ('Không Còn Nợ Nhau', 0.9887926925379839),\n",
       "  ('Tình Và Đời', 0.9584141745833918),\n",
       "  ('Một Ngày Đi Qua', 0.9564037368182337),\n",
       "  ('To The Moon', 0.9547224374385467),\n",
       "  ('Hôn Môi Xa', 0.9534608087040688),\n",
       "  ('Chot Thay Em Khoc', 0.9497072486818506),\n",
       "  ('Vòng tay người yêu', 0.9477161923609867),\n",
       "  ('Tình Dại Khờ', 0.9278103065234038)],\n",
       " [('Liên khúc Tình buồn đêm mưa', 0.7945685635767008),\n",
       "  ('Tầng Thượng 102', 0.7633204581023824),\n",
       "  ('Vì Em So Đẹp (feat. Thành Draw)', 0.7347896056574579),\n",
       "  ('Còn Lại Gì Sau Cơn Mưa', 0.6770480606380281),\n",
       "  ('Tiền Đồ (feat. R.I.C)', 0.6362522169503235),\n",
       "  ('Có Chàng Trai Viết Lên Cây', 0.6328807501778818),\n",
       "  ('MẮT NAI ƠI (feat. Cà Nâu)', 0.614040881855925),\n",
       "  ('T.A.O (The Ambitious One) [feat. Tage]', 0.5993206043774733),\n",
       "  ('Anh Khác Hay Em Khác (DJ Hoàng Anh Remix)', 0.5986960757444946),\n",
       "  ('Lời Sám Hối Của Kẻ Hấp Hối', 0.5965512942181194)],\n",
       " [('Day Dream', 0.9999801053367456),\n",
       "  ('Uoc Gi', 0.9999749329399938),\n",
       "  ('Giấc Mơ', 0.9996230311306237),\n",
       "  ('Có Khi', 0.9991361252431143),\n",
       "  ('Em Bé', 0.9952265825552915),\n",
       "  ('Thích Quá Rùi Nà', 0.9937111712531456),\n",
       "  ('Thu Cuối', 0.992989406995679),\n",
       "  ('Răng Khôn', 0.9918934970962675),\n",
       "  ('BLACKJACK', 0.9910660784244277),\n",
       "  ('Buồn', 0.9910660784244277)],\n",
       " [('Anh Đã Hiểu Tình Em', 0.9431883008856871),\n",
       "  ('Xin Cho Mãi Yêu', 0.9255331592303121),\n",
       "  ('Anh Muốn Nói', 0.9242483880269496),\n",
       "  ('Sau Trong Em', 0.9176682494708029),\n",
       "  ('Anh Vẫn OK (feat. RPT MCK)', 0.9153684108006667),\n",
       "  ('Cô đơn', 0.9153595011684311),\n",
       "  ('Nếu Ta Còn Yêu Nhau', 0.9137294319177608),\n",
       "  ('Từng Yêu', 0.913359672453916),\n",
       "  ('Thật Lòng', 0.9128395684513612),\n",
       "  ('Hướng Dương', 0.911575040454666)],\n",
       " [('Anh Tin Mình Đã Cho Nhau Kỷ Niệm', 0.957231187730169),\n",
       "  ('Anh Ghét Làm Bạn Em', 0.9084396406484494),\n",
       "  ('Ai Là Người Thương Em', 0.8492106019101939),\n",
       "  ('Yêu Một Người Có Lẽ', 0.8391735784590729),\n",
       "  ('Đếm Ngày Xa Em', 0.8283736175019275),\n",
       "  ('Phải Chăng Em Đã Yêu?', 0.8262899168033175),\n",
       "  ('Ai Mang Cô Đơn Đi', 0.8219294015768887),\n",
       "  ('Anh Còn Nợ Em', 0.8172689759652645),\n",
       "  ('Anh Nhớ Em Người Yêu Cũ', 0.8144866268598571),\n",
       "  ('Ít Nhưng Dài Lâu', 0.8062607713070576)],\n",
       " [('Đố em biết anh đang nghĩ gì - Remix', 0.8778843862584481),\n",
       "  ('Điệp khúc tình yêu Cha cha cha', 0.7267162323905147),\n",
       "  ('Dịu Dàng Đến Từng Phút Giây', 0.7185556329406958),\n",
       "  ('Một thoáng chim bay', 0.7139313758510296),\n",
       "  ('Nỗi nhớ ngàn năm', 0.7087664456063196),\n",
       "  ('Nỗi Đau Chia Xa', 0.7006719570905499),\n",
       "  ('Da Qua Thoi Mong Cho', 0.697013524008805),\n",
       "  ('Vùng Trời Bình Yên', 0.6939373360385632),\n",
       "  ('Cám ơn tình yêu của em', 0.6923831084809013),\n",
       "  ('Cám Ơn Tình Yêu Của Em', 0.6923831084809013)],\n",
       " [('Can Gac Trong - R&B', 0.939936593600015),\n",
       "  ('Chúng Ta Dừng Lại Ở Đây Thôi', 0.9279381986111287),\n",
       "  ('Tình đã xa', 0.9052247312227224),\n",
       "  ('Chot Thay Em Khoc', 0.9027835752639495),\n",
       "  ('Tình Và Đời', 0.8975091894111845),\n",
       "  ('Dung co mo', 0.8943630031517704),\n",
       "  ('Chiều Một Mình Qua Phố', 0.8903907863619628),\n",
       "  ('To The Moon', 0.887763032958689),\n",
       "  ('Nghe Nói Anh Sắp Kết Hôn', 0.8877383423775542),\n",
       "  ('Ngày Hạnh Phúc', 0.8832684497840637)],\n",
       " [('Anh Đã Hiểu Tình Em', 0.6862366248647561),\n",
       "  ('Hãy Để Anh Yêu Em Lần Nữa', 0.6859187131495165),\n",
       "  ('Để Nhớ Một Thời Ta Đã Yêu', 0.6841818284511997),\n",
       "  ('Xin Cho Mãi Yêu', 0.6753322618351023),\n",
       "  ('Anh Muốn Nói', 0.6711656585444972),\n",
       "  ('Nếu Ta Còn Yêu Nhau', 0.6681616308519082),\n",
       "  ('Sau Trong Em', 0.6668482071184082),\n",
       "  ('Anh Vẫn OK (feat. RPT MCK)', 0.6630227650593384),\n",
       "  ('Cô đơn', 0.6622393652895425),\n",
       "  ('Anh Vẫn Đợi Chờ', 0.6614256895884214)],\n",
       " [('Sau Tất Cả', 0.9979961076614274),\n",
       "  ('Người Tình Nhỏ Bé', 0.9784705422530203),\n",
       "  ('Em Bé', 0.9711541818749791),\n",
       "  ('Răng Khôn', 0.9709904315923209),\n",
       "  ('BLACKJACK', 0.9708442278716414),\n",
       "  ('Buồn', 0.9708442278716414),\n",
       "  ('Đời', 0.9708442278716414),\n",
       "  ('MONSTER', 0.9708442278716414),\n",
       "  ('Nợ', 0.9708442278716414),\n",
       "  ('Linda', 0.9708442278716414)],\n",
       " [('Yếu Đuối Ai Xem', 0.9977223934049331),\n",
       "  ('Thiên Đường Đã Mất', 0.9774247614928941),\n",
       "  ('Va Toi Van Hat', 0.9168862189241223),\n",
       "  ('Thiên Đường Mong Manh', 0.9086152466033619),\n",
       "  ('Sầu Tím Thiệp Hồng', 0.9011145140815896),\n",
       "  ('Trên Tình Bạn Dưới Tình Yêu', 0.9007543337297179),\n",
       "  ('Kho Ve Nu Cuoi (feat. Du Uyen)', 0.8914737398726627),\n",
       "  ('Bức Bình Phong', 0.8895673394253978),\n",
       "  ('Dịu Dàng Em Đến', 0.889039881152645),\n",
       "  ('Trái Tim Yêu', 0.8854805248601567)],\n",
       " [('Khi Em Lớn - Remix', 0.9972690756352199),\n",
       "  ('Khi Em Lớn', 0.9856175045273532),\n",
       "  ('Chắc Anh Đang', 0.9799052381137656),\n",
       "  ('Khi Giấc Mơ Về', 0.965186176304196),\n",
       "  ('Diep Khuc Buon', 0.96468435180674),\n",
       "  ('Giả Vờ Yêu', 0.9605693810992046),\n",
       "  ('Cho Mình Em', 0.95858129740717),\n",
       "  ('Yêu Anh Em Nhé', 0.9582479475596116),\n",
       "  ('Trách Ai Vô Tình', 0.957628168514933),\n",
       "  ('Không Dừng Lại (feat. VVSIX)', 0.9514192454534177)],\n",
       " [('Tình xưa nghĩ cũ 3', 0.9452926771848658),\n",
       "  ('MỘT LẦN NỮA (feat. D.KID)', 0.9153210894662425),\n",
       "  ('Em Ơi Hà Nội Phố', 0.9060495687294182),\n",
       "  ('Mẹ Ơi Con Lên TV', 0.895483460153555),\n",
       "  ('Thế Giới Năm 2000', 0.8894187785579414),\n",
       "  ('Khúc Chia Xa', 0.8875109003185088),\n",
       "  ('Phút Ban Đầu', 0.8834707639373842),\n",
       "  ('Nếu Như Anh Đến', 0.8762882983757835),\n",
       "  ('Khong Phai Em Dung Khong ? - Original', 0.8711771829947857),\n",
       "  ('CHẠY NGAY ĐI', 0.8678048254643349)],\n",
       " [('Vì Em Dối Gian', 0.9916979544697551),\n",
       "  ('Giả Vờ Yêu', 0.9911721609740539),\n",
       "  ('Cho Mình Em', 0.9909419298732266),\n",
       "  ('Lời Anh Muốn Nói', 0.9857394771385403),\n",
       "  ('Ta Đâu Có Say', 0.985456299144416),\n",
       "  ('Đi Để Trở Về', 0.9845679233385797),\n",
       "  ('Điều Em Muốn', 0.9476655046394229),\n",
       "  ('Có Em Chờ', 0.9474036523784044),\n",
       "  ('Ai Đưa Em Về', 0.9473132211363533),\n",
       "  ('Thật Xa Thật Gần', 0.939149969718601)],\n",
       " [('Đến Sau', 0.9999761225199901),\n",
       "  ('Nhé anh', 0.9999428587511116),\n",
       "  ('Biệt khúc', 0.9997692895417152),\n",
       "  ('Nơi Ấy', 0.9996873917675622),\n",
       "  ('Tình Bạn', 0.9990445639599319),\n",
       "  ('Đàn Bà', 0.9972112554444365),\n",
       "  ('Bình Yên', 0.9971189353715385),\n",
       "  ('Simple Love', 0.9968274440237568),\n",
       "  ('Tình Cha', 0.9964824939176139),\n",
       "  ('Kiếp Đạo Tặc', 0.9964534017195852)],\n",
       " [('Dấu Mưa', 0.9987949260305395),\n",
       "  ('Lạc Trôi', 0.998624562290717),\n",
       "  ('Túy Họa', 0.9982239773999526),\n",
       "  ('Unexpected (feat. Gừng)', 0.9982230973027867),\n",
       "  ('? (feat. Dế Choắt)', 0.9979057082955448),\n",
       "  ('Tình Sầu', 0.9978064918862652),\n",
       "  ('Không Màu (feat. VVSIX & TonyD.)', 0.9977250262562124),\n",
       "  ('Bờ Bến Lạ', 0.9976502708353207),\n",
       "  ('Bờ bến lạ', 0.9976502708353207),\n",
       "  ('Tình Thơ', 0.9966421401075429)],\n",
       " [('Gửi Anh Xa Nhớ', 0.9902113091111594),\n",
       "  ('Người Đi Xa Mãi', 0.9865005023886233),\n",
       "  ('Cho Em Lời Cuối', 0.9769179976047766),\n",
       "  ('Ai Rồi Cũng Khác', 0.9703996987845697),\n",
       "  ('Đợi Em Trở Về', 0.9703531958627085),\n",
       "  ('Nếu Có Quay Về', 0.9699550739759784),\n",
       "  ('Nếu Phải Xa Nhau', 0.959368508147238),\n",
       "  ('Tha Rang Nhu The', 0.9562654373871686),\n",
       "  ('Ai Đưa Em Về', 0.9513664382694222),\n",
       "  ('Yêu Em Trong Mơ', 0.9504035512807627)],\n",
       " [('Một Lần Cho Mãi Mãi', 0.8675657163746712),\n",
       "  ('Hai Triệu Năm', 0.8600264508916977),\n",
       "  ('Chẳng Thể Tìm Được Em', 0.8497271656392511),\n",
       "  ('Góc Phố Buồn', 0.8479497864999237),\n",
       "  ('Vi Da Lo Loi', 0.8451417766249083),\n",
       "  ('Áng Mây Buồn', 0.8439388587151169),\n",
       "  ('Không Sao Em À', 0.840945779335382),\n",
       "  ('Không Quan Tâm', 0.8369122546005691),\n",
       "  ('Mưa Bão Trong Lòng', 0.8361980739844269),\n",
       "  ('Cơn mưa lao xao', 0.8300245165020828)],\n",
       " [('Hoa Bằng Lăng', 0.9892852129673192),\n",
       "  ('Hoa bằng lăng', 0.9892852129673192),\n",
       "  ('Hoa Mi Toc Nau', 0.9890663838118747),\n",
       "  ('Khoảnh Khắc', 0.9878701386221306),\n",
       "  ('Mưa buồn', 0.987847381691642),\n",
       "  ('Mưa Buồn', 0.987847381691642),\n",
       "  ('Chia Tay', 0.9877793670334277),\n",
       "  ('Vườn Yêu', 0.9876334674389747),\n",
       "  ('Nước Mắt', 0.9865835493029591),\n",
       "  ('Độc Thoại', 0.9865362906978254)],\n",
       " [('Hai Triệu Năm', 0.9980116109254485),\n",
       "  ('Góc Phố Buồn', 0.9873227092194058),\n",
       "  ('Áng Mây Buồn', 0.9829856068883543),\n",
       "  ('Vi Da Lo Loi', 0.9807677056251072),\n",
       "  ('Mưa Bão Trong Lòng', 0.9754025482515795),\n",
       "  ('Không Quan Tâm', 0.9714537027163762),\n",
       "  ('Không Sao Em À', 0.9709615247821807),\n",
       "  ('Cơn mưa lao xao', 0.9590855246489645),\n",
       "  ('Vet Thuong Long', 0.9549323275571294),\n",
       "  ('Ngày Đón Em Về', 0.9543196413890144)],\n",
       " [('Anh Tin Mình Đã Cho Nhau Kỷ Niệm', 0.8315287616775919),\n",
       "  ('Anh Ghét Làm Bạn Em', 0.7876835291086525),\n",
       "  ('Ai Là Người Thương Em', 0.7325544974254351),\n",
       "  ('Yêu Một Người Có Lẽ', 0.7241645060542559),\n",
       "  ('Đếm Ngày Xa Em', 0.7155504807380788),\n",
       "  ('Phải Chăng Em Đã Yêu?', 0.7121447068405986),\n",
       "  ('Ai Mang Cô Đơn Đi', 0.7092247350343355),\n",
       "  ('Anh Nhớ Em Người Yêu Cũ', 0.7082025255271435),\n",
       "  ('Anh Còn Nợ Em', 0.7076513256323834),\n",
       "  ('Sẽ Có Người Cần Anh', 0.7009874192341953)],\n",
       " [('BLACKJACK', 1.0),\n",
       "  ('Buồn', 1.0),\n",
       "  ('Đời', 1.0),\n",
       "  ('MONSTER', 1.0),\n",
       "  ('Nợ', 1.0),\n",
       "  ('Linda', 1.0),\n",
       "  ('Rapcoustic 5', 1.0),\n",
       "  ('Berlin', 0.9999999999999999),\n",
       "  ('Skyler', 0.9999999999999999),\n",
       "  ('Đốt', 0.9999999999999999)],\n",
       " [('Chuyen La', 0.999964444589972),\n",
       "  ('Một Hình Dung', 0.9997683097727056),\n",
       "  ('N-Sao?', 0.9997339763628221),\n",
       "  ('Tình Thơ', 0.9995195581111703),\n",
       "  ('Tình Nồng', 0.9987691772577412),\n",
       "  ('Tình Sầu', 0.9986396004696126),\n",
       "  ('Bờ Bến Lạ', 0.997577760362304),\n",
       "  ('Bờ bến lạ', 0.997577760362304),\n",
       "  ('Tình Mộng', 0.9967167651102318),\n",
       "  ('Dấu Mưa', 0.9954713923055329)],\n",
       " [('Hẹn Lòng Đi Nhé', 0.7699249120513748),\n",
       "  ('Giấc Mơ Ấy', 0.7653035193455175),\n",
       "  ('Người cùng cảnh ngộ', 0.7597490668919504),\n",
       "  ('Anh Đừng Đi', 0.7591386529912616),\n",
       "  ('Ngoi Ben Em - Remix', 0.7589665450336927),\n",
       "  ('Nu Hong Mong Manh', 0.7573513854308922),\n",
       "  ('Em Yêu Anh', 0.7548950411770463),\n",
       "  ('Lời Yêu Em', 0.752041472827443),\n",
       "  ('Nhớ về em', 0.7519577648063396),\n",
       "  ('Người Ra Đi', 0.7510454360594166)],\n",
       " [('cô gái nhân ái', 0.982863123866455),\n",
       "  ('TA LÀ (feat. Clean Bandit)', 0.9808636540585577),\n",
       "  ('Anh Oi O Lai', 0.9793675940907757),\n",
       "  ('Lâu Đài Tình Ái', 0.9727351396627871),\n",
       "  ('Theo Tình Tình Phụ', 0.9670776020808803),\n",
       "  ('Em Là Châu Báu', 0.9621961214728396),\n",
       "  ('Thì Thầm Mùa Xuân', 0.9569167724760336),\n",
       "  ('Sau Đêm Nay', 0.9562178947187088),\n",
       "  ('Cô Gái Trung Hoa', 0.9451040109883164),\n",
       "  ('Cô Tấm Ngày Nay', 0.9343107847844612)],\n",
       " [('Đừng Cúi Đầu Khi Nhìn Xuống (feat. TonyD.)', 0.8444774374514403),\n",
       "  ('Chúng Ta Phải Lòng Nhau Chưa', 0.8040829827121361),\n",
       "  ('Minh Yeu Nhau Tu Kiep Nao ? - Original', 0.7864383897710726),\n",
       "  ('Đưa Nhau Đi Trốn (Chill Version)', 0.726381945530939),\n",
       "  ('Có Chí Thì Nên (feat. Hành Or)', 0.7196611934660441),\n",
       "  (\"ex's hate me, Pt. 2\", 0.6687584078987804),\n",
       "  ('Tiền Đồ (feat. R.I.C)', 0.6654690164816944),\n",
       "  ('Lời Sám Hối Của Kẻ Hấp Hối', 0.6588737269105083),\n",
       "  ('Xin Loi Anh (feat. Bang Kieu)', 0.6565215419350158),\n",
       "  ('Giot Nuoc Mat Muon Mang 2', 0.6427365958026469)],\n",
       " [('Tình ơi! Xin ngủ yên', 0.7826556270575339),\n",
       "  ('trời giấu trời mang đi', 0.7820663454941195),\n",
       "  ('Trời Giấu Trời Mang Đi', 0.7820663454941195),\n",
       "  ('Noi Nho Day Voi', 0.773941165481374),\n",
       "  ('Cố Quên (Try To Forget)', 0.7516659282659728),\n",
       "  ('Vì Đôi Ta Là Của Nhau', 0.7509731930753435),\n",
       "  ('Thì Thầm Thích Thả Thính', 0.7475239972387463),\n",
       "  ('Buc Tranh Tu Nuoc Mat - Original', 0.7456901805127035),\n",
       "  ('Nếu Như Anh Đến', 0.7370645918242391),\n",
       "  ('Minh Chia Tay Nhe', 0.736691567502629)]]"
      ]
     },
     "metadata": {},
     "execution_count": 74
    }
   ]
  },
  {
   "cell_type": "code",
   "metadata": {
    "id": "h5m7I1VmZ56Q",
    "colab": {
     "base_uri": "https://localhost:8080/"
    },
    "executionInfo": {
     "status": "ok",
     "timestamp": 1640185098634,
     "user_tz": -420,
     "elapsed": 26,
     "user": {
      "displayName": "Binh Duong Van",
      "photoUrl": "https://lh3.googleusercontent.com/a-/AOh14Ggt0R_vpxdkA9SOrPvnHgwuzwsHmYSxz6AMEDHtsA=s64",
      "userId": "14650316510824230211"
     }
    },
    "outputId": "8de64b06-6f98-4ba1-c722-5cf01a212c09"
   },
   "source": [
    "cosine_recommend_user2"
   ],
   "execution_count": 75,
   "outputs": [
    {
     "output_type": "execute_result",
     "data": {
      "text/plain": [
       "[[('Gửi Anh Xa Nhớ', 0.8193181293188707),\n",
       "  ('Người Đi Xa Mãi', 0.8164796233958908),\n",
       "  ('Hãy Để Anh Yêu Em Lần Nữa', 0.8129821336131315),\n",
       "  ('Cho Em Lời Cuối', 0.8107051530607989),\n",
       "  ('Bao Lâu Ta Lại Yêu Một Người', 0.8047767814841236),\n",
       "  ('Nếu Có Quay Về', 0.8045541627063351),\n",
       "  ('Ai Rồi Cũng Khác', 0.8045414429894655),\n",
       "  ('Đợi Em Trở Về', 0.8044246163670293),\n",
       "  ('Nếu Phải Xa Nhau', 0.7976081327750625),\n",
       "  ('Tha Rang Nhu The', 0.7967533378547059)],\n",
       " [('Đôi Lời', 0.9998386109107208),\n",
       "  ('Nho Em', 0.9996348660867693),\n",
       "  ('Trò Đùa - Lofi', 0.9991390552946141),\n",
       "  ('Tiễn Em', 0.9965368320029894),\n",
       "  ('Kém Duyên', 0.9957234481863052),\n",
       "  ('Do Ai?', 0.995700569408309),\n",
       "  ('Cưới Thôi', 0.9948733934818893),\n",
       "  ('1 Phút', 0.9946780212787432),\n",
       "  ('Thầm Mong', 0.9916216131288974),\n",
       "  ('Mai đây', 0.9912934595629096)],\n",
       " [('Xin Em Cho Tôi Một Cơ Hội', 0.8298991802657743),\n",
       "  ('vâng anh đi đi (liu riu version)', 0.7914250565887155),\n",
       "  ('Chi Anh Hieu Em', 0.7679965815183721),\n",
       "  ('Cho Tôi Lang Thang', 0.7667597458975735),\n",
       "  ('Xin Hãy Quên Đi', 0.7665043100650344),\n",
       "  ('Chỉ Anh Hiểu Em', 0.7611890417005909),\n",
       "  ('Đừng Vội (Take It Slow)', 0.7541808966834981),\n",
       "  ('Nếu Ta Còn Yêu Nhau', 0.7537226417761193),\n",
       "  ('Anh Sẽ Về Sớm Thôi', 0.7532276826124086),\n",
       "  ('Thà Người Đừng Nói', 0.7506602508203573)],\n",
       " [('Đố em biết anh đang nghĩ gì - Remix', 0.9984264813334908),\n",
       "  ('Điệp khúc tình yêu Cha cha cha', 0.8389594337128744),\n",
       "  ('Cám ơn tình yêu của em', 0.7947531886808552),\n",
       "  ('Cám Ơn Tình Yêu Của Em', 0.7947531886808552),\n",
       "  ('Da Qua Thoi Mong Cho', 0.7888283406835667),\n",
       "  ('Vùng Trời Bình Yên', 0.7885359363805571),\n",
       "  ('Dấu vết bình yên', 0.7844435279131179),\n",
       "  ('Một thoáng chim bay', 0.7835814549615711),\n",
       "  ('Dịu Dàng Đến Từng Phút Giây', 0.7822658312970994),\n",
       "  ('Nỗi nhớ ngàn năm', 0.7612885078365761)],\n",
       " [('Món Quà Cuối', 0.9966990418006617),\n",
       "  ('Áng Mây Buồn', 0.9911516168532924),\n",
       "  ('Góc Phố Buồn', 0.9870610940520373),\n",
       "  ('Mai Mai Ben Nhau', 0.9784799492846883),\n",
       "  ('Dòng Sông Lơ Đãng', 0.9746179158735583),\n",
       "  ('Mưa Bão Trong Lòng', 0.9736252159653578),\n",
       "  ('Yeu Lai Tu Dau', 0.9725295328858287),\n",
       "  ('Dáng Xưa', 0.9673168978081963),\n",
       "  ('Đất nước', 0.9673108037423285),\n",
       "  ('Thoi Doi', 0.9654362445411372)],\n",
       " [('Có Em Đời Bỗng Vui', 0.8247672783377197),\n",
       "  ('Hãy Để Anh Yêu Em Lần Nữa', 0.8098547843167462),\n",
       "  ('Hạnh Phúc Bỏ Rơi Em', 0.8073728086381048),\n",
       "  ('Người Ta Đâu Thương Em', 0.8016564613920044),\n",
       "  ('Có Em Chờ', 0.8011051367436489),\n",
       "  ('Cho Em Lời Cuối', 0.7997856520717683),\n",
       "  ('Nếu Có Quay Về', 0.799495015747123),\n",
       "  ('Điều Em Muốn', 0.7971791449424368),\n",
       "  ('Em Có Nghe', 0.7937079350998044),\n",
       "  ('Đợi Em Trở Về', 0.7936536251034982)],\n",
       " [('Mộng mơ xa rồi', 0.9984940261069076),\n",
       "  ('Tình Xót Xa Thôi', 0.9958239150858028),\n",
       "  ('Không Còn Nợ Nhau', 0.9876127177380015),\n",
       "  ('Tình Và Đời', 0.9597156284331071),\n",
       "  ('To The Moon', 0.957687633265487),\n",
       "  ('Một Ngày Đi Qua', 0.9574980472633968),\n",
       "  ('Hôn Môi Xa', 0.9533034223261085),\n",
       "  ('Chot Thay Em Khoc', 0.95291430810207),\n",
       "  ('Vòng tay người yêu', 0.9465243227160645),\n",
       "  ('Vầng Trăng Cô Đơn', 0.9259778091988325)],\n",
       " [('Liên khúc Tình buồn đêm mưa', 0.8068529591024719),\n",
       "  ('Tầng Thượng 102', 0.7687522262274961),\n",
       "  ('Vì Em So Đẹp (feat. Thành Draw)', 0.7363211632036536),\n",
       "  ('MẮT NAI ƠI (feat. Cà Nâu)', 0.6433545302602409),\n",
       "  ('T.A.O (The Ambitious One) [feat. Tage]', 0.6305381462095688),\n",
       "  ('Còn Lại Gì Sau Cơn Mưa', 0.6268114524687097),\n",
       "  ('Có Chàng Trai Viết Lên Cây', 0.6235714688664232),\n",
       "  ('Giot Nuoc Mat Muon Mang 2', 0.6130575270640591),\n",
       "  ('Tiền Đồ (feat. R.I.C)', 0.6036337151829465),\n",
       "  ('Minh Yeu Nhau Tu Kiep Nao ? - Original', 0.5882596274814863)],\n",
       " [('Day Dream', 0.9999806630937847),\n",
       "  ('Uoc Gi', 0.9999756750885788),\n",
       "  ('Giấc Mơ', 0.9996350847715517),\n",
       "  ('Có Khi', 0.9991567258510873),\n",
       "  ('Em Bé', 0.9953079425863907),\n",
       "  ('Thích Quá Rùi Nà', 0.9936203515086973),\n",
       "  ('Thu Cuối', 0.9932850499453874),\n",
       "  ('Răng Khôn', 0.992002143533956),\n",
       "  ('Thang Dien', 0.9912292636937129),\n",
       "  ('Skyler', 0.9911788157005555)],\n",
       " [('Anh Đã Hiểu Tình Em', 0.9523194545295564),\n",
       "  ('Xin Cho Mãi Yêu', 0.9401413749313252),\n",
       "  ('Anh Muốn Nói', 0.933596500574365),\n",
       "  ('Nếu Ta Còn Yêu Nhau', 0.9317893303457946),\n",
       "  ('Sau Trong Em', 0.9289752378447427),\n",
       "  ('Anh Vẫn Đợi Chờ', 0.9244353047280636),\n",
       "  ('Anh Vẫn OK (feat. RPT MCK)', 0.9210139332106098),\n",
       "  ('Sẽ Mãi Còn Yêu', 0.9204329646762057),\n",
       "  ('Đừng Vội (Take It Slow)', 0.9197631733848567),\n",
       "  ('Cô đơn', 0.9183337115573869)],\n",
       " [('Anh Tin Mình Đã Cho Nhau Kỷ Niệm', 0.9685699310033544),\n",
       "  ('Anh Ghét Làm Bạn Em', 0.9309929295686036),\n",
       "  ('Ai Là Người Thương Em', 0.8641750354877641),\n",
       "  ('Anh Nhớ Em Người Yêu Cũ', 0.8626924485018124),\n",
       "  ('Sẽ Có Người Cần Anh', 0.8597363582158581),\n",
       "  ('Yêu Một Người Có Lẽ', 0.8571634759313917),\n",
       "  ('Em Yêu Anh Nhiều Lắm', 0.8533168899006572),\n",
       "  ('Anh Còn Nợ Em', 0.8525339319713294),\n",
       "  ('Đếm Ngày Xa Em', 0.852310967482281),\n",
       "  ('Tâm Sự Với Người Lạ', 0.844365344026364)],\n",
       " [('Đố em biết anh đang nghĩ gì - Remix', 0.8862538805178516),\n",
       "  ('Điệp khúc tình yêu Cha cha cha', 0.7457949306760733),\n",
       "  ('Cám ơn tình yêu của em', 0.7064976868234134),\n",
       "  ('Cám Ơn Tình Yêu Của Em', 0.7064976868234134),\n",
       "  ('Da Qua Thoi Mong Cho', 0.7012307794810062),\n",
       "  ('Vùng Trời Bình Yên', 0.7009708459989697),\n",
       "  ('Dấu vết bình yên', 0.6973328900184704),\n",
       "  ('Một thoáng chim bay', 0.6965665482726113),\n",
       "  ('Dịu Dàng Đến Từng Phút Giây', 0.6953970215705892),\n",
       "  ('Nỗi nhớ ngàn năm', 0.6767491813207057)],\n",
       " [('Can Gac Trong - R&B', 0.9350016265236695),\n",
       "  ('Chúng Ta Dừng Lại Ở Đây Thôi', 0.9274817068526825),\n",
       "  ('Tình đã xa', 0.9017936524753019),\n",
       "  ('Tình Và Đời', 0.8996060974474831),\n",
       "  ('Chot Thay Em Khoc', 0.8953635424736182),\n",
       "  ('Chiều Một Mình Qua Phố', 0.8916198308401182),\n",
       "  ('To The Moon', 0.8887321901549785),\n",
       "  ('Dung co mo', 0.887962084291563),\n",
       "  ('Nghe Nói Anh Sắp Kết Hôn', 0.8878707884822766),\n",
       "  ('Biết Tìm Đâu', 0.8819261374941366)],\n",
       " [('Anh Đã Hiểu Tình Em', 0.7216812851848157),\n",
       "  ('Hãy Để Anh Yêu Em Lần Nữa', 0.7201501485343942),\n",
       "  ('Để Nhớ Một Thời Ta Đã Yêu', 0.7199262802646978),\n",
       "  ('Xin Cho Mãi Yêu', 0.7124525625185588),\n",
       "  ('Anh Muốn Nói', 0.707492763246541),\n",
       "  ('Nếu Ta Còn Yêu Nhau', 0.7061232638344483),\n",
       "  ('Sau Trong Em', 0.7039907043418027),\n",
       "  ('Anh Vẫn Đợi Chờ', 0.700550278179432),\n",
       "  ('Anh Vẫn OK (feat. RPT MCK)', 0.6979575139740315),\n",
       "  ('Sẽ Mãi Còn Yêu', 0.6975172477203427)],\n",
       " [('Sau Tất Cả', 0.9980536777158219),\n",
       "  ('Người Tình Nhỏ Bé', 0.9784860953304484),\n",
       "  ('Em Bé', 0.9719530506998196),\n",
       "  ('Răng Khôn', 0.9713370819927237),\n",
       "  ('Berlin', 0.9710935423380872),\n",
       "  ('Skyler', 0.9710935423380871),\n",
       "  ('Yên', 0.9710935423380871),\n",
       "  ('Ngỡ', 0.9710935423380871),\n",
       "  ('ToGetHer', 0.9710935423380871),\n",
       "  ('Xin', 0.9710935423380871)],\n",
       " [('Yếu Đuối Ai Xem', 0.997856573337659),\n",
       "  ('Thiên Đường Đã Mất', 0.9756226920093211),\n",
       "  ('Sầu Tím Thiệp Hồng', 0.9081697323594806),\n",
       "  ('Va Toi Van Hat', 0.9070737202124132),\n",
       "  ('Kho Ve Nu Cuoi (feat. Du Uyen)', 0.8955443935395062),\n",
       "  ('Thiên Đường Mong Manh', 0.8945561374326967),\n",
       "  ('Dịu Dàng Em Đến', 0.8883784502460202),\n",
       "  ('Trên Tình Bạn Dưới Tình Yêu', 0.8873093628380583),\n",
       "  ('Trái Tim Yêu', 0.8866797271618104),\n",
       "  ('Bức Bình Phong', 0.886037877486709)],\n",
       " [('Khi Em Lớn - Remix', 0.9974969565867831),\n",
       "  ('Khi Em Lớn', 0.986055001595632),\n",
       "  ('Chắc Anh Đang', 0.9809379967360186),\n",
       "  ('Khi Giấc Mơ Về', 0.9680988752534668),\n",
       "  ('Diep Khuc Buon', 0.9671957377324012),\n",
       "  ('Giả Vờ Yêu', 0.9611818692871745),\n",
       "  ('Yêu Anh Em Nhé', 0.9609820819725775),\n",
       "  ('Trách Ai Vô Tình', 0.9606338588030349),\n",
       "  ('Cho Mình Em', 0.9584927004081999),\n",
       "  ('Đông Kiếm Em', 0.9531104747908189)],\n",
       " [('Tình xưa nghĩ cũ 3', 0.9458597943111199),\n",
       "  ('MỘT LẦN NỮA (feat. D.KID)', 0.9147617664229881),\n",
       "  ('Em Ơi Hà Nội Phố', 0.9054166160690489),\n",
       "  ('Thế Giới Năm 2000', 0.889793863570132),\n",
       "  ('Mẹ Ơi Con Lên TV', 0.8808600714912859),\n",
       "  ('Khong Phai Em Dung Khong ? - Original', 0.8721491523187048),\n",
       "  ('Nếu Như Anh Đến', 0.8701947846053079),\n",
       "  ('Khúc Chia Xa', 0.8625524583854252),\n",
       "  ('Phút Ban Đầu', 0.8602211376081378),\n",
       "  ('Truyen Thai Y (feat. Masew)', 0.8559415191637408)],\n",
       " [('Vì Em Dối Gian', 0.9930614177812274),\n",
       "  ('Cho Mình Em', 0.991954469581796),\n",
       "  ('Giả Vờ Yêu', 0.9917059409487619),\n",
       "  ('Lời Anh Muốn Nói', 0.9875465699719683),\n",
       "  ('Đi Để Trở Về', 0.9871343841022286),\n",
       "  ('Ta Đâu Có Say', 0.9871242348395268),\n",
       "  ('Điều Em Muốn', 0.9564351830430491),\n",
       "  ('Có Em Chờ', 0.9562583979219039),\n",
       "  ('Ai Đưa Em Về', 0.9562058440578068),\n",
       "  ('Thật Xa Thật Gần', 0.9495110690591344)],\n",
       " [('Đến Sau', 0.9999748271183041),\n",
       "  ('Nhé anh', 0.9999397849706606),\n",
       "  ('Biệt khúc', 0.9997559840393657),\n",
       "  ('Nơi Ấy', 0.9996692316290753),\n",
       "  ('Tình Bạn', 0.9989970375973272),\n",
       "  ('Đàn Bà', 0.9970330129289471),\n",
       "  ('Bình Yên', 0.9969343858880905),\n",
       "  ('Simple Love', 0.9966838183121514),\n",
       "  ('Tình Cha', 0.9963251112374697),\n",
       "  ('Kiếp Đạo Tặc', 0.9962123298294759)],\n",
       " [('Dấu Mưa', 0.9988241903245858),\n",
       "  ('Lạc Trôi', 0.9986118776327639),\n",
       "  ('Túy Họa', 0.9981896980399149),\n",
       "  ('Unexpected (feat. Gừng)', 0.9981887882136039),\n",
       "  ('? (feat. Dế Choắt)', 0.9980381733899296),\n",
       "  ('Tình Sầu', 0.9979903639869973),\n",
       "  ('Không Màu (feat. VVSIX & TonyD.)', 0.9979273846644222),\n",
       "  ('Bờ Bến Lạ', 0.9977961203373236),\n",
       "  ('Bờ bến lạ', 0.9977961203373236),\n",
       "  ('Tình Thơ', 0.9969402836750685)],\n",
       " [('Gửi Anh Xa Nhớ', 0.9920493335660252),\n",
       "  ('Người Đi Xa Mãi', 0.9886124049683919),\n",
       "  ('Cho Em Lời Cuối', 0.9816205427812498),\n",
       "  ('Nếu Có Quay Về', 0.9741727814495315),\n",
       "  ('Ai Rồi Cũng Khác', 0.9741573801222665),\n",
       "  ('Đợi Em Trở Về', 0.9740159237467962),\n",
       "  ('Nếu Phải Xa Nhau', 0.9657623678169449),\n",
       "  ('Tha Rang Nhu The', 0.9647273623645692),\n",
       "  ('Người Đã Xa Rồi', 0.9588668868627424),\n",
       "  ('Ai Đưa Em Về', 0.9584754860501528)],\n",
       " [('Hai Triệu Năm', 0.8638794652932855),\n",
       "  ('Góc Phố Buồn', 0.8525895393433258),\n",
       "  ('Áng Mây Buồn', 0.8486369935964401),\n",
       "  ('Vi Da Lo Loi', 0.8429532416773167),\n",
       "  ('Không Quan Tâm', 0.841431576813641),\n",
       "  ('Mưa Bão Trong Lòng', 0.8410362093146048),\n",
       "  ('Không Sao Em À', 0.8381807290774599),\n",
       "  ('Một Lần Cho Mãi Mãi', 0.836783209967499),\n",
       "  ('Cơn mưa lao xao', 0.8352537523686622),\n",
       "  ('Ngày Tận Thế', 0.8252115898744513)],\n",
       " [('Hoa Mi Toc Nau', 0.9878683375931446),\n",
       "  ('Hoa Bằng Lăng', 0.9876361190506421),\n",
       "  ('Hoa bằng lăng', 0.9876361190506421),\n",
       "  ('Chia Tay', 0.9872519594040378),\n",
       "  ('Khoảnh Khắc', 0.9872375080753356),\n",
       "  ('Vườn Yêu', 0.9871993280231439),\n",
       "  ('Mưa buồn', 0.9869977029032974),\n",
       "  ('Mưa Buồn', 0.9869977029032974),\n",
       "  ('Lửng Lơ', 0.9851734626671869),\n",
       "  ('Nước Mắt', 0.985112418984905)],\n",
       " [('Hai Triệu Năm', 0.9979290491586826),\n",
       "  ('Góc Phố Buồn', 0.9848872470080895),\n",
       "  ('Áng Mây Buồn', 0.9803213782990715),\n",
       "  ('Vi Da Lo Loi', 0.9782934013400677),\n",
       "  ('Mưa Bão Trong Lòng', 0.9756767156654346),\n",
       "  ('Không Quan Tâm', 0.9719978852566601),\n",
       "  ('Không Sao Em À', 0.9681640913857484),\n",
       "  ('Cơn mưa lao xao', 0.957181401055279),\n",
       "  ('Ngày Tận Thế', 0.9532610165222047),\n",
       "  ('Vùng Ký Ức', 0.9507174562191913)],\n",
       " [('Anh Tin Mình Đã Cho Nhau Kỷ Niệm', 0.8691785066183189),\n",
       "  ('Anh Ghét Làm Bạn Em', 0.8344682115134865),\n",
       "  ('Ai Là Người Thương Em', 0.7745779515556884),\n",
       "  ('Anh Nhớ Em Người Yêu Cũ', 0.7732490781869578),\n",
       "  ('Sẽ Có Người Cần Anh', 0.7705994733450224),\n",
       "  ('Yêu Một Người Có Lẽ', 0.7682933457578361),\n",
       "  ('Em Yêu Anh Nhiều Lắm', 0.7648455711684125),\n",
       "  ('Anh Còn Nợ Em', 0.764143789788312),\n",
       "  ('Đếm Ngày Xa Em', 0.7639439421068762),\n",
       "  ('Tâm Sự Với Người Lạ', 0.7568221155236271)],\n",
       " [('Berlin', 1.0),\n",
       "  ('BLACKJACK', 1.0),\n",
       "  ('Skyler', 1.0),\n",
       "  ('Đốt', 1.0),\n",
       "  ('Yên', 1.0),\n",
       "  ('Ngỡ', 1.0),\n",
       "  ('ToGetHer', 1.0),\n",
       "  ('Katy', 1.0),\n",
       "  ('Xin', 1.0),\n",
       "  ('Buồn', 1.0)],\n",
       " [('Chuyen La', 0.9999667830413526),\n",
       "  ('Một Hình Dung', 0.9997749413505025),\n",
       "  ('N-Sao?', 0.9997506521693241),\n",
       "  ('Tình Thơ', 0.9995492939330627),\n",
       "  ('Tình Nồng', 0.9988548909191693),\n",
       "  ('Tình Sầu', 0.9987208796117395),\n",
       "  ('Bờ Bến Lạ', 0.9976710028722511),\n",
       "  ('Bờ bến lạ', 0.9976710028722511),\n",
       "  ('Tình Mộng', 0.9969546772170773),\n",
       "  ('Dấu Mưa', 0.995721608128639)],\n",
       " [('Hẹn Lòng Đi Nhé', 0.7828898688801093),\n",
       "  ('Giấc Mơ Ấy', 0.7774861466263188),\n",
       "  ('Người cùng cảnh ngộ', 0.773732075020238),\n",
       "  ('Nu Hong Mong Manh', 0.7720285940758062),\n",
       "  ('Ngoi Ben Em - Remix', 0.7710927857139006),\n",
       "  ('Anh Đừng Đi', 0.7707507522404523),\n",
       "  ('Em Yêu Anh', 0.7666139102348338),\n",
       "  ('Nhớ về em', 0.7661686119734793),\n",
       "  ('Người Ra Đi', 0.765805418797114),\n",
       "  ('Con Mo Bang Gia', 0.765164447376354)],\n",
       " [('cô gái nhân ái', 0.9810140583647603),\n",
       "  ('TA LÀ (feat. Clean Bandit)', 0.9776897211824565),\n",
       "  ('Anh Oi O Lai', 0.9754683417679053),\n",
       "  ('Lâu Đài Tình Ái', 0.9725650942389275),\n",
       "  ('Theo Tình Tình Phụ', 0.9663732395016865),\n",
       "  ('Em Là Châu Báu', 0.962199651310542),\n",
       "  ('Sau Đêm Nay', 0.9529171601085267),\n",
       "  ('Thì Thầm Mùa Xuân', 0.952297403732481),\n",
       "  ('Cô Gái Trung Hoa', 0.9400172232080344),\n",
       "  ('Cô Tấm Ngày Nay', 0.9323017725407401)],\n",
       " [('Đừng Cúi Đầu Khi Nhìn Xuống (feat. TonyD.)', 0.8166780924553194),\n",
       "  ('Minh Yeu Nhau Tu Kiep Nao ? - Original', 0.7865169827910194),\n",
       "  ('Chúng Ta Phải Lòng Nhau Chưa', 0.7573513515825435),\n",
       "  ('Có Chí Thì Nên (feat. Hành Or)', 0.6912070699625189),\n",
       "  ('Đưa Nhau Đi Trốn (Chill Version)', 0.6851998604551417),\n",
       "  ('Tiền Đồ (feat. R.I.C)', 0.6627025195029279),\n",
       "  ('Lời Sám Hối Của Kẻ Hấp Hối', 0.6549427493719361),\n",
       "  ('Yêu Một Người Sao Buồn Đến Thế', 0.6368107695042161),\n",
       "  (\"ex's hate me, Pt. 2\", 0.6078687747824059),\n",
       "  ('Xin Loi Anh (feat. Bang Kieu)', 0.6046158917923762)],\n",
       " [('Tình ơi! Xin ngủ yên', 0.7847973470613103),\n",
       "  ('Noi Nho Day Voi', 0.7744283501267253),\n",
       "  ('trời giấu trời mang đi', 0.7644043185467866),\n",
       "  ('Trời Giấu Trời Mang Đi', 0.7644043185467866),\n",
       "  ('Cố Quên (Try To Forget)', 0.7451224062810087),\n",
       "  ('Minh Chia Tay Nhe', 0.7394724044105798),\n",
       "  ('Buc Tranh Tu Nuoc Mat - Original', 0.7393400233522759),\n",
       "  ('Vì Đôi Ta Là Của Nhau', 0.7379374155151166),\n",
       "  ('Đừng Như Thói Quen', 0.7306723440418568),\n",
       "  ('Nếu Như Anh Đến', 0.7306577505327714)]]"
      ]
     },
     "metadata": {},
     "execution_count": 75
    }
   ]
  }
 ]
}