{
 "nbformat": 4,
 "nbformat_minor": 0,
 "metadata": {
  "colab": {
   "name": "cb_trackname_phrase_word_model.ipynb",
   "provenance": [],
   "collapsed_sections": [
    "8nv7inCAde5k",
    "DQFPKf5HV_K6",
    "89CDfA9VWtMM",
    "moAAQ19hiZpO",
    "3s6JUm-z8mvj",
    "DaALDUE28u1j"
   ],
   "mount_file_id": "1HLy9klrNxBtWnixUuaw8VAIxKo5ASAWo",
   "authorship_tag": "ABX9TyO/wnScG1IyYZQsfdC/Ubk+"
  },
  "kernelspec": {
   "name": "python3",
   "display_name": "Python 3"
  },
  "language_info": {
   "name": "python"
  }
 },
 "cells": [
  {
   "cell_type": "markdown",
   "metadata": {
    "id": "AhHPb5x0W0IL"
   },
   "source": [
    "# Content-based"
   ]
  },
  {
   "cell_type": "markdown",
   "metadata": {
    "id": "8nv7inCAde5k"
   },
   "source": [
    "### word2vecVN"
   ]
  },
  {
   "cell_type": "code",
   "metadata": {
    "id": "svHzMAMxbkyP",
    "colab": {
     "base_uri": "https://localhost:8080/"
    },
    "executionInfo": {
     "status": "ok",
     "timestamp": 1640186171545,
     "user_tz": -420,
     "elapsed": 32533,
     "user": {
      "displayName": "Binh Duong Van",
      "photoUrl": "https://lh3.googleusercontent.com/a-/AOh14Ggt0R_vpxdkA9SOrPvnHgwuzwsHmYSxz6AMEDHtsA=s64",
      "userId": "14650316510824230211"
     }
    },
    "outputId": "1c723208-b13f-4954-93ce-3aa8e3565cd4"
   },
   "source": [
    "# Model trained on Le et al.'s data (window-size 5, 400 dims)\n",
    "!wget https://thiaisotajppub.s3-ap-northeast-1.amazonaws.com/publicfiles/baomoi.model.bin"
   ],
   "execution_count": 1,
   "outputs": [
    {
     "output_type": "stream",
     "name": "stdout",
     "text": [
      "--2021-12-22 15:15:38--  https://thiaisotajppub.s3-ap-northeast-1.amazonaws.com/publicfiles/baomoi.model.bin\n",
      "Resolving thiaisotajppub.s3-ap-northeast-1.amazonaws.com (thiaisotajppub.s3-ap-northeast-1.amazonaws.com)... 52.219.136.131\n",
      "Connecting to thiaisotajppub.s3-ap-northeast-1.amazonaws.com (thiaisotajppub.s3-ap-northeast-1.amazonaws.com)|52.219.136.131|:443... connected.\n",
      "HTTP request sent, awaiting response... 200 OK\n",
      "Length: 708212586 (675M) [application/macbinary]\n",
      "Saving to: ‘baomoi.model.bin’\n",
      "\n",
      "baomoi.model.bin    100%[===================>] 675.40M  23.2MB/s    in 31s     \n",
      "\n",
      "2021-12-22 15:16:10 (21.9 MB/s) - ‘baomoi.model.bin’ saved [708212586/708212586]\n",
      "\n"
     ]
    }
   ]
  },
  {
   "cell_type": "markdown",
   "metadata": {
    "id": "DQFPKf5HV_K6"
   },
   "source": [
    "## File paths"
   ]
  },
  {
   "cell_type": "code",
   "metadata": {
    "id": "RAx2BYSUVNNC",
    "executionInfo": {
     "status": "ok",
     "timestamp": 1640186176232,
     "user_tz": -420,
     "elapsed": 26,
     "user": {
      "displayName": "Binh Duong Van",
      "photoUrl": "https://lh3.googleusercontent.com/a-/AOh14Ggt0R_vpxdkA9SOrPvnHgwuzwsHmYSxz6AMEDHtsA=s64",
      "userId": "14650316510824230211"
     }
    }
   },
   "source": [
    "data_root = './data'\n",
    "user_1 = data_root + '/user1.csv'\n",
    "user_2 = data_root + '/user2.csv'\n",
    "user_3 = data_root + '/user3.csv'\n",
    "full_data = data_root + '/full_data.csv'\n",
    "\n",
    "oov400 = data_root + '/oov400_list.txt'\n",
    "\n",
    "w2vec_400 = '/content/baomoi.model.bin'"
   ],
   "execution_count": 1,
   "outputs": []
  },
  {
   "cell_type": "markdown",
   "metadata": {
    "id": "89CDfA9VWtMM"
   },
   "source": [
    "## Libraries"
   ]
  },
  {
   "cell_type": "code",
   "metadata": {
    "id": "Ks7uc1bUpRj1"
   },
   "source": [
    "!pip install texthero\n",
    "!pip install num2words\n",
    "!pip install viet-text-tools\n",
    "!pip install pyvi"
   ],
   "execution_count": null,
   "outputs": []
  },
  {
   "cell_type": "code",
   "metadata": {
    "id": "iiiQE7dSWyQx",
    "executionInfo": {
     "status": "ok",
     "timestamp": 1640186785992,
     "user_tz": -420,
     "elapsed": 350,
     "user": {
      "displayName": "Binh Duong Van",
      "photoUrl": "https://lh3.googleusercontent.com/a-/AOh14Ggt0R_vpxdkA9SOrPvnHgwuzwsHmYSxz6AMEDHtsA=s64",
      "userId": "14650316510824230211"
     }
    }
   },
   "source": [
    "import pandas as pd\n",
    "import numpy as np\n",
    "from gensim.models import KeyedVectors\n",
    "from gensim import models\n",
    "import texthero as hero\n",
    "from num2words import num2words\n",
    "from viet_text_tools import normalize_diacritics\n",
    "from pyvi import ViTokenizer\n",
    "from keras.preprocessing.text import Tokenizer\n",
    "from keras.preprocessing.sequence import pad_sequences\n",
    "from scipy.stats import pearsonr"
   ],
   "execution_count": 27,
   "outputs": []
  },
  {
   "cell_type": "code",
   "metadata": {
    "id": "lasUpFQ6eSHv",
    "executionInfo": {
     "status": "ok",
     "timestamp": 1640186242251,
     "user_tz": -420,
     "elapsed": 12259,
     "user": {
      "displayName": "Binh Duong Van",
      "photoUrl": "https://lh3.googleusercontent.com/a-/AOh14Ggt0R_vpxdkA9SOrPvnHgwuzwsHmYSxz6AMEDHtsA=s64",
      "userId": "14650316510824230211"
     }
    }
   },
   "source": [
    "w2v_model = models.KeyedVectors.load_word2vec_format(w2vec_400, binary = True)"
   ],
   "execution_count": 7,
   "outputs": []
  },
  {
   "cell_type": "code",
   "metadata": {
    "colab": {
     "base_uri": "https://localhost:8080/"
    },
    "id": "sNMfbBf3fA7A",
    "executionInfo": {
     "status": "ok",
     "timestamp": 1640186242253,
     "user_tz": -420,
     "elapsed": 26,
     "user": {
      "displayName": "Binh Duong Van",
      "photoUrl": "https://lh3.googleusercontent.com/a-/AOh14Ggt0R_vpxdkA9SOrPvnHgwuzwsHmYSxz6AMEDHtsA=s64",
      "userId": "14650316510824230211"
     }
    },
    "outputId": "49f67682-7144-430a-facb-eb6fb80879b0"
   },
   "source": [
    "type(w2v_model)"
   ],
   "execution_count": 8,
   "outputs": [
    {
     "output_type": "execute_result",
     "data": {
      "text/plain": [
       "gensim.models.keyedvectors.Word2VecKeyedVectors"
      ]
     },
     "metadata": {},
     "execution_count": 8
    }
   ]
  },
  {
   "cell_type": "code",
   "metadata": {
    "id": "dZEwQraEfFBh",
    "colab": {
     "base_uri": "https://localhost:8080/"
    },
    "executionInfo": {
     "status": "ok",
     "timestamp": 1640186242751,
     "user_tz": -420,
     "elapsed": 516,
     "user": {
      "displayName": "Binh Duong Van",
      "photoUrl": "https://lh3.googleusercontent.com/a-/AOh14Ggt0R_vpxdkA9SOrPvnHgwuzwsHmYSxz6AMEDHtsA=s64",
      "userId": "14650316510824230211"
     }
    },
    "outputId": "10ac9e7a-bf2a-4603-f41c-80a3a00348ad"
   },
   "source": [
    "w2v_model.most_similar('lk')#tình"
   ],
   "execution_count": 9,
   "outputs": [
    {
     "output_type": "execute_result",
     "data": {
      "text/plain": [
       "[('thanh_hà_b', 0.7464016675949097),\n",
       " ('s=', 0.716158390045166),\n",
       " ('cccc', 0.6638514995574951),\n",
       " ('liền_kề', 0.65683913230896),\n",
       " ('chcc', 0.6486336588859558),\n",
       " ('Đại_học_vân_canh', 0.6474381685256958),\n",
       " ('xala', 0.6207592487335205),\n",
       " ('minh_giang_Đầm_và', 0.6187067031860352),\n",
       " ('dt', 0.5980429649353027),\n",
       " ('linh*', 0.5929301977157593)]"
      ]
     },
     "metadata": {},
     "execution_count": 9
    }
   ]
  },
  {
   "cell_type": "code",
   "metadata": {
    "id": "pdCMw2Dnf-VO",
    "executionInfo": {
     "status": "ok",
     "timestamp": 1640186242755,
     "user_tz": -420,
     "elapsed": 16,
     "user": {
      "displayName": "Binh Duong Van",
      "photoUrl": "https://lh3.googleusercontent.com/a-/AOh14Ggt0R_vpxdkA9SOrPvnHgwuzwsHmYSxz6AMEDHtsA=s64",
      "userId": "14650316510824230211"
     }
    }
   },
   "source": [
    "vocab = w2v_model.vocab"
   ],
   "execution_count": 10,
   "outputs": []
  },
  {
   "cell_type": "code",
   "metadata": {
    "id": "gCNGj0LPgsZW",
    "executionInfo": {
     "status": "ok",
     "timestamp": 1640186244590,
     "user_tz": -420,
     "elapsed": 1848,
     "user": {
      "displayName": "Binh Duong Van",
      "photoUrl": "https://lh3.googleusercontent.com/a-/AOh14Ggt0R_vpxdkA9SOrPvnHgwuzwsHmYSxz6AMEDHtsA=s64",
      "userId": "14650316510824230211"
     }
    }
   },
   "source": [
    "word_vec_dict = {}\n",
    "for word in vocab:\n",
    "  word_vec_dict[word] = w2v_model.get_vector(word)"
   ],
   "execution_count": 11,
   "outputs": []
  },
  {
   "cell_type": "code",
   "source": [
    "import pickle\n",
    "\n",
    "pickle.dump(word_vec_dict, open('word_vec_dict.sav', 'wb'))"
   ],
   "metadata": {
    "id": "gHTNzY4D4p4s",
    "executionInfo": {
     "status": "ok",
     "timestamp": 1640186254135,
     "user_tz": -420,
     "elapsed": 9556,
     "user": {
      "displayName": "Binh Duong Van",
      "photoUrl": "https://lh3.googleusercontent.com/a-/AOh14Ggt0R_vpxdkA9SOrPvnHgwuzwsHmYSxz6AMEDHtsA=s64",
      "userId": "14650316510824230211"
     }
    }
   },
   "execution_count": 12,
   "outputs": []
  },
  {
   "cell_type": "code",
   "source": [
    "k = pickle.load(open('/content/word_vec_dict.sav', 'rb'))"
   ],
   "metadata": {
    "id": "5n5QOqOI4u7C",
    "executionInfo": {
     "status": "ok",
     "timestamp": 1640186256055,
     "user_tz": -420,
     "elapsed": 1931,
     "user": {
      "displayName": "Binh Duong Van",
      "photoUrl": "https://lh3.googleusercontent.com/a-/AOh14Ggt0R_vpxdkA9SOrPvnHgwuzwsHmYSxz6AMEDHtsA=s64",
      "userId": "14650316510824230211"
     }
    }
   },
   "execution_count": 13,
   "outputs": []
  },
  {
   "cell_type": "code",
   "source": [
    "type(k)"
   ],
   "metadata": {
    "colab": {
     "base_uri": "https://localhost:8080/"
    },
    "id": "iNzW0I4I9ZYV",
    "executionInfo": {
     "status": "ok",
     "timestamp": 1640186256058,
     "user_tz": -420,
     "elapsed": 41,
     "user": {
      "displayName": "Binh Duong Van",
      "photoUrl": "https://lh3.googleusercontent.com/a-/AOh14Ggt0R_vpxdkA9SOrPvnHgwuzwsHmYSxz6AMEDHtsA=s64",
      "userId": "14650316510824230211"
     }
    },
    "outputId": "45ed7147-ce17-499f-ccbd-7749b8a3a86e"
   },
   "execution_count": 14,
   "outputs": [
    {
     "output_type": "execute_result",
     "data": {
      "text/plain": [
       "dict"
      ]
     },
     "metadata": {},
     "execution_count": 14
    }
   ]
  },
  {
   "cell_type": "markdown",
   "metadata": {
    "id": "moAAQ19hiZpO"
   },
   "source": [
    "## Data"
   ]
  },
  {
   "cell_type": "code",
   "metadata": {
    "id": "yxWQeG2PibZH",
    "executionInfo": {
     "status": "ok",
     "timestamp": 1640186313873,
     "user_tz": -420,
     "elapsed": 2849,
     "user": {
      "displayName": "Binh Duong Van",
      "photoUrl": "https://lh3.googleusercontent.com/a-/AOh14Ggt0R_vpxdkA9SOrPvnHgwuzwsHmYSxz6AMEDHtsA=s64",
      "userId": "14650316510824230211"
     }
    },
    "pycharm": {
     "is_executing": true
    }
   },
   "source": [
    "data_df = pd.read_csv(full_data)\n",
    "user1_df = pd.read_csv(user_1)\n",
    "user2_df = pd.read_csv(user_2)\n",
    "user3_df = pd.read_csv(user_3)"
   ],
   "execution_count": null,
   "outputs": []
  },
  {
   "cell_type": "code",
   "metadata": {
    "id": "ZHOyQTNRja5w",
    "executionInfo": {
     "status": "ok",
     "timestamp": 1640186318043,
     "user_tz": -420,
     "elapsed": 757,
     "user": {
      "displayName": "Binh Duong Van",
      "photoUrl": "https://lh3.googleusercontent.com/a-/AOh14Ggt0R_vpxdkA9SOrPvnHgwuzwsHmYSxz6AMEDHtsA=s64",
      "userId": "14650316510824230211"
     }
    }
   },
   "source": [
    "raw_data_track = data_df.track_name\n",
    "raw_user1_track = user1_df.track_name\n",
    "raw_user2_track = user2_df.track_name\n",
    "raw_user3_track = user3_df.track_name"
   ],
   "execution_count": 18,
   "outputs": []
  },
  {
   "cell_type": "markdown",
   "metadata": {
    "id": "3s6JUm-z8mvj"
   },
   "source": [
    "## Preprocessing"
   ]
  },
  {
   "cell_type": "code",
   "metadata": {
    "id": "FsEOHRvTsb9g",
    "executionInfo": {
     "status": "ok",
     "timestamp": 1640186333795,
     "user_tz": -420,
     "elapsed": 388,
     "user": {
      "displayName": "Binh Duong Van",
      "photoUrl": "https://lh3.googleusercontent.com/a-/AOh14Ggt0R_vpxdkA9SOrPvnHgwuzwsHmYSxz6AMEDHtsA=s64",
      "userId": "14650316510824230211"
     }
    }
   },
   "source": [
    "def num_to_words(s):\n",
    "  for w in s.split():\n",
    "    if w.isdigit():\n",
    "      s = s.replace(w, num2words(float(w), lang='vi'))\n",
    "  return s\n",
    "\n",
    "def remove_oov(s):\n",
    "  oov_list = []\n",
    "  with open(oov400, 'r') as f:\n",
    "    for w in f:\n",
    "      oov_list.append(w.strip())\n",
    "  for word in s.split():\n",
    "    if word in oov_list:\n",
    "      s = s.replace(word, '')\n",
    "  return s\n",
    "\n",
    "def preprocessing(series):\n",
    "  series = series.pipe(hero.fillna)\n",
    "  series = series.pipe(hero.lowercase)\n",
    "  series = series.pipe(hero.remove_punctuation)\n",
    "  series = series.pipe(hero.remove_whitespace)\n",
    "  series = series.apply(num_to_words)\n",
    "  series = series.apply(normalize_diacritics)\n",
    "  series = series.apply(remove_oov)\n",
    "  series = series.pipe(hero.remove_whitespace)\n",
    "  return list(series)\n",
    "\n",
    "# def out_vocab(s):\n",
    "#   word_vocab = []\n",
    "#   for word in w2v_model.vocab:\n",
    "#     word_vocab.append(word)\n",
    "#   oov_list = []\n",
    "#   for sentence in s:\n",
    "#     for word in sentence.split():\n",
    "#       if word not in word_vocab:\n",
    "#         oov_list.append(word)\n",
    "#   return oov_list"
   ],
   "execution_count": 19,
   "outputs": []
  },
  {
   "cell_type": "code",
   "metadata": {
    "id": "XLk-Z6YinQ3M",
    "executionInfo": {
     "status": "ok",
     "timestamp": 1640186336829,
     "user_tz": -420,
     "elapsed": 2568,
     "user": {
      "displayName": "Binh Duong Van",
      "photoUrl": "https://lh3.googleusercontent.com/a-/AOh14Ggt0R_vpxdkA9SOrPvnHgwuzwsHmYSxz6AMEDHtsA=s64",
      "userId": "14650316510824230211"
     }
    }
   },
   "source": [
    "data_track = preprocessing(raw_data_track)\n",
    "user1_track = preprocessing(raw_user1_track)\n",
    "user2_track = preprocessing(raw_user2_track)\n",
    "user3_track = preprocessing(raw_user3_track)"
   ],
   "execution_count": 20,
   "outputs": []
  },
  {
   "cell_type": "code",
   "metadata": {
    "colab": {
     "base_uri": "https://localhost:8080/"
    },
    "id": "VpML-Vyx6daB",
    "executionInfo": {
     "status": "ok",
     "timestamp": 1640186336836,
     "user_tz": -420,
     "elapsed": 27,
     "user": {
      "displayName": "Binh Duong Van",
      "photoUrl": "https://lh3.googleusercontent.com/a-/AOh14Ggt0R_vpxdkA9SOrPvnHgwuzwsHmYSxz6AMEDHtsA=s64",
      "userId": "14650316510824230211"
     }
    },
    "outputId": "6be19563-f19e-418c-f22e-a4361aa2b586"
   },
   "source": [
    "print(len(data_track))"
   ],
   "execution_count": 21,
   "outputs": [
    {
     "output_type": "stream",
     "name": "stdout",
     "text": [
      "1781\n"
     ]
    }
   ]
  },
  {
   "cell_type": "code",
   "metadata": {
    "colab": {
     "base_uri": "https://localhost:8080/"
    },
    "id": "0kozd6ImnkRq",
    "executionInfo": {
     "status": "ok",
     "timestamp": 1640186338142,
     "user_tz": -420,
     "elapsed": 6,
     "user": {
      "displayName": "Binh Duong Van",
      "photoUrl": "https://lh3.googleusercontent.com/a-/AOh14Ggt0R_vpxdkA9SOrPvnHgwuzwsHmYSxz6AMEDHtsA=s64",
      "userId": "14650316510824230211"
     }
    },
    "outputId": "06a3222b-c950-4a8b-f127-ee338ec38596"
   },
   "source": [
    "track_drop = []\n",
    "for i in range(len(data_track)):\n",
    "  if data_track[i] == '':\n",
    "    print(i, end = ', ')\n",
    "    track_drop.append(i)"
   ],
   "execution_count": 22,
   "outputs": [
    {
     "output_type": "stream",
     "name": "stdout",
     "text": [
      "47, 110, 232, 234, 243, 271, 517, 617, 647, 1315, 1345, "
     ]
    }
   ]
  },
  {
   "cell_type": "code",
   "metadata": {
    "id": "INIygwdrppDt"
   },
   "source": [
    "# data_df.iloc[track_drop, :]"
   ],
   "execution_count": null,
   "outputs": []
  },
  {
   "cell_type": "code",
   "metadata": {
    "colab": {
     "base_uri": "https://localhost:8080/"
    },
    "id": "5uXy3RcRq5C9",
    "executionInfo": {
     "status": "ok",
     "timestamp": 1640186343106,
     "user_tz": -420,
     "elapsed": 1505,
     "user": {
      "displayName": "Binh Duong Van",
      "photoUrl": "https://lh3.googleusercontent.com/a-/AOh14Ggt0R_vpxdkA9SOrPvnHgwuzwsHmYSxz6AMEDHtsA=s64",
      "userId": "14650316510824230211"
     }
    },
    "outputId": "44a9f0a9-59f8-4977-9b2a-ecc9dc53e6f8"
   },
   "source": [
    "temp = []\n",
    "for track in data_track:\n",
    "  if track != '':\n",
    "    temp.append(track)\n",
    "data_track = temp\n",
    "del temp\n",
    "print(len(data_track))"
   ],
   "execution_count": 23,
   "outputs": [
    {
     "output_type": "stream",
     "name": "stdout",
     "text": [
      "1770\n"
     ]
    }
   ]
  },
  {
   "cell_type": "markdown",
   "metadata": {
    "id": "DaALDUE28u1j"
   },
   "source": [
    "## Embedding and similarity functons"
   ]
  },
  {
   "cell_type": "code",
   "source": [
    "def vi_tokenize(ls_track):\n",
    "  temp = []\n",
    "  for track in ls_track:\n",
    "    temp.append(ViTokenizer.tokenize(track))\n",
    "  return temp"
   ],
   "metadata": {
    "id": "Ona6ZKazwYiP",
    "executionInfo": {
     "status": "ok",
     "timestamp": 1640187328420,
     "user_tz": -420,
     "elapsed": 11,
     "user": {
      "displayName": "Binh Duong Van",
      "photoUrl": "https://lh3.googleusercontent.com/a-/AOh14Ggt0R_vpxdkA9SOrPvnHgwuzwsHmYSxz6AMEDHtsA=s64",
      "userId": "14650316510824230211"
     }
    }
   },
   "execution_count": 56,
   "outputs": []
  },
  {
   "cell_type": "code",
   "source": [
    "data_track = vi_tokenize(data_track)\n",
    "user1_track = vi_tokenize(user1_track)\n",
    "user2_track = vi_tokenize(user2_track)\n",
    "user3_track = vi_tokenize(user3_track)"
   ],
   "metadata": {
    "id": "d3-CDOGGykyB",
    "executionInfo": {
     "status": "ok",
     "timestamp": 1640187488820,
     "user_tz": -420,
     "elapsed": 518,
     "user": {
      "displayName": "Binh Duong Van",
      "photoUrl": "https://lh3.googleusercontent.com/a-/AOh14Ggt0R_vpxdkA9SOrPvnHgwuzwsHmYSxz6AMEDHtsA=s64",
      "userId": "14650316510824230211"
     }
    }
   },
   "execution_count": 61,
   "outputs": []
  },
  {
   "cell_type": "code",
   "metadata": {
    "id": "bM7Zudvs_h1I",
    "executionInfo": {
     "status": "ok",
     "timestamp": 1640187513140,
     "user_tz": -420,
     "elapsed": 319,
     "user": {
      "displayName": "Binh Duong Van",
      "photoUrl": "https://lh3.googleusercontent.com/a-/AOh14Ggt0R_vpxdkA9SOrPvnHgwuzwsHmYSxz6AMEDHtsA=s64",
      "userId": "14650316510824230211"
     }
    }
   },
   "source": [
    "embeded_dims = 400\n",
    "\n",
    "tok = Tokenizer(filters='')\n",
    "tok.fit_on_texts(data_track)\n",
    "vocab_size = len(tok.word_index) + 1"
   ],
   "execution_count": 63,
   "outputs": []
  },
  {
   "cell_type": "code",
   "metadata": {
    "colab": {
     "base_uri": "https://localhost:8080/"
    },
    "id": "gsqGnS0R86fn",
    "executionInfo": {
     "status": "ok",
     "timestamp": 1640187522450,
     "user_tz": -420,
     "elapsed": 1188,
     "user": {
      "displayName": "Binh Duong Van",
      "photoUrl": "https://lh3.googleusercontent.com/a-/AOh14Ggt0R_vpxdkA9SOrPvnHgwuzwsHmYSxz6AMEDHtsA=s64",
      "userId": "14650316510824230211"
     }
    },
    "outputId": "72ef4358-9981-4ea3-8490-78e7830eeec2"
   },
   "source": [
    "max_seq = 1\n",
    "for track in data_track:\n",
    "  if len(track.split()) > max_seq:\n",
    "    max_seq = len(track.split())\n",
    "print(max_seq)"
   ],
   "execution_count": 64,
   "outputs": [
    {
     "output_type": "stream",
     "name": "stdout",
     "text": [
      "15\n"
     ]
    }
   ]
  },
  {
   "cell_type": "code",
   "metadata": {
    "id": "IV2F9-xsvd3K",
    "executionInfo": {
     "status": "ok",
     "timestamp": 1640187524267,
     "user_tz": -420,
     "elapsed": 8,
     "user": {
      "displayName": "Binh Duong Van",
      "photoUrl": "https://lh3.googleusercontent.com/a-/AOh14Ggt0R_vpxdkA9SOrPvnHgwuzwsHmYSxz6AMEDHtsA=s64",
      "userId": "14650316510824230211"
     }
    }
   },
   "source": [
    "def seq_padding(data, maxlen):\n",
    "  encoded_seq_matrix = tok.texts_to_sequences(data)\n",
    "  padded_seq_matrix = pad_sequences(encoded_seq_matrix, maxlen=maxlen, padding = 'post')\n",
    "  return padded_seq_matrix\n",
    "\n",
    "def embedding(padded, maxlen):\n",
    "  embeded_matrix = np.zeros(shape = (vocab_size, embeded_dims))\n",
    "  # embeded_matrix.setflags(write=1)\n",
    "  for word, i in tok.word_index.items():\n",
    "    embed_vector = word_vec_dict.get(word)\n",
    "    if embed_vector is not None:\n",
    "      embeded_matrix[i] = embed_vector\n",
    "  \n",
    "  embeddings = []\n",
    "  for seq in padded: # get each padded sequence\n",
    "    # temp = pd.Series()\n",
    "    # for i in range(len(seq)):\n",
    "    #   temp = pd.concat([temp, pd.Series(embeded_matrix[seq[i]])])\n",
    "    # temp = np.array(temp).reshape(-1, embeded_dims)\n",
    "    # embeddings.append(temp)\n",
    "    temp = []\n",
    "    for i in range(len(seq)):\n",
    "      temp.append(np.mean(embeded_matrix[seq[i]]))\n",
    "    embeddings.append(temp)\n",
    "    del temp\n",
    "  return np.array(embeddings)\n",
    "\n",
    "def cosine_sim(x, y):\n",
    "  k = np.dot(x, y.T)/(np.linalg.norm(x) * np.linalg.norm(y))\n",
    "  return k\n",
    "\n",
    "def pearson_sim(x, y):\n",
    "  k, _ = pearsonr(x, y)\n",
    "  return k"
   ],
   "execution_count": 65,
   "outputs": []
  },
  {
   "cell_type": "code",
   "metadata": {
    "id": "SMn6JXAQAVVe",
    "colab": {
     "base_uri": "https://localhost:8080/"
    },
    "executionInfo": {
     "status": "ok",
     "timestamp": 1640187528975,
     "user_tz": -420,
     "elapsed": 17,
     "user": {
      "displayName": "Binh Duong Van",
      "photoUrl": "https://lh3.googleusercontent.com/a-/AOh14Ggt0R_vpxdkA9SOrPvnHgwuzwsHmYSxz6AMEDHtsA=s64",
      "userId": "14650316510824230211"
     }
    },
    "outputId": "574e3c26-aea2-491a-d22e-dc8f198cff8a"
   },
   "source": [
    "padded_track = seq_padding(data_track, max_seq)\n",
    "padded_user1 = seq_padding(user1_track, max_seq)\n",
    "padded_user2 = seq_padding(user2_track, max_seq)\n",
    "padded_user3 = seq_padding(user3_track, max_seq)\n",
    "print(padded_track)\n",
    "print(padded_user1)\n",
    "print(padded_user2)\n",
    "print(padded_user3)"
   ],
   "execution_count": 66,
   "outputs": [
    {
     "output_type": "stream",
     "name": "stdout",
     "text": [
      "[[  20  212  253 ...    0    0    0]\n",
      " [ 742   54  213 ...    0    0    0]\n",
      " [ 181   18  743 ...    0    0    0]\n",
      " ...\n",
      " [  90   34  148 ...    0    0    0]\n",
      " [ 112  124  160 ...    0    0    0]\n",
      " [ 336  129 1637 ...    0    0    0]]\n",
      "[[ 293   23  309   67   12    0    0    0    0    0    0    0    0    0\n",
      "     0]\n",
      " [1442  215   62  467    0    0    0    0    0    0    0    0    0    0\n",
      "     0]\n",
      " [1001 1002  344    0    0    0    0    0    0    0    0    0    0    0\n",
      "     0]\n",
      " [  16  293    5    7   84    0    0    0    0    0    0    0    0    0\n",
      "     0]\n",
      " [ 181   18  743    0    0    0    0    0    0    0    0    0    0    0\n",
      "     0]\n",
      " [ 181    6  546   12   13    0    0    0    0    0    0    0    0    0\n",
      "     0]\n",
      " [ 756   42    1    0    0    0    0    0    0    0    0    0    0    0\n",
      "     0]\n",
      " [ 742   54  213   35   21    0    0    0    0    0    0    0    0    0\n",
      "     0]\n",
      " [  89  126   16    2    0    0    0    0    0    0    0    0    0    0\n",
      "     0]\n",
      " [ 232  229  361    0    0    0    0    0    0    0    0    0    0    0\n",
      "     0]\n",
      " [ 955  956   25  427   46   26    0    0    0    0    0    0    0    0\n",
      "     0]\n",
      " [   2  188   54    0    0    0    0    0    0    0    0    0    0    0\n",
      "     0]\n",
      " [ 791  193  220   13   64    0    0    0    0    0    0    0    0    0\n",
      "     0]]\n",
      "[[ 51 163  10 303  13  38  68  79  18  72   0   0   0   0   0]\n",
      " [412   0   0   0   0   0   0   0   0   0   0   0   0   0   0]\n",
      " [167  31  38  68  79  18  72   0   0   0   0   0   0   0   0]\n",
      " [327   1  50   2 201 328  49   0   0   0   0   0   0   0   0]\n",
      " [184 953 143   0   0   0   0   0   0   0   0   0   0   0   0]\n",
      " [107  31 169  38  68  79  18  72   0   0   0   0   0   0   0]\n",
      " [  8 489 111  25   0   0   0   0   0   0   0   0   0   0   0]\n",
      " [115 374 107 769   0   0   0   0   0   0   0   0   0   0   0]\n",
      " [210 476   0   0   0   0   0   0   0   0   0   0   0   0   0]\n",
      " [ 10 267 268 223   0   0   0   0   0   0   0   0   0   0   0]\n",
      " [  2 537  91  49 107 538   1   0   0   0   0   0   0   0   0]\n",
      " [327   1  50   2 201 328  49  38  68  79  18  72   0   0   0]\n",
      " [ 32 396 914  37   0   0   0   0   0   0   0   0   0   0   0]\n",
      " [ 10 267 268 223  38  68  79  18  72   0   0   0   0   0   0]\n",
      " [ 10  12 143   0   0   0   0   0   0   0   0   0   0   0   0]\n",
      " [ 19  83  93 939 940   0   0   0   0   0   0   0   0   0   0]\n",
      " [186 126 215 381   0   0   0   0   0   0   0   0   0   0   0]\n",
      " [ 24 203   2   7 950   0   0   0   0   0   0   0   0   0   0]\n",
      " [ 73  97 336  13   0   0   0   0   0   0   0   0   0   0   0]\n",
      " [294  57   0   0   0   0   0   0   0   0   0   0   0   0   0]\n",
      " [  8 190 779   0   0   0   0   0   0   0   0   0   0   0   0]\n",
      " [ 51 163  10 303  13   0   0   0   0   0   0   0   0   0   0]\n",
      " [ 20 190  31  38  68  79  18  72   0   0   0   0   0   0   0]\n",
      " [ 32 151 152   0   0   0   0   0   0   0   0   0   0   0   0]\n",
      " [ 20 190  31 467   0   0   0   0   0   0   0   0   0   0   0]\n",
      " [  2 537  91  49 107 538   1  38  68  79  18  72   0   0   0]\n",
      " [ 26   0   0   0   0   0   0   0   0   0   0   0   0   0   0]\n",
      " [891 892   0   0   0   0   0   0   0   0   0   0   0   0   0]\n",
      " [401  13  10 294  38  68  79  18  72   0   0   0   0   0   0]\n",
      " [120 165 853  42   0   0   0   0   0   0   0   0   0   0   0]\n",
      " [ 26  38  68  79  18  72   0   0   0   0   0   0   0   0   0]\n",
      " [115  61  33  60  99 981  38  68  79  18  72   0   0   0   0]]\n",
      "[[   1  386    0    0    0    0    0    0    0    0    0    0    0    0\n",
      "     0]\n",
      " [ 179  209  123    0    0    0    0    0    0    0    0    0    0    0\n",
      "     0]\n",
      " [1471    0    0    0    0    0    0    0    0    0    0    0    0    0\n",
      "     0]\n",
      " [  98   27    1    0    0    0    0    0    0    0    0    0    0    0\n",
      "     0]\n",
      " [  89   66    0    0    0    0    0    0    0    0    0    0    0    0\n",
      "     0]\n",
      " [  80 1568    0    0    0    0    0    0    0    0    0    0    0    0\n",
      "     0]\n",
      " [   4   40  290  302    0    0    0    0    0    0    0    0    0    0\n",
      "     0]\n",
      " [  17    1    0    0    0    0    0    0    0    0    0    0    0    0\n",
      "     0]\n",
      " [  65    7   46   26    0    0    0    0    0    0    0    0    0    0\n",
      "     0]\n",
      " [ 632    1   70    8  266  197    0    0    0    0    0    0    0    0\n",
      "     0]\n",
      " [ 250    0    0    0    0    0    0    0    0    0    0    0    0    0\n",
      "     0]\n",
      " [ 148  391 1343    0    0    0    0    0    0    0    0    0    0    0\n",
      "     0]\n",
      " [ 141 1218    1    0    0    0    0    0    0    0    0    0    0    0\n",
      "     0]\n",
      " [ 701  222    0    0    0    0    0    0    0    0    0    0    0    0\n",
      "     0]\n",
      " [ 167   31   38   68   79   18   72    0    0    0    0    0    0    0\n",
      "     0]\n",
      " [  11   21   45    0    0    0    0    0    0    0    0    0    0    0\n",
      "     0]\n",
      " [1366  220  191  715    0    0    0    0    0    0    0    0    0    0\n",
      "     0]\n",
      " [ 142  398  453    0    0    0    0    0    0    0    0    0    0    0\n",
      "     0]\n",
      " [   5   27  333    0    0    0    0    0    0    0    0    0    0    0\n",
      "     0]\n",
      " [  73   50   15    1    0    0    0    0    0    0    0    0    0    0\n",
      "     0]]\n"
     ]
    }
   ]
  },
  {
   "cell_type": "code",
   "metadata": {
    "id": "s4W3NDs36p3k",
    "colab": {
     "base_uri": "https://localhost:8080/"
    },
    "executionInfo": {
     "status": "ok",
     "timestamp": 1640187535982,
     "user_tz": -420,
     "elapsed": 573,
     "user": {
      "displayName": "Binh Duong Van",
      "photoUrl": "https://lh3.googleusercontent.com/a-/AOh14Ggt0R_vpxdkA9SOrPvnHgwuzwsHmYSxz6AMEDHtsA=s64",
      "userId": "14650316510824230211"
     }
    },
    "outputId": "523b3646-e857-452e-f8b6-ff31f70ef69d"
   },
   "source": [
    "embeded_track = embedding(padded_track, max_seq)\n",
    "embedded_user1 = embedding(padded_user1, max_seq)\n",
    "embedded_user2 = embedding(padded_user2, max_seq)\n",
    "embedded_user3 = embedding(padded_user3, max_seq)\n",
    "print(embeded_track)\n",
    "print(embedded_user1)\n",
    "print(embedded_user2)\n",
    "print(embedded_user3)"
   ],
   "execution_count": 67,
   "outputs": [
    {
     "output_type": "stream",
     "name": "stdout",
     "text": [
      "[[ 0.08403356 -0.02541728  0.03174873 ...  0.          0.\n",
      "   0.        ]\n",
      " [-0.03130917 -0.04701964 -0.1238172  ...  0.          0.\n",
      "   0.        ]\n",
      " [-0.10703138 -0.01422054 -0.00100994 ...  0.          0.\n",
      "   0.        ]\n",
      " ...\n",
      " [ 0.09853326  0.01828721  0.04342335 ...  0.          0.\n",
      "   0.        ]\n",
      " [ 0.10175381 -0.05758433  0.02685704 ...  0.          0.\n",
      "   0.        ]\n",
      " [-0.07868152  0.08431231 -0.14304986 ...  0.          0.\n",
      "   0.        ]]\n",
      "[[-0.00665436 -0.05368769  0.03820119 -0.14003186 -0.00520911  0.\n",
      "   0.          0.          0.          0.          0.          0.\n",
      "   0.          0.          0.        ]\n",
      " [ 0.00451962 -0.02977728  0.01461879 -0.01424627  0.          0.\n",
      "   0.          0.          0.          0.          0.          0.\n",
      "   0.          0.          0.        ]\n",
      " [-0.04711027 -0.00135678  0.02898023  0.          0.          0.\n",
      "   0.          0.          0.          0.          0.          0.\n",
      "   0.          0.          0.        ]\n",
      " [-0.07527336 -0.00665436 -0.04217839  0.04703849 -0.06551244  0.\n",
      "   0.          0.          0.          0.          0.          0.\n",
      "   0.          0.          0.        ]\n",
      " [-0.10703138 -0.01422054 -0.00100994  0.          0.          0.\n",
      "   0.          0.          0.          0.          0.          0.\n",
      "   0.          0.          0.        ]\n",
      " [-0.10703138  0.03860201  0.06705801 -0.00520911 -0.02319603  0.\n",
      "   0.          0.          0.          0.          0.          0.\n",
      "   0.          0.          0.        ]\n",
      " [-0.03704134  0.06081066 -0.08681032  0.          0.          0.\n",
      "   0.          0.          0.          0.          0.          0.\n",
      "   0.          0.          0.        ]\n",
      " [-0.03130917 -0.04701964 -0.1238172   0.08285239 -0.01211021  0.\n",
      "   0.          0.          0.          0.          0.          0.\n",
      "   0.          0.          0.        ]\n",
      " [ 0.02966711 -0.09483602 -0.07527336 -0.13977821  0.          0.\n",
      "   0.          0.          0.          0.          0.          0.\n",
      "   0.          0.          0.        ]\n",
      " [-0.04591776  0.05201742  0.01407142  0.          0.          0.\n",
      "   0.          0.          0.          0.          0.          0.\n",
      "   0.          0.          0.        ]\n",
      " [ 0.10367789  0.13193453 -0.05253194  0.061292   -0.09540836 -0.01539094\n",
      "   0.          0.          0.          0.          0.          0.\n",
      "   0.          0.          0.        ]\n",
      " [-0.13977821  0.04390504 -0.04701964  0.          0.          0.\n",
      "   0.          0.          0.          0.          0.          0.\n",
      "   0.          0.          0.        ]\n",
      " [-0.013399    0.08821542 -0.02856312 -0.02319603  0.00634812  0.\n",
      "   0.          0.          0.          0.          0.          0.\n",
      "   0.          0.          0.        ]]\n",
      "[[-0.09138102 -0.10262829 -0.12230588 -0.03535642 -0.02319603 -0.00652116\n",
      "  -0.06174595  0.00287653 -0.01422054  0.11198775  0.          0.\n",
      "   0.          0.          0.        ]\n",
      " [-0.06945168  0.          0.          0.          0.          0.\n",
      "   0.          0.          0.          0.          0.          0.\n",
      "   0.          0.          0.        ]\n",
      " [-0.0712614  -0.10899992 -0.00652116 -0.06174595  0.00287653 -0.01422054\n",
      "   0.11198775  0.          0.          0.          0.          0.\n",
      "   0.          0.          0.        ]\n",
      " [ 0.09324244 -0.08681032  0.06151174 -0.13977821 -0.0605245  -0.09871822\n",
      "  -0.09799022  0.          0.          0.          0.          0.\n",
      "   0.          0.          0.        ]\n",
      " [ 0.06965032  0.0918627  -0.02960861  0.          0.          0.\n",
      "   0.          0.          0.          0.          0.          0.\n",
      "   0.          0.          0.        ]\n",
      " [-0.09914476 -0.10899992 -0.09870637 -0.00652116 -0.06174595  0.00287653\n",
      "  -0.01422054  0.11198775  0.          0.          0.          0.\n",
      "   0.          0.          0.        ]\n",
      " [ 0.03593618 -0.02362675 -0.18919418 -0.05253194  0.          0.\n",
      "   0.          0.          0.          0.          0.          0.\n",
      "   0.          0.          0.        ]\n",
      " [-0.0469108  -0.10786934 -0.09914476  0.          0.          0.\n",
      "   0.          0.          0.          0.          0.          0.\n",
      "   0.          0.          0.        ]\n",
      " [-0.12688493 -0.01696589  0.          0.          0.          0.\n",
      "   0.          0.          0.          0.          0.          0.\n",
      "   0.          0.          0.        ]\n",
      " [-0.12230588 -0.06274611 -0.02665068  0.04627997  0.          0.\n",
      "   0.          0.          0.          0.          0.          0.\n",
      "   0.          0.          0.        ]\n",
      " [-0.13977821  0.00424932 -0.14538851 -0.09799022 -0.09914476 -0.01406295\n",
      "  -0.08681032  0.          0.          0.          0.          0.\n",
      "   0.          0.          0.        ]\n",
      " [ 0.09324244 -0.08681032  0.06151174 -0.13977821 -0.0605245  -0.09871822\n",
      "  -0.09799022 -0.00652116 -0.06174595  0.00287653 -0.01422054  0.11198775\n",
      "   0.          0.          0.        ]\n",
      " [ 0.01557627 -0.15089256 -0.01140125  0.05051406  0.          0.\n",
      "   0.          0.          0.          0.          0.          0.\n",
      "   0.          0.          0.        ]\n",
      " [-0.12230588 -0.06274611 -0.02665068  0.04627997 -0.00652116 -0.06174595\n",
      "   0.00287653 -0.01422054  0.11198775  0.          0.          0.\n",
      "   0.          0.          0.        ]\n",
      " [-0.12230588 -0.00520911 -0.02960861  0.          0.          0.\n",
      "   0.          0.          0.          0.          0.          0.\n",
      "   0.          0.          0.        ]\n",
      " [ 0.15884614  0.0870178  -0.09387451  0.10344194 -0.00511956  0.\n",
      "   0.          0.          0.          0.          0.          0.\n",
      "   0.          0.          0.        ]\n",
      " [-0.01117428 -0.09483602 -0.02977728  0.01524455  0.          0.\n",
      "   0.          0.          0.          0.          0.          0.\n",
      "   0.          0.          0.        ]\n",
      " [-0.03308487  0.12129452 -0.13977821  0.04703849  0.09384469  0.\n",
      "   0.          0.          0.          0.          0.          0.\n",
      "   0.          0.          0.        ]\n",
      " [-0.08996341 -0.19564332 -0.07868152 -0.02319603  0.          0.\n",
      "   0.          0.          0.          0.          0.          0.\n",
      "   0.          0.          0.        ]\n",
      " [ 0.01998152 -0.09504251  0.          0.          0.          0.\n",
      "   0.          0.          0.          0.          0.          0.\n",
      "   0.          0.          0.        ]\n",
      " [ 0.03593618  0.17293337  0.00857076  0.          0.          0.\n",
      "   0.          0.          0.          0.          0.          0.\n",
      "   0.          0.          0.        ]\n",
      " [-0.09138102 -0.10262829 -0.12230588 -0.03535642 -0.02319603  0.\n",
      "   0.          0.          0.          0.          0.          0.\n",
      "   0.          0.          0.        ]\n",
      " [ 0.08403356  0.17293337 -0.10899992 -0.00652116 -0.06174595  0.00287653\n",
      "  -0.01422054  0.11198775  0.          0.          0.          0.\n",
      "   0.          0.          0.        ]\n",
      " [ 0.01557627 -0.00400794 -0.00259266  0.          0.          0.\n",
      "   0.          0.          0.          0.          0.          0.\n",
      "   0.          0.          0.        ]\n",
      " [ 0.08403356  0.17293337 -0.10899992 -0.01424627  0.          0.\n",
      "   0.          0.          0.          0.          0.          0.\n",
      "   0.          0.          0.        ]\n",
      " [-0.13977821  0.00424932 -0.14538851 -0.09799022 -0.09914476 -0.01406295\n",
      "  -0.08681032 -0.00652116 -0.06174595  0.00287653 -0.01422054  0.11198775\n",
      "   0.          0.          0.        ]\n",
      " [-0.01539094  0.          0.          0.          0.          0.\n",
      "   0.          0.          0.          0.          0.          0.\n",
      "   0.          0.          0.        ]\n",
      " [ 0.01823344  0.05971492  0.          0.          0.          0.\n",
      "   0.          0.          0.          0.          0.          0.\n",
      "   0.          0.          0.        ]\n",
      " [-0.10401145 -0.02319603 -0.12230588  0.01998152 -0.00652116 -0.06174595\n",
      "   0.00287653 -0.01422054  0.11198775  0.          0.          0.\n",
      "   0.          0.          0.        ]\n",
      " [-0.16770962  0.0803289   0.06195524  0.06081066  0.          0.\n",
      "   0.          0.          0.          0.          0.          0.\n",
      "   0.          0.          0.        ]\n",
      " [-0.01539094 -0.00652116 -0.06174595  0.00287653 -0.01422054  0.11198775\n",
      "   0.          0.          0.          0.          0.          0.\n",
      "   0.          0.          0.        ]\n",
      " [-0.0469108   0.15652423 -0.06018293  0.08768303 -0.07112399  0.01425339\n",
      "  -0.00652116 -0.06174595  0.00287653 -0.01422054  0.11198775  0.\n",
      "   0.          0.          0.        ]]\n",
      "[[-0.08681032 -0.00312764  0.          0.          0.          0.\n",
      "   0.          0.          0.          0.          0.          0.\n",
      "   0.          0.          0.        ]\n",
      " [ 0.13173468  0.11709445  0.07158602  0.          0.          0.\n",
      "   0.          0.          0.          0.          0.          0.\n",
      "   0.          0.          0.        ]\n",
      " [ 0.0368176   0.          0.          0.          0.          0.\n",
      "   0.          0.          0.          0.          0.          0.\n",
      "   0.          0.          0.        ]\n",
      " [-0.24380742 -0.12059583 -0.08681032  0.          0.          0.\n",
      "   0.          0.          0.          0.          0.          0.\n",
      "   0.          0.          0.        ]\n",
      " [ 0.02966711 -0.12504703  0.          0.          0.          0.\n",
      "   0.          0.          0.          0.          0.          0.\n",
      "   0.          0.          0.        ]\n",
      " [ 0.09899573 -0.01440884  0.          0.          0.          0.\n",
      "   0.          0.          0.          0.          0.          0.\n",
      "   0.          0.          0.        ]\n",
      " [ 0.01529643  0.1651241   0.02533153  0.0420159   0.          0.\n",
      "   0.          0.          0.          0.          0.          0.\n",
      "   0.          0.          0.        ]\n",
      " [-0.07411644 -0.08681032  0.          0.          0.          0.\n",
      "   0.          0.          0.          0.          0.          0.\n",
      "   0.          0.          0.        ]\n",
      " [-0.0468667   0.04703849 -0.09540836 -0.01539094  0.          0.\n",
      "   0.          0.          0.          0.          0.          0.\n",
      "   0.          0.          0.        ]\n",
      " [ 0.01418985 -0.08681032 -0.04817667  0.03593618 -0.07130166  0.08936076\n",
      "   0.          0.          0.          0.          0.          0.\n",
      "   0.          0.          0.        ]\n",
      " [-0.11245428  0.          0.          0.          0.          0.\n",
      "   0.          0.          0.          0.          0.          0.\n",
      "   0.          0.          0.        ]\n",
      " [ 0.04342335 -0.01404266  0.          0.          0.          0.\n",
      "   0.          0.          0.          0.          0.          0.\n",
      "   0.          0.          0.        ]\n",
      " [-0.04850486  0.05416142 -0.08681032  0.          0.          0.\n",
      "   0.          0.          0.          0.          0.          0.\n",
      "   0.          0.          0.        ]\n",
      " [-0.04369099  0.00710153  0.          0.          0.          0.\n",
      "   0.          0.          0.          0.          0.          0.\n",
      "   0.          0.          0.        ]\n",
      " [-0.0712614  -0.10899992 -0.00652116 -0.06174595  0.00287653 -0.01422054\n",
      "   0.11198775  0.          0.          0.          0.          0.\n",
      "   0.          0.          0.        ]\n",
      " [-0.00882467 -0.01211021 -0.17912103  0.          0.          0.\n",
      "   0.          0.          0.          0.          0.          0.\n",
      "   0.          0.          0.        ]\n",
      " [ 0.06700012 -0.02856312  0.00377682  0.01858547  0.          0.\n",
      "   0.          0.          0.          0.          0.          0.\n",
      "   0.          0.          0.        ]\n",
      " [ 0.01926497 -0.05954532 -0.03357848  0.          0.          0.\n",
      "   0.          0.          0.          0.          0.          0.\n",
      "   0.          0.          0.        ]\n",
      " [-0.04217839 -0.12059583  0.03053842  0.          0.          0.\n",
      "   0.          0.          0.          0.          0.          0.\n",
      "   0.          0.          0.        ]\n",
      " [-0.08996341  0.06151174 -0.16232401 -0.08681032  0.          0.\n",
      "   0.          0.          0.          0.          0.          0.\n",
      "   0.          0.          0.        ]]\n"
     ]
    }
   ]
  },
  {
   "cell_type": "markdown",
   "metadata": {
    "id": "8lfSQFJNtA6d"
   },
   "source": [
    "## Arrange track_name and its feature extraction"
   ]
  },
  {
   "cell_type": "code",
   "metadata": {
    "id": "3aoXHPrsvl2A",
    "executionInfo": {
     "status": "ok",
     "timestamp": 1640187542030,
     "user_tz": -420,
     "elapsed": 1752,
     "user": {
      "displayName": "Binh Duong Van",
      "photoUrl": "https://lh3.googleusercontent.com/a-/AOh14Ggt0R_vpxdkA9SOrPvnHgwuzwsHmYSxz6AMEDHtsA=s64",
      "userId": "14650316510824230211"
     }
    }
   },
   "source": [
    "def fillback_data(data_track, user1_track, user2_track, user3_track):\n",
    "  data_track_name = data_df.track_name\n",
    "  user1_track_name = user1_df.track_name\n",
    "  user2_track_name = user2_df.track_name\n",
    "  user3_track_name = user3_df.track_name\n",
    "  data_track_name.drop(track_drop, inplace = True)\n",
    "  data_track_name.reset_index(drop = True, inplace = True)\n",
    "\n",
    "  df = pd.DataFrame()\n",
    "  df['org_name'] = data_track_name\n",
    "  df['preprocessed_name'] = data_track\n",
    "  df['padding_name'] = list(map(lambda row: row, padded_track))\n",
    "  df['embedding_name'] = list(map(lambda row: row, embeded_track))\n",
    "\n",
    "  df1 = pd.DataFrame()\n",
    "  df1['org_name'] = user1_track_name\n",
    "  df1['preprocessed_name'] = user1_track\n",
    "  df1['padding_name'] = list(map(lambda row: row, padded_user1))\n",
    "  df1['embedding_name'] = list(map(lambda row: row, embedded_user1))\n",
    "\n",
    "  df2 = pd.DataFrame()\n",
    "  df2['org_name'] = user2_track_name\n",
    "  df2['preprocessed_name'] = user2_track\n",
    "  df2['padding_name'] = list(map(lambda row: row, padded_user2))\n",
    "  df2['embedding_name'] = list(map(lambda row: row, embedded_user2))\n",
    "\n",
    "  df3 = pd.DataFrame()\n",
    "  df3['org_name'] = user3_track_name\n",
    "  df3['preprocessed_name'] = user3_track\n",
    "  df3['padding_name'] = list(map(lambda row: row, padded_user3))\n",
    "  df3['embedding_name'] = list(map(lambda row: row, embedded_user3))\n",
    "\n",
    "  return df, df1, df2, df3"
   ],
   "execution_count": 68,
   "outputs": []
  },
  {
   "cell_type": "code",
   "metadata": {
    "id": "LSyEtL5cyF8H",
    "executionInfo": {
     "status": "ok",
     "timestamp": 1640187542551,
     "user_tz": -420,
     "elapsed": 68,
     "user": {
      "displayName": "Binh Duong Van",
      "photoUrl": "https://lh3.googleusercontent.com/a-/AOh14Ggt0R_vpxdkA9SOrPvnHgwuzwsHmYSxz6AMEDHtsA=s64",
      "userId": "14650316510824230211"
     }
    }
   },
   "source": [
    "f_data_track, f_user1_track, f_user2_track, f_user3_track = fillback_data(data_track, user1_track, user2_track, user3_track)"
   ],
   "execution_count": 69,
   "outputs": []
  },
  {
   "cell_type": "code",
   "metadata": {
    "colab": {
     "base_uri": "https://localhost:8080/",
     "height": 36
    },
    "id": "2wObTeVa5qhK",
    "executionInfo": {
     "status": "ok",
     "timestamp": 1640187542555,
     "user_tz": -420,
     "elapsed": 65,
     "user": {
      "displayName": "Binh Duong Van",
      "photoUrl": "https://lh3.googleusercontent.com/a-/AOh14Ggt0R_vpxdkA9SOrPvnHgwuzwsHmYSxz6AMEDHtsA=s64",
      "userId": "14650316510824230211"
     }
    },
    "outputId": "b7be3f93-6d0e-406b-d00a-35277f58d79c"
   },
   "source": [
    "user1_track[1]"
   ],
   "execution_count": 70,
   "outputs": [
    {
     "output_type": "execute_result",
     "data": {
      "application/vnd.google.colaboratory.intrinsic+json": {
       "type": "string"
      },
      "text/plain": [
       "'dnb chill original mix'"
      ]
     },
     "metadata": {},
     "execution_count": 70
    }
   ]
  },
  {
   "cell_type": "code",
   "metadata": {
    "colab": {
     "base_uri": "https://localhost:8080/"
    },
    "id": "t7BZZaKK55TP",
    "executionInfo": {
     "status": "ok",
     "timestamp": 1640187542559,
     "user_tz": -420,
     "elapsed": 59,
     "user": {
      "displayName": "Binh Duong Van",
      "photoUrl": "https://lh3.googleusercontent.com/a-/AOh14Ggt0R_vpxdkA9SOrPvnHgwuzwsHmYSxz6AMEDHtsA=s64",
      "userId": "14650316510824230211"
     }
    },
    "outputId": "d51ef229-3549-4bf6-e74c-c78282742b1e"
   },
   "source": [
    "f_user1_track.iloc[1, :]"
   ],
   "execution_count": 71,
   "outputs": [
    {
     "output_type": "execute_result",
     "data": {
      "text/plain": [
       "org_name                                      DnB Chill (Original Mix)\n",
       "preprocessed_name                               dnb chill original mix\n",
       "padding_name         [1442, 215, 62, 467, 0, 0, 0, 0, 0, 0, 0, 0, 0...\n",
       "embedding_name       [0.004519624118984211, -0.0297772849915782, 0....\n",
       "Name: 1, dtype: object"
      ]
     },
     "metadata": {},
     "execution_count": 71
    }
   ]
  },
  {
   "cell_type": "markdown",
   "metadata": {
    "id": "p9wOaXHEMokP"
   },
   "source": [
    "## Experiments on recommendations"
   ]
  },
  {
   "cell_type": "code",
   "metadata": {
    "id": "A77_nCc3Mv7d",
    "executionInfo": {
     "status": "ok",
     "timestamp": 1640187558990,
     "user_tz": -420,
     "elapsed": 420,
     "user": {
      "displayName": "Binh Duong Van",
      "photoUrl": "https://lh3.googleusercontent.com/a-/AOh14Ggt0R_vpxdkA9SOrPvnHgwuzwsHmYSxz6AMEDHtsA=s64",
      "userId": "14650316510824230211"
     }
    }
   },
   "source": [
    "def top_10_similarity(user_embedded_track, raw_user_track, similarity = 'cosine'):\n",
    "  if similarity.lower() not in ['cosine', 'pearson']:\n",
    "    return None\n",
    "\n",
    "  f_data_track, _, __, ___ = fillback_data(data_track, user1_track, user2_track, user3_track)\n",
    "  temp = []\n",
    "  if similarity.lower() == 'cosine':\n",
    "    for name, embed in zip(f_data_track.org_name, f_data_track.embedding_name):\n",
    "      if name in list(raw_user_track): continue\n",
    "      sim = cosine_sim(user_embedded_track, np.array(embed))\n",
    "      temp.append((name, sim))\n",
    "  \n",
    "  else:\n",
    "    for name, embed in zip(f_data_track.org_name, f_data_track.embedding_name):\n",
    "      if name in list(raw_user_track): continue\n",
    "      sim = pearson_sim(user_embedded_track, np.array(embed))\n",
    "      temp.append((name, sim))\n",
    "  \n",
    "  temp.sort(key = lambda x: x[1], reverse = True)\n",
    "  return temp[:10]"
   ],
   "execution_count": 72,
   "outputs": []
  },
  {
   "cell_type": "code",
   "metadata": {
    "id": "PfI3ZF3XBU7R"
   },
   "source": [
    "# Get recommend for each track of user 1\n",
    "# pearson, cosine\n",
    "pear_recommend_user1 = []\n",
    "cosine_recommend_user1 = []\n",
    "for track in embedded_user1:\n",
    "  pear_recommend_user1.append(top_10_similarity(track, raw_user1_track, similarity = 'pearson'))\n",
    "  cosine_recommend_user1.append(top_10_similarity(track, raw_user1_track, similarity = 'cosine'))"
   ],
   "execution_count": null,
   "outputs": []
  },
  {
   "cell_type": "code",
   "metadata": {
    "id": "qZ6Lu0W1S3zN"
   },
   "source": [
    "# Get recommend for each track of user 2\n",
    "# pearson, cosine\n",
    "pear_recommend_user2 = []\n",
    "cosine_recommend_user2 = []\n",
    "for track in embedded_user2:\n",
    "  pear_recommend_user2.append(top_10_similarity(track, raw_user2_track, similarity = 'pearson'))\n",
    "  cosine_recommend_user2.append(top_10_similarity(track, raw_user2_track, similarity = 'cosine'))"
   ],
   "execution_count": null,
   "outputs": []
  },
  {
   "cell_type": "code",
   "metadata": {
    "id": "chUEhT7FWGYa"
   },
   "source": [
    "# Get recommend for each track of user 3\n",
    "# pearson, cosine\n",
    "pear_recommend_user3 = []\n",
    "cosine_recommend_user3 = []\n",
    "for track in embedded_user3:\n",
    "  pear_recommend_user3.append(top_10_similarity(track, raw_user3_track, similarity = 'pearson'))\n",
    "  cosine_recommend_user3.append(top_10_similarity(track, raw_user3_track, similarity = 'cosine'))"
   ],
   "execution_count": null,
   "outputs": []
  },
  {
   "cell_type": "code",
   "metadata": {
    "id": "Vbxdr7oeWLu0",
    "colab": {
     "base_uri": "https://localhost:8080/"
    },
    "executionInfo": {
     "status": "ok",
     "timestamp": 1640187589118,
     "user_tz": -420,
     "elapsed": 623,
     "user": {
      "displayName": "Binh Duong Van",
      "photoUrl": "https://lh3.googleusercontent.com/a-/AOh14Ggt0R_vpxdkA9SOrPvnHgwuzwsHmYSxz6AMEDHtsA=s64",
      "userId": "14650316510824230211"
     }
    },
    "outputId": "aa20b567-b70c-4ec3-fda4-6517c87279a7"
   },
   "source": [
    "pear_recommend_user2"
   ],
   "execution_count": 74,
   "outputs": [
    {
     "output_type": "execute_result",
     "data": {
      "text/plain": [
       "[[('Càng Lớn Càng Cô Đơn', 0.7765023019832661),\n",
       "  ('Hãy Để Anh Yêu Em Lần Nữa', 0.7763516957320088),\n",
       "  ('Cho Em Lời Cuối', 0.7726481899890761),\n",
       "  ('Ai Rồi Cũng Khác', 0.7656432742762591),\n",
       "  ('có hẹn với thanh xuân', 0.7619172959991671),\n",
       "  ('Nếu em thấy cô đơn', 0.7577041658556558),\n",
       "  ('Ai Đưa Em Về', 0.7502448407343926),\n",
       "  ('Làm Gì Phải Hốt', 0.7444783556816919),\n",
       "  ('từ chối nhẹ nhàng thôi', 0.7439345341743858),\n",
       "  ('Xin Cho Tôi Được Yêu', 0.7416374019128308)],\n",
       " [('Đom Đóm', 0.9999999999999999),\n",
       "  ('Mặt Trăng', 0.9999999999999999),\n",
       "  ('Katy', 0.9999999999999999),\n",
       "  ('Tại Sao', 0.9999999999999999),\n",
       "  ('Tình Cờ', 0.9999999999999999),\n",
       "  ('Oanh', 0.9999999999999999),\n",
       "  ('Berlin', 0.9999999999999998),\n",
       "  ('Lửng Lơ', 0.9999999999999998),\n",
       "  ('Thất Tình', 0.9999999999999998),\n",
       "  ('ToGetHer', 0.9999999999999998)],\n",
       " [('Anh Sẽ Về Sớm Thôi', 0.7645014735134541),\n",
       "  ('Chỉ Anh Hiểu Em', 0.7630906420749414),\n",
       "  ('Chi Anh Hieu Em', 0.7619345123245223),\n",
       "  ('Lời Sám Hối Của Kẻ Hấp Hối', 0.7369433188353293),\n",
       "  ('Mãi cho tình lênh đênh', 0.7134742183344088),\n",
       "  ('Thích Em Hơi Nhiều', 0.7082702936365182),\n",
       "  ('Love Rosie', 0.6965009189575792),\n",
       "  ('Có Người', 0.6944465966766775),\n",
       "  ('Nhớ người', 0.6934811984542814),\n",
       "  ('Lại Nhớ Người Yêu', 0.6912027671816283)],\n",
       " [('Biết Nói Là Tại Sao', 0.830193516773383),\n",
       "  ('Một thoáng chim bay', 0.8234989154504735),\n",
       "  ('Giọt Sương Trên Mi Mắt', 0.7603617149325174),\n",
       "  ('Bên Ấy Bên Này', 0.752638403221286),\n",
       "  ('Nỗi nhớ dịu êm', 0.7482023851843116),\n",
       "  ('Sao Anh Ra Đi', 0.718458683760126),\n",
       "  ('Sai lầm vẫn là anh', 0.7177797190608775),\n",
       "  ('Tình em trao anh', 0.7175020483842621),\n",
       "  ('Như Đã Dấu Yêu', 0.7154385556668822),\n",
       "  ('Mùa Thu Lá Bay', 0.7149484243968308)],\n",
       " [('Kí Ức Vpop 6', 0.9885081138852211),\n",
       "  ('Dòng Sông Lơ Đãng', 0.9780531368476375),\n",
       "  ('Mặt Trời Êm Dịu', 0.9683850035764442),\n",
       "  ('Trò Đùa - Lofi version', 0.9683226464894487),\n",
       "  ('Răng Khôn (feat. RIN9)', 0.967749506399834),\n",
       "  ('Kiếp Phong Ba', 0.9675181299498692),\n",
       "  ('Áo Lụa Hà Đông', 0.9663310767433928),\n",
       "  ('Kiếp Ve Sầu', 0.9630037273410216),\n",
       "  ('Kí Ức Vpop 4', 0.9606074206500427),\n",
       "  ('Phố Hoa', 0.9549168330765249)],\n",
       " [('Có Em Đời Bỗng Vui', 0.8033957165191327),\n",
       "  ('Hãy Để Anh Yêu Em Lần Nữa', 0.7928842398131813),\n",
       "  ('Nếu em thấy cô đơn', 0.7835326136250583),\n",
       "  ('Càng Lớn Càng Cô Đơn', 0.7774033253672665),\n",
       "  ('Cho Em Lời Cuối', 0.7771484020164169),\n",
       "  ('Có Em Chờ', 0.7753551132572731),\n",
       "  ('Nếu Có Quay Về', 0.7740777055231639),\n",
       "  ('Em Có Nghe', 0.7665694095693627),\n",
       "  ('Tháng Mấy Em Nhớ Anh?', 0.7654865333675881),\n",
       "  ('Làm Gì Phải Hốt', 0.7462858207260977)],\n",
       " [('Ngọn đồi chong chóng', 0.9599394355284167),\n",
       "  ('Tình Và Đời', 0.9582415790708186),\n",
       "  ('Hôn Môi Xa', 0.9535109923506588),\n",
       "  ('Chot Thay Em Khoc', 0.9492531198254909),\n",
       "  ('Bí Mật Của Hạnh Phúc', 0.9350114344258839),\n",
       "  ('Tình Yêu Còn Đâu', 0.9313092175602343),\n",
       "  ('Một Chút Quên Anh Thôi', 0.9256593482443269),\n",
       "  ('Tình đã xa', 0.9184429281401153),\n",
       "  ('Lãng quên chiều thu - Live', 0.9107142895496729),\n",
       "  ('Dung co mo', 0.9040872294639584)],\n",
       " [('Cho Tôi Lang Thang', 0.9924684833619245),\n",
       "  ('Chờ em từng ngày', 0.9807678983934613),\n",
       "  ('Ngày Mai Anh Đi', 0.9695806380115156),\n",
       "  ('Chỉ Cần Anh Giả Vờ', 0.9610959322748583),\n",
       "  ('Người Đàn Ông Tham Lam', 0.958204268633104),\n",
       "  ('Ngày Mai Em Đi', 0.9499173573926663),\n",
       "  ('Cho Mình Em', 0.9427225125804745),\n",
       "  ('Chỉ Cần Em Hạnh Phúc', 0.9320433589747142),\n",
       "  ('Có Em Chờ', 0.9235343350426704),\n",
       "  ('Mi ngoan gót ngà', 0.9186397276011687)],\n",
       " [('Day Dream', 0.9999800363172018),\n",
       "  ('Chúng Ta Của Hiện Tại', 0.9999547593958595),\n",
       "  ('Giấc Mơ', 0.999621499300767),\n",
       "  ('Giã từ tình yêu', 0.9981289066754859),\n",
       "  ('Giấc Mơ Tình Yêu', 0.9955133459269837),\n",
       "  ('Em Bé', 0.9952178076282229),\n",
       "  ('Thích Quá Rùi Nà', 0.9937340784678769),\n",
       "  ('Bình Minh tình yêu', 0.9934631679263491),\n",
       "  ('Phút Biệt Ly', 0.9934381426918396),\n",
       "  ('Khúc Biệt Ly', 0.9921753327312048)],\n",
       " [('Nếu Em Còn Tồn Tại', 0.9538647085163636),\n",
       "  ('Sống chết có nhau', 0.9436236571726113),\n",
       "  ('Lời Yêu Ngây Dại', 0.9338428551552149),\n",
       "  ('Xin Đừng Nhấc Máy', 0.9293101687225491),\n",
       "  ('Họ Yêu Ai Mất Rồi', 0.9229986618170863),\n",
       "  ('Em Day Chang Phai Thuy Kieu', 0.9210780251601923),\n",
       "  ('Lời Đường Mật', 0.9048738797758923),\n",
       "  ('Cứ Chill Thôi', 0.9046316424495193),\n",
       "  ('Thang Dien', 0.9034344312184691),\n",
       "  ('Giả Vờ Yêu', 0.9019451224173565)],\n",
       " [('Anh Là Toạ Độ Của Em', 0.8310536221619512),\n",
       "  ('Đếm Ngày Xa Em', 0.8247990712240334),\n",
       "  ('Anh Còn Nợ Em', 0.8112730785304857),\n",
       "  ('Ít Nhưng Dài Lâu', 0.7997432861254812),\n",
       "  ('Con Tim Đang Cố Quê Em', 0.7975520600805502),\n",
       "  ('Nếu biết xa em', 0.796014928569271),\n",
       "  ('Hãy Về Với Em', 0.7921477160257876),\n",
       "  ('Em Hát Ai Nghe', 0.7815820378358607),\n",
       "  ('Em Hát Ai Nghe - Lofi', 0.7815820378358607),\n",
       "  ('Tôi ngàn năm đợi - Live', 0.7790605135390709)],\n",
       " [('Biết Nói Là Tại Sao', 0.7207509626861613),\n",
       "  ('Một thoáng chim bay', 0.7164016793544608),\n",
       "  ('Thì Thầm Thích Thả Thính', 0.6663517609698921),\n",
       "  ('Bên Ấy Bên Này', 0.6584022858084331),\n",
       "  ('Giọt Sương Trên Mi Mắt', 0.6572917237963735),\n",
       "  ('Nỗi nhớ dịu êm', 0.6432129254426564),\n",
       "  ('Sao Anh Ra Đi', 0.6312238150645074),\n",
       "  ('Sai lầm vẫn là anh', 0.6305050359020002),\n",
       "  ('Tình em trao anh', 0.6282522644665757),\n",
       "  ('Mùa Thu Lá Bay', 0.6221583492107535)],\n",
       " [('Rằm Tháng 7 (feat. R.Tee)', 0.9721313760893836),\n",
       "  ('Không Dừng Lại (feat. VVSIX)', 0.9714494750428165),\n",
       "  ('Diep Khuc Buon', 0.9496222117231453),\n",
       "  ('Simple Love', 0.9465998067119206),\n",
       "  ('Thiên Đường Mong Manh', 0.944543213328966),\n",
       "  ('Ừ Thì', 0.9440429476793567),\n",
       "  ('Kiếp lữ hành', 0.9405913714590521),\n",
       "  ('Về đâu mái tóc người thương', 0.9397924432790636),\n",
       "  ('Biệt khúc', 0.9376471506946441),\n",
       "  ('Hình bóng em', 0.9362926256064962)],\n",
       " [('Anh Chồng Quốc Dân Của Em (feat. Lăng LD & Rhymastic)',\n",
       "   0.7848622319026235),\n",
       "  ('Nếu Em Còn Tồn Tại', 0.710076736600356),\n",
       "  ('Sống chết có nhau', 0.7094757717301902),\n",
       "  ('Lời Yêu Ngây Dại', 0.7038450184850519),\n",
       "  ('Họ Yêu Ai Mất Rồi', 0.7026573265816549),\n",
       "  ('Hứa Thật Nhiều Thất Hứa Thật Nhiều', 0.7013786400895818),\n",
       "  ('Xin Đừng Nhấc Máy', 0.6944901433005477),\n",
       "  ('Em Có Còn Dùng Số Này Không', 0.6907206895468959),\n",
       "  ('Cứ Chill Thôi', 0.6810291137437792),\n",
       "  ('Em Có Nghe', 0.6783607966915128)],\n",
       " [('Sài Gòn Đau Lòng Quá', 0.9915110942411114),\n",
       "  ('Giấc Mơ Tuyệt Vời', 0.9904793287968132),\n",
       "  ('Giấc Mơ Tình Yêu', 0.9806935311078137),\n",
       "  ('Phút Biệt Ly', 0.9711093380903534),\n",
       "  ('Cô Hàng Xóm', 0.9710894756163292),\n",
       "  ('Em Bé', 0.9710568169200062),\n",
       "  ('Đom Đóm', 0.9708332732163251),\n",
       "  ('Mặt Trăng', 0.9708332732163251),\n",
       "  ('Tình Cờ', 0.9708332732163251),\n",
       "  ('Berlin', 0.970833273216325)],\n",
       " [('Trên Tình Bạn Dưới Tình Yêu', 0.9405636836308948),\n",
       "  ('Sầu Tím Thiệp Hồng', 0.9000924650264944),\n",
       "  ('Dịu Dàng Đến Từng Phút Giây', 0.9000109488481585),\n",
       "  ('Chút tình thơ ngây', 0.8863455525749476),\n",
       "  ('Phố Không Em', 0.8716361043851301),\n",
       "  ('Hiệu Ứng Trốn Chạy', 0.8654554785221961),\n",
       "  ('Tát Nước Đầu Đình', 0.8641291406452033),\n",
       "  ('Hai Ba Năm', 0.8561478411019159),\n",
       "  ('Nang Co Con Xuan', 0.8474200423214633),\n",
       "  ('Mãi Mãi Bên Nhau', 0.8423245671591356)],\n",
       " [('Khi Em Lớn', 0.9855691068754531),\n",
       "  ('Khi Giấc Mơ Về', 0.964757226030634),\n",
       "  ('Cho Mình Em', 0.9586998796547598),\n",
       "  ('Về đâu mái tóc người thương', 0.9501806105750435),\n",
       "  ('Đông Kiếm Em', 0.9493217160192081),\n",
       "  ('Và Thế Là Hết', 0.9487526203428712),\n",
       "  ('Tình Quay Gót', 0.9476757804634146),\n",
       "  ('Mi ngoan gót ngà', 0.9403691139924626),\n",
       "  ('Thình xa', 0.9385624851226041),\n",
       "  ('Ừ Thì', 0.9336686431949014)],\n",
       " [('Tình xưa nghĩ cũ 3', 0.9452161625474218),\n",
       "  ('MỘT LẦN NỮA (feat. D.KID)', 0.9154028055339198),\n",
       "  ('Giá Như Chưa Từng Quen', 0.9038416562396763),\n",
       "  ('Mẹ Ơi Con Lên TV', 0.8976687592637799),\n",
       "  ('Âm Thầm Bên Em', 0.8876595522554085),\n",
       "  ('Vì Sao Không Nói', 0.885554441449288),\n",
       "  ('Tình yêu ngàn dặm', 0.8817802600033299),\n",
       "  ('Nếu Như Là Định Mệnh Remix', 0.8816554310548101),\n",
       "  ('Hạnh Phúc Bỏ Rơi Em', 0.872743614528523),\n",
       "  ('CHẠY NGAY ĐI', 0.8721624673086027)],\n",
       " [('Cho Mình Em', 0.9907917404448353),\n",
       "  ('Người Đàn Ông Tham Lam', 0.9779151279399554),\n",
       "  ('Lại Nhớ Người Yêu', 0.9671082062511952),\n",
       "  ('Anh Phải Làm Sao', 0.9633890269428111),\n",
       "  ('Chỉ Cần Em Hạnh Phúc', 0.9593729294177127),\n",
       "  ('Có Phải Đã Quá Muộn Màng', 0.9506167584009806),\n",
       "  ('Đau Để Trưởng Thành', 0.9504565575848509),\n",
       "  ('Khi Em Lớn', 0.9353938635648116),\n",
       "  ('Bạn Tôi', 0.9285666059283729),\n",
       "  ('Trái Tim Hoang Đường', 0.9285111382061951)],\n",
       " [('Kiếp lữ hành', 0.9999977520752714),\n",
       "  ('Đến Sau', 0.9999763149749068),\n",
       "  ('Biệt khúc', 0.9997712519033978),\n",
       "  ('Hình bóng em', 0.9995191846686092),\n",
       "  ('Suýt Nữa Thì', 0.9995108174927355),\n",
       "  ('Đường Chân Trời', 0.9985792128482308),\n",
       "  ('Tuoi Mong Xu Dong', 0.9969900319063867),\n",
       "  ('Simple Love', 0.9968492552392455),\n",
       "  ('Duyen Am', 0.9894478353707594),\n",
       "  ('Xuân Thì', 0.987758779766598)],\n",
       " [('Pha Lê Tím', 0.9986505494174003),\n",
       "  ('Tình Đơn Phương', 0.9982522278159753),\n",
       "  ('? (feat. Dế Choắt)', 0.9978869009782596),\n",
       "  ('Nết Na (feat. JBee7)', 0.99329679770619),\n",
       "  ('Tình ơi', 0.9931305176241136),\n",
       "  ('Tình Ơi', 0.9931305176241136),\n",
       "  ('Tình Nồng', 0.9879747634309507),\n",
       "  ('Missing You', 0.9879399947378148),\n",
       "  ('Tuyết lạnh', 0.9873552043476402),\n",
       "  ('Nụ Cười', 0.9853109675300583)],\n",
       " [('Càng Lớn Càng Cô Đơn', 0.9812814904572894),\n",
       "  ('Cho Em Lời Cuối', 0.9761044642822903),\n",
       "  ('Ai Rồi Cũng Khác', 0.9698642957600343),\n",
       "  ('có hẹn với thanh xuân', 0.9605144511027371),\n",
       "  ('Nếu em thấy cô đơn', 0.9584534798450383),\n",
       "  ('Ai Đưa Em Về', 0.9502700011162357),\n",
       "  ('Làm Gì Phải Hốt', 0.9429097683447761),\n",
       "  ('từ chối nhẹ nhàng thôi', 0.9427625840381538),\n",
       "  ('Xin Cho Tôi Được Yêu', 0.936516743361347),\n",
       "  ('Vẫn Yêu Người', 0.9346646820319777)],\n",
       " [('Hai Triệu Năm', 0.8594961502966756),\n",
       "  ('Quán Vắng Một Mình', 0.8585652364351748),\n",
       "  ('Một Lần Dang Dở', 0.8548585697513743),\n",
       "  ('Kí Ức Vpop 5', 0.8537850198788961),\n",
       "  ('Tình là nửa đời - Live', 0.8384645925780146),\n",
       "  ('NẮM ĐÔI BÀN TAY', 0.8235012658791973),\n",
       "  ('Kí Ức Vpop 6', 0.8021898588240424),\n",
       "  ('Món Quà Cuối', 0.7933920595032555),\n",
       "  ('Giây Phút Chia Xa', 0.7927600268561531),\n",
       "  ('Hai Ba Năm', 0.7857408547452557)],\n",
       " [('Mưa buồn', 0.9879685670773498),\n",
       "  ('Giận Lòng', 0.9867332635462214),\n",
       "  ('SO FAR', 0.9766294784418939),\n",
       "  ('Giọt Lệ Đài Trang', 0.9748406325315728),\n",
       "  ('Bigcityboi (feat. Touliver)', 0.9705130165127333),\n",
       "  ('Thức Giấc', 0.9614275183832448),\n",
       "  ('Nàng Thơ', 0.9614275183832448),\n",
       "  ('Mộng Mơ', 0.9614275183832448),\n",
       "  ('Hồi Ức', 0.9614275183832448),\n",
       "  ('Bạc Phận', 0.9614275183832448)],\n",
       " [('Hai Triệu Năm', 0.998023419955284),\n",
       "  ('Quán Vắng Một Mình', 0.9971180265749969),\n",
       "  ('Một Lần Dang Dở', 0.9897218958522885),\n",
       "  ('Kí Ức Vpop 5', 0.9892496324218287),\n",
       "  ('Góc Phố Buồn', 0.9876767345764589),\n",
       "  ('Tình là nửa đời - Live', 0.9690809674406959),\n",
       "  ('NẮM ĐÔI BÀN TAY', 0.9484015308211284),\n",
       "  ('Kí Ức Vpop 6', 0.9403406162849662),\n",
       "  ('Món Quà Cuối', 0.9296526976404696),\n",
       "  ('Giây Phút Chia Xa', 0.9100982588833498)],\n",
       " [('Anh Là Toạ Độ Của Em', 0.7112477556817963),\n",
       "  ('Đếm Ngày Xa Em', 0.7075291247351132),\n",
       "  ('Anh Còn Nợ Em', 0.697999175607589),\n",
       "  ('Ít Nhưng Dài Lâu', 0.6883534908389413),\n",
       "  ('Hãy Về Với Em', 0.6810629822103517),\n",
       "  ('Con Tim Đang Cố Quê Em', 0.6804980874228649),\n",
       "  ('Nếu biết xa em', 0.680117223754039),\n",
       "  ('Em Hát Ai Nghe', 0.6669448403778006),\n",
       "  ('Em Hát Ai Nghe - Lofi', 0.6669448403778006),\n",
       "  ('Tôi ngàn năm đợi - Live', 0.6658322366289352)],\n",
       " [('Berlin', 0.9999999999999998),\n",
       "  ('Lửng Lơ', 0.9999999999999998),\n",
       "  ('Đom Đóm', 0.9999999999999998),\n",
       "  ('Thất Tình', 0.9999999999999998),\n",
       "  ('Mặt Trăng', 0.9999999999999998),\n",
       "  ('ToGetHer', 0.9999999999999998),\n",
       "  ('Nhu Vay Nhe', 0.9999999999999998),\n",
       "  ('Nếu Như', 0.9999999999999998),\n",
       "  ('Nợ', 0.9999999999999998),\n",
       "  ('Yêu', 0.9999999999999998)],\n",
       " [('Dĩ Vãng Nhạt Nhòa', 0.998903180728143),\n",
       "  ('Tình Nồng', 0.9987569181196302),\n",
       "  ('Pha Lê Tím', 0.9967591409037309),\n",
       "  ('Mây Trắng Remix', 0.9938043686495487),\n",
       "  ('Only Me', 0.9888957288794983),\n",
       "  ('Nết Na (feat. JBee7)', 0.9795841682126113),\n",
       "  ('Tình ơi', 0.9792658729729562),\n",
       "  ('Uyên Ương Hồ Điệp Mộng', 0.9781446874485249),\n",
       "  ('Phố Hoa', 0.9781168079477898),\n",
       "  ('Missing You', 0.9701352461501762)],\n",
       " [('Đi Đu Đưa Đi', 0.7625212772429826),\n",
       "  ('Có Như Không Có', 0.7600695607479323),\n",
       "  ('Ngoi Ben Em - Remix', 0.7572978641308888),\n",
       "  ('Lời Yêu Em', 0.750738838476852),\n",
       "  ('Người Ra Đi', 0.7489369753814226),\n",
       "  ('từ chối nhẹ nhàng thôi', 0.7461546043235683),\n",
       "  ('Trả Lại Em', 0.745538780260807),\n",
       "  ('Làm Gì Phải Hốt', 0.7437077691698191),\n",
       "  ('Nếu Ngày Ấy', 0.7353064490284003),\n",
       "  ('Hẹn Gặp Em Dưới Ánh Trăng', 0.7333672227621646)],\n",
       " [('TA LÀ (feat. Clean Bandit)', 0.9812876180858758),\n",
       "  ('Theo Tình Tình Phụ', 0.9671716661987013),\n",
       "  ('Kẻ Điên Tin Vào Tình Yêu - Lofi', 0.9637814639262495),\n",
       "  ('Cô Gái Đến Từ Hôm Qua', 0.9417417958707405),\n",
       "  ('nếu mai chia tay (feat. AMEE)', 0.9322748415645364),\n",
       "  ('Hành Trình Đến Rap (feat. Duy Andy)', 0.9305568430144818),\n",
       "  ('Tay To', 0.9171477729573797),\n",
       "  ('CẢM NHẬN (feat. Seachains)', 0.9153294505609612),\n",
       "  ('Chúng Ta Không Thuộc Về Nhau', 0.9087030635385196),\n",
       "  ('Thanh Xuan', 0.9074277808579128)],\n",
       " [('Đừng Cúi Đầu Khi Nhìn Xuống (feat. TonyD.)', 0.8483288742617975),\n",
       "  ('Mai Đây Em Thương Một Chàng Trai', 0.7208978310387121),\n",
       "  (\"ex's hate me, Pt. 2\", 0.6789146729117819),\n",
       "  ('Anh Khác Hay Em Khác (DJ Hoàng Anh Remix)', 0.6754539369483348),\n",
       "  ('Giot Nuoc Mat Muon Mang 2', 0.6502667298050948),\n",
       "  ('Những Ngày Mưa Gió/Nỗi Nhớ Dịu Êm', 0.6338224948589256),\n",
       "  ('Sinh Ra Đã Là Thứ Đối Lập Nhau', 0.59594307305286),\n",
       "  ('Xin Cho Tôi Được Yêu', 0.553321903896259),\n",
       "  ('If You Have A Dream - 2', 0.5509726649810806),\n",
       "  ('Người Tình Trăm Năm', 0.5396545502323659)],\n",
       " [('trời giấu trời mang đi', 0.7844488288196293),\n",
       "  ('Trời Giấu Trời Mang Đi', 0.7844488288196293),\n",
       "  ('Noi Nho Day Voi', 0.7738767815528487),\n",
       "  ('Vì Đôi Ta Là Của Nhau', 0.7527285990500435),\n",
       "  ('Quét Sạch Hết! (feat. Gill)', 0.7173845902690646),\n",
       "  ('Con Sóng Yêu Thương', 0.6970360312763391),\n",
       "  ('Em Băng Qua - TikTok Remix', 0.683755658397228),\n",
       "  ('Cánh Chim Hải Âu', 0.6825577637413612),\n",
       "  ('Giá Như Chưa Từng Quen', 0.6814537525618095),\n",
       "  ('Nghe Như Tình Yêu', 0.6737853100711791)]]"
      ]
     },
     "metadata": {},
     "execution_count": 74
    }
   ]
  },
  {
   "cell_type": "code",
   "metadata": {
    "id": "h5m7I1VmZ56Q",
    "colab": {
     "base_uri": "https://localhost:8080/"
    },
    "executionInfo": {
     "status": "ok",
     "timestamp": 1640185098634,
     "user_tz": -420,
     "elapsed": 26,
     "user": {
      "displayName": "Binh Duong Van",
      "photoUrl": "https://lh3.googleusercontent.com/a-/AOh14Ggt0R_vpxdkA9SOrPvnHgwuzwsHmYSxz6AMEDHtsA=s64",
      "userId": "14650316510824230211"
     }
    },
    "outputId": "8de64b06-6f98-4ba1-c722-5cf01a212c09"
   },
   "source": [
    "cosine_recommend_user2"
   ],
   "execution_count": null,
   "outputs": [
    {
     "output_type": "execute_result",
     "data": {
      "text/plain": [
       "[[('Gửi Anh Xa Nhớ', 0.8193181293188707),\n",
       "  ('Người Đi Xa Mãi', 0.8164796233958908),\n",
       "  ('Hãy Để Anh Yêu Em Lần Nữa', 0.8129821336131315),\n",
       "  ('Cho Em Lời Cuối', 0.8107051530607989),\n",
       "  ('Bao Lâu Ta Lại Yêu Một Người', 0.8047767814841236),\n",
       "  ('Nếu Có Quay Về', 0.8045541627063351),\n",
       "  ('Ai Rồi Cũng Khác', 0.8045414429894655),\n",
       "  ('Đợi Em Trở Về', 0.8044246163670293),\n",
       "  ('Nếu Phải Xa Nhau', 0.7976081327750625),\n",
       "  ('Tha Rang Nhu The', 0.7967533378547059)],\n",
       " [('Đôi Lời', 0.9998386109107208),\n",
       "  ('Nho Em', 0.9996348660867693),\n",
       "  ('Trò Đùa - Lofi', 0.9991390552946141),\n",
       "  ('Tiễn Em', 0.9965368320029894),\n",
       "  ('Kém Duyên', 0.9957234481863052),\n",
       "  ('Do Ai?', 0.995700569408309),\n",
       "  ('Cưới Thôi', 0.9948733934818893),\n",
       "  ('1 Phút', 0.9946780212787432),\n",
       "  ('Thầm Mong', 0.9916216131288974),\n",
       "  ('Mai đây', 0.9912934595629096)],\n",
       " [('Xin Em Cho Tôi Một Cơ Hội', 0.8298991802657743),\n",
       "  ('vâng anh đi đi (liu riu version)', 0.7914250565887155),\n",
       "  ('Chi Anh Hieu Em', 0.7679965815183721),\n",
       "  ('Cho Tôi Lang Thang', 0.7667597458975735),\n",
       "  ('Xin Hãy Quên Đi', 0.7665043100650344),\n",
       "  ('Chỉ Anh Hiểu Em', 0.7611890417005909),\n",
       "  ('Đừng Vội (Take It Slow)', 0.7541808966834981),\n",
       "  ('Nếu Ta Còn Yêu Nhau', 0.7537226417761193),\n",
       "  ('Anh Sẽ Về Sớm Thôi', 0.7532276826124086),\n",
       "  ('Thà Người Đừng Nói', 0.7506602508203573)],\n",
       " [('Đố em biết anh đang nghĩ gì - Remix', 0.9984264813334908),\n",
       "  ('Điệp khúc tình yêu Cha cha cha', 0.8389594337128744),\n",
       "  ('Cám ơn tình yêu của em', 0.7947531886808552),\n",
       "  ('Cám Ơn Tình Yêu Của Em', 0.7947531886808552),\n",
       "  ('Da Qua Thoi Mong Cho', 0.7888283406835667),\n",
       "  ('Vùng Trời Bình Yên', 0.7885359363805571),\n",
       "  ('Dấu vết bình yên', 0.7844435279131179),\n",
       "  ('Một thoáng chim bay', 0.7835814549615711),\n",
       "  ('Dịu Dàng Đến Từng Phút Giây', 0.7822658312970994),\n",
       "  ('Nỗi nhớ ngàn năm', 0.7612885078365761)],\n",
       " [('Món Quà Cuối', 0.9966990418006617),\n",
       "  ('Áng Mây Buồn', 0.9911516168532924),\n",
       "  ('Góc Phố Buồn', 0.9870610940520373),\n",
       "  ('Mai Mai Ben Nhau', 0.9784799492846883),\n",
       "  ('Dòng Sông Lơ Đãng', 0.9746179158735583),\n",
       "  ('Mưa Bão Trong Lòng', 0.9736252159653578),\n",
       "  ('Yeu Lai Tu Dau', 0.9725295328858287),\n",
       "  ('Dáng Xưa', 0.9673168978081963),\n",
       "  ('Đất nước', 0.9673108037423285),\n",
       "  ('Thoi Doi', 0.9654362445411372)],\n",
       " [('Có Em Đời Bỗng Vui', 0.8247672783377197),\n",
       "  ('Hãy Để Anh Yêu Em Lần Nữa', 0.8098547843167462),\n",
       "  ('Hạnh Phúc Bỏ Rơi Em', 0.8073728086381048),\n",
       "  ('Người Ta Đâu Thương Em', 0.8016564613920044),\n",
       "  ('Có Em Chờ', 0.8011051367436489),\n",
       "  ('Cho Em Lời Cuối', 0.7997856520717683),\n",
       "  ('Nếu Có Quay Về', 0.799495015747123),\n",
       "  ('Điều Em Muốn', 0.7971791449424368),\n",
       "  ('Em Có Nghe', 0.7937079350998044),\n",
       "  ('Đợi Em Trở Về', 0.7936536251034982)],\n",
       " [('Mộng mơ xa rồi', 0.9984940261069076),\n",
       "  ('Tình Xót Xa Thôi', 0.9958239150858028),\n",
       "  ('Không Còn Nợ Nhau', 0.9876127177380015),\n",
       "  ('Tình Và Đời', 0.9597156284331071),\n",
       "  ('To The Moon', 0.957687633265487),\n",
       "  ('Một Ngày Đi Qua', 0.9574980472633968),\n",
       "  ('Hôn Môi Xa', 0.9533034223261085),\n",
       "  ('Chot Thay Em Khoc', 0.95291430810207),\n",
       "  ('Vòng tay người yêu', 0.9465243227160645),\n",
       "  ('Vầng Trăng Cô Đơn', 0.9259778091988325)],\n",
       " [('Liên khúc Tình buồn đêm mưa', 0.8068529591024719),\n",
       "  ('Tầng Thượng 102', 0.7687522262274961),\n",
       "  ('Vì Em So Đẹp (feat. Thành Draw)', 0.7363211632036536),\n",
       "  ('MẮT NAI ƠI (feat. Cà Nâu)', 0.6433545302602409),\n",
       "  ('T.A.O (The Ambitious One) [feat. Tage]', 0.6305381462095688),\n",
       "  ('Còn Lại Gì Sau Cơn Mưa', 0.6268114524687097),\n",
       "  ('Có Chàng Trai Viết Lên Cây', 0.6235714688664232),\n",
       "  ('Giot Nuoc Mat Muon Mang 2', 0.6130575270640591),\n",
       "  ('Tiền Đồ (feat. R.I.C)', 0.6036337151829465),\n",
       "  ('Minh Yeu Nhau Tu Kiep Nao ? - Original', 0.5882596274814863)],\n",
       " [('Day Dream', 0.9999806630937847),\n",
       "  ('Uoc Gi', 0.9999756750885788),\n",
       "  ('Giấc Mơ', 0.9996350847715517),\n",
       "  ('Có Khi', 0.9991567258510873),\n",
       "  ('Em Bé', 0.9953079425863907),\n",
       "  ('Thích Quá Rùi Nà', 0.9936203515086973),\n",
       "  ('Thu Cuối', 0.9932850499453874),\n",
       "  ('Răng Khôn', 0.992002143533956),\n",
       "  ('Thang Dien', 0.9912292636937129),\n",
       "  ('Skyler', 0.9911788157005555)],\n",
       " [('Anh Đã Hiểu Tình Em', 0.9523194545295564),\n",
       "  ('Xin Cho Mãi Yêu', 0.9401413749313252),\n",
       "  ('Anh Muốn Nói', 0.933596500574365),\n",
       "  ('Nếu Ta Còn Yêu Nhau', 0.9317893303457946),\n",
       "  ('Sau Trong Em', 0.9289752378447427),\n",
       "  ('Anh Vẫn Đợi Chờ', 0.9244353047280636),\n",
       "  ('Anh Vẫn OK (feat. RPT MCK)', 0.9210139332106098),\n",
       "  ('Sẽ Mãi Còn Yêu', 0.9204329646762057),\n",
       "  ('Đừng Vội (Take It Slow)', 0.9197631733848567),\n",
       "  ('Cô đơn', 0.9183337115573869)],\n",
       " [('Anh Tin Mình Đã Cho Nhau Kỷ Niệm', 0.9685699310033544),\n",
       "  ('Anh Ghét Làm Bạn Em', 0.9309929295686036),\n",
       "  ('Ai Là Người Thương Em', 0.8641750354877641),\n",
       "  ('Anh Nhớ Em Người Yêu Cũ', 0.8626924485018124),\n",
       "  ('Sẽ Có Người Cần Anh', 0.8597363582158581),\n",
       "  ('Yêu Một Người Có Lẽ', 0.8571634759313917),\n",
       "  ('Em Yêu Anh Nhiều Lắm', 0.8533168899006572),\n",
       "  ('Anh Còn Nợ Em', 0.8525339319713294),\n",
       "  ('Đếm Ngày Xa Em', 0.852310967482281),\n",
       "  ('Tâm Sự Với Người Lạ', 0.844365344026364)],\n",
       " [('Đố em biết anh đang nghĩ gì - Remix', 0.8862538805178516),\n",
       "  ('Điệp khúc tình yêu Cha cha cha', 0.7457949306760733),\n",
       "  ('Cám ơn tình yêu của em', 0.7064976868234134),\n",
       "  ('Cám Ơn Tình Yêu Của Em', 0.7064976868234134),\n",
       "  ('Da Qua Thoi Mong Cho', 0.7012307794810062),\n",
       "  ('Vùng Trời Bình Yên', 0.7009708459989697),\n",
       "  ('Dấu vết bình yên', 0.6973328900184704),\n",
       "  ('Một thoáng chim bay', 0.6965665482726113),\n",
       "  ('Dịu Dàng Đến Từng Phút Giây', 0.6953970215705892),\n",
       "  ('Nỗi nhớ ngàn năm', 0.6767491813207057)],\n",
       " [('Can Gac Trong - R&B', 0.9350016265236695),\n",
       "  ('Chúng Ta Dừng Lại Ở Đây Thôi', 0.9274817068526825),\n",
       "  ('Tình đã xa', 0.9017936524753019),\n",
       "  ('Tình Và Đời', 0.8996060974474831),\n",
       "  ('Chot Thay Em Khoc', 0.8953635424736182),\n",
       "  ('Chiều Một Mình Qua Phố', 0.8916198308401182),\n",
       "  ('To The Moon', 0.8887321901549785),\n",
       "  ('Dung co mo', 0.887962084291563),\n",
       "  ('Nghe Nói Anh Sắp Kết Hôn', 0.8878707884822766),\n",
       "  ('Biết Tìm Đâu', 0.8819261374941366)],\n",
       " [('Anh Đã Hiểu Tình Em', 0.7216812851848157),\n",
       "  ('Hãy Để Anh Yêu Em Lần Nữa', 0.7201501485343942),\n",
       "  ('Để Nhớ Một Thời Ta Đã Yêu', 0.7199262802646978),\n",
       "  ('Xin Cho Mãi Yêu', 0.7124525625185588),\n",
       "  ('Anh Muốn Nói', 0.707492763246541),\n",
       "  ('Nếu Ta Còn Yêu Nhau', 0.7061232638344483),\n",
       "  ('Sau Trong Em', 0.7039907043418027),\n",
       "  ('Anh Vẫn Đợi Chờ', 0.700550278179432),\n",
       "  ('Anh Vẫn OK (feat. RPT MCK)', 0.6979575139740315),\n",
       "  ('Sẽ Mãi Còn Yêu', 0.6975172477203427)],\n",
       " [('Sau Tất Cả', 0.9980536777158219),\n",
       "  ('Người Tình Nhỏ Bé', 0.9784860953304484),\n",
       "  ('Em Bé', 0.9719530506998196),\n",
       "  ('Răng Khôn', 0.9713370819927237),\n",
       "  ('Berlin', 0.9710935423380872),\n",
       "  ('Skyler', 0.9710935423380871),\n",
       "  ('Yên', 0.9710935423380871),\n",
       "  ('Ngỡ', 0.9710935423380871),\n",
       "  ('ToGetHer', 0.9710935423380871),\n",
       "  ('Xin', 0.9710935423380871)],\n",
       " [('Yếu Đuối Ai Xem', 0.997856573337659),\n",
       "  ('Thiên Đường Đã Mất', 0.9756226920093211),\n",
       "  ('Sầu Tím Thiệp Hồng', 0.9081697323594806),\n",
       "  ('Va Toi Van Hat', 0.9070737202124132),\n",
       "  ('Kho Ve Nu Cuoi (feat. Du Uyen)', 0.8955443935395062),\n",
       "  ('Thiên Đường Mong Manh', 0.8945561374326967),\n",
       "  ('Dịu Dàng Em Đến', 0.8883784502460202),\n",
       "  ('Trên Tình Bạn Dưới Tình Yêu', 0.8873093628380583),\n",
       "  ('Trái Tim Yêu', 0.8866797271618104),\n",
       "  ('Bức Bình Phong', 0.886037877486709)],\n",
       " [('Khi Em Lớn - Remix', 0.9974969565867831),\n",
       "  ('Khi Em Lớn', 0.986055001595632),\n",
       "  ('Chắc Anh Đang', 0.9809379967360186),\n",
       "  ('Khi Giấc Mơ Về', 0.9680988752534668),\n",
       "  ('Diep Khuc Buon', 0.9671957377324012),\n",
       "  ('Giả Vờ Yêu', 0.9611818692871745),\n",
       "  ('Yêu Anh Em Nhé', 0.9609820819725775),\n",
       "  ('Trách Ai Vô Tình', 0.9606338588030349),\n",
       "  ('Cho Mình Em', 0.9584927004081999),\n",
       "  ('Đông Kiếm Em', 0.9531104747908189)],\n",
       " [('Tình xưa nghĩ cũ 3', 0.9458597943111199),\n",
       "  ('MỘT LẦN NỮA (feat. D.KID)', 0.9147617664229881),\n",
       "  ('Em Ơi Hà Nội Phố', 0.9054166160690489),\n",
       "  ('Thế Giới Năm 2000', 0.889793863570132),\n",
       "  ('Mẹ Ơi Con Lên TV', 0.8808600714912859),\n",
       "  ('Khong Phai Em Dung Khong ? - Original', 0.8721491523187048),\n",
       "  ('Nếu Như Anh Đến', 0.8701947846053079),\n",
       "  ('Khúc Chia Xa', 0.8625524583854252),\n",
       "  ('Phút Ban Đầu', 0.8602211376081378),\n",
       "  ('Truyen Thai Y (feat. Masew)', 0.8559415191637408)],\n",
       " [('Vì Em Dối Gian', 0.9930614177812274),\n",
       "  ('Cho Mình Em', 0.991954469581796),\n",
       "  ('Giả Vờ Yêu', 0.9917059409487619),\n",
       "  ('Lời Anh Muốn Nói', 0.9875465699719683),\n",
       "  ('Đi Để Trở Về', 0.9871343841022286),\n",
       "  ('Ta Đâu Có Say', 0.9871242348395268),\n",
       "  ('Điều Em Muốn', 0.9564351830430491),\n",
       "  ('Có Em Chờ', 0.9562583979219039),\n",
       "  ('Ai Đưa Em Về', 0.9562058440578068),\n",
       "  ('Thật Xa Thật Gần', 0.9495110690591344)],\n",
       " [('Đến Sau', 0.9999748271183041),\n",
       "  ('Nhé anh', 0.9999397849706606),\n",
       "  ('Biệt khúc', 0.9997559840393657),\n",
       "  ('Nơi Ấy', 0.9996692316290753),\n",
       "  ('Tình Bạn', 0.9989970375973272),\n",
       "  ('Đàn Bà', 0.9970330129289471),\n",
       "  ('Bình Yên', 0.9969343858880905),\n",
       "  ('Simple Love', 0.9966838183121514),\n",
       "  ('Tình Cha', 0.9963251112374697),\n",
       "  ('Kiếp Đạo Tặc', 0.9962123298294759)],\n",
       " [('Dấu Mưa', 0.9988241903245858),\n",
       "  ('Lạc Trôi', 0.9986118776327639),\n",
       "  ('Túy Họa', 0.9981896980399149),\n",
       "  ('Unexpected (feat. Gừng)', 0.9981887882136039),\n",
       "  ('? (feat. Dế Choắt)', 0.9980381733899296),\n",
       "  ('Tình Sầu', 0.9979903639869973),\n",
       "  ('Không Màu (feat. VVSIX & TonyD.)', 0.9979273846644222),\n",
       "  ('Bờ Bến Lạ', 0.9977961203373236),\n",
       "  ('Bờ bến lạ', 0.9977961203373236),\n",
       "  ('Tình Thơ', 0.9969402836750685)],\n",
       " [('Gửi Anh Xa Nhớ', 0.9920493335660252),\n",
       "  ('Người Đi Xa Mãi', 0.9886124049683919),\n",
       "  ('Cho Em Lời Cuối', 0.9816205427812498),\n",
       "  ('Nếu Có Quay Về', 0.9741727814495315),\n",
       "  ('Ai Rồi Cũng Khác', 0.9741573801222665),\n",
       "  ('Đợi Em Trở Về', 0.9740159237467962),\n",
       "  ('Nếu Phải Xa Nhau', 0.9657623678169449),\n",
       "  ('Tha Rang Nhu The', 0.9647273623645692),\n",
       "  ('Người Đã Xa Rồi', 0.9588668868627424),\n",
       "  ('Ai Đưa Em Về', 0.9584754860501528)],\n",
       " [('Hai Triệu Năm', 0.8638794652932855),\n",
       "  ('Góc Phố Buồn', 0.8525895393433258),\n",
       "  ('Áng Mây Buồn', 0.8486369935964401),\n",
       "  ('Vi Da Lo Loi', 0.8429532416773167),\n",
       "  ('Không Quan Tâm', 0.841431576813641),\n",
       "  ('Mưa Bão Trong Lòng', 0.8410362093146048),\n",
       "  ('Không Sao Em À', 0.8381807290774599),\n",
       "  ('Một Lần Cho Mãi Mãi', 0.836783209967499),\n",
       "  ('Cơn mưa lao xao', 0.8352537523686622),\n",
       "  ('Ngày Tận Thế', 0.8252115898744513)],\n",
       " [('Hoa Mi Toc Nau', 0.9878683375931446),\n",
       "  ('Hoa Bằng Lăng', 0.9876361190506421),\n",
       "  ('Hoa bằng lăng', 0.9876361190506421),\n",
       "  ('Chia Tay', 0.9872519594040378),\n",
       "  ('Khoảnh Khắc', 0.9872375080753356),\n",
       "  ('Vườn Yêu', 0.9871993280231439),\n",
       "  ('Mưa buồn', 0.9869977029032974),\n",
       "  ('Mưa Buồn', 0.9869977029032974),\n",
       "  ('Lửng Lơ', 0.9851734626671869),\n",
       "  ('Nước Mắt', 0.985112418984905)],\n",
       " [('Hai Triệu Năm', 0.9979290491586826),\n",
       "  ('Góc Phố Buồn', 0.9848872470080895),\n",
       "  ('Áng Mây Buồn', 0.9803213782990715),\n",
       "  ('Vi Da Lo Loi', 0.9782934013400677),\n",
       "  ('Mưa Bão Trong Lòng', 0.9756767156654346),\n",
       "  ('Không Quan Tâm', 0.9719978852566601),\n",
       "  ('Không Sao Em À', 0.9681640913857484),\n",
       "  ('Cơn mưa lao xao', 0.957181401055279),\n",
       "  ('Ngày Tận Thế', 0.9532610165222047),\n",
       "  ('Vùng Ký Ức', 0.9507174562191913)],\n",
       " [('Anh Tin Mình Đã Cho Nhau Kỷ Niệm', 0.8691785066183189),\n",
       "  ('Anh Ghét Làm Bạn Em', 0.8344682115134865),\n",
       "  ('Ai Là Người Thương Em', 0.7745779515556884),\n",
       "  ('Anh Nhớ Em Người Yêu Cũ', 0.7732490781869578),\n",
       "  ('Sẽ Có Người Cần Anh', 0.7705994733450224),\n",
       "  ('Yêu Một Người Có Lẽ', 0.7682933457578361),\n",
       "  ('Em Yêu Anh Nhiều Lắm', 0.7648455711684125),\n",
       "  ('Anh Còn Nợ Em', 0.764143789788312),\n",
       "  ('Đếm Ngày Xa Em', 0.7639439421068762),\n",
       "  ('Tâm Sự Với Người Lạ', 0.7568221155236271)],\n",
       " [('Berlin', 1.0),\n",
       "  ('BLACKJACK', 1.0),\n",
       "  ('Skyler', 1.0),\n",
       "  ('Đốt', 1.0),\n",
       "  ('Yên', 1.0),\n",
       "  ('Ngỡ', 1.0),\n",
       "  ('ToGetHer', 1.0),\n",
       "  ('Katy', 1.0),\n",
       "  ('Xin', 1.0),\n",
       "  ('Buồn', 1.0)],\n",
       " [('Chuyen La', 0.9999667830413526),\n",
       "  ('Một Hình Dung', 0.9997749413505025),\n",
       "  ('N-Sao?', 0.9997506521693241),\n",
       "  ('Tình Thơ', 0.9995492939330627),\n",
       "  ('Tình Nồng', 0.9988548909191693),\n",
       "  ('Tình Sầu', 0.9987208796117395),\n",
       "  ('Bờ Bến Lạ', 0.9976710028722511),\n",
       "  ('Bờ bến lạ', 0.9976710028722511),\n",
       "  ('Tình Mộng', 0.9969546772170773),\n",
       "  ('Dấu Mưa', 0.995721608128639)],\n",
       " [('Hẹn Lòng Đi Nhé', 0.7828898688801093),\n",
       "  ('Giấc Mơ Ấy', 0.7774861466263188),\n",
       "  ('Người cùng cảnh ngộ', 0.773732075020238),\n",
       "  ('Nu Hong Mong Manh', 0.7720285940758062),\n",
       "  ('Ngoi Ben Em - Remix', 0.7710927857139006),\n",
       "  ('Anh Đừng Đi', 0.7707507522404523),\n",
       "  ('Em Yêu Anh', 0.7666139102348338),\n",
       "  ('Nhớ về em', 0.7661686119734793),\n",
       "  ('Người Ra Đi', 0.765805418797114),\n",
       "  ('Con Mo Bang Gia', 0.765164447376354)],\n",
       " [('cô gái nhân ái', 0.9810140583647603),\n",
       "  ('TA LÀ (feat. Clean Bandit)', 0.9776897211824565),\n",
       "  ('Anh Oi O Lai', 0.9754683417679053),\n",
       "  ('Lâu Đài Tình Ái', 0.9725650942389275),\n",
       "  ('Theo Tình Tình Phụ', 0.9663732395016865),\n",
       "  ('Em Là Châu Báu', 0.962199651310542),\n",
       "  ('Sau Đêm Nay', 0.9529171601085267),\n",
       "  ('Thì Thầm Mùa Xuân', 0.952297403732481),\n",
       "  ('Cô Gái Trung Hoa', 0.9400172232080344),\n",
       "  ('Cô Tấm Ngày Nay', 0.9323017725407401)],\n",
       " [('Đừng Cúi Đầu Khi Nhìn Xuống (feat. TonyD.)', 0.8166780924553194),\n",
       "  ('Minh Yeu Nhau Tu Kiep Nao ? - Original', 0.7865169827910194),\n",
       "  ('Chúng Ta Phải Lòng Nhau Chưa', 0.7573513515825435),\n",
       "  ('Có Chí Thì Nên (feat. Hành Or)', 0.6912070699625189),\n",
       "  ('Đưa Nhau Đi Trốn (Chill Version)', 0.6851998604551417),\n",
       "  ('Tiền Đồ (feat. R.I.C)', 0.6627025195029279),\n",
       "  ('Lời Sám Hối Của Kẻ Hấp Hối', 0.6549427493719361),\n",
       "  ('Yêu Một Người Sao Buồn Đến Thế', 0.6368107695042161),\n",
       "  (\"ex's hate me, Pt. 2\", 0.6078687747824059),\n",
       "  ('Xin Loi Anh (feat. Bang Kieu)', 0.6046158917923762)],\n",
       " [('Tình ơi! Xin ngủ yên', 0.7847973470613103),\n",
       "  ('Noi Nho Day Voi', 0.7744283501267253),\n",
       "  ('trời giấu trời mang đi', 0.7644043185467866),\n",
       "  ('Trời Giấu Trời Mang Đi', 0.7644043185467866),\n",
       "  ('Cố Quên (Try To Forget)', 0.7451224062810087),\n",
       "  ('Minh Chia Tay Nhe', 0.7394724044105798),\n",
       "  ('Buc Tranh Tu Nuoc Mat - Original', 0.7393400233522759),\n",
       "  ('Vì Đôi Ta Là Của Nhau', 0.7379374155151166),\n",
       "  ('Đừng Như Thói Quen', 0.7306723440418568),\n",
       "  ('Nếu Như Anh Đến', 0.7306577505327714)]]"
      ]
     },
     "metadata": {},
     "execution_count": 75
    }
   ]
  }
 ]
}