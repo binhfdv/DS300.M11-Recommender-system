{
 "nbformat": 4,
 "nbformat_minor": 0,
 "metadata": {
  "colab": {
   "name": "cb_features_model.ipynb",
   "provenance": [],
   "collapsed_sections": [
    "8nv7inCAde5k",
    "DQFPKf5HV_K6",
    "89CDfA9VWtMM",
    "moAAQ19hiZpO",
    "3s6JUm-z8mvj",
    "DaALDUE28u1j"
   ],
   "mount_file_id": "18d916TTbvR6U_Bi90-iC4Stv9fh32vX7",
   "authorship_tag": "ABX9TyNkGl2iDOUeLhF846ycCVbK"
  },
  "kernelspec": {
   "name": "python3",
   "display_name": "Python 3"
  },
  "language_info": {
   "name": "python"
  }
 },
 "cells": [
  {
   "cell_type": "markdown",
   "metadata": {
    "id": "AhHPb5x0W0IL"
   },
   "source": [
    "# Content-based using track features"
   ]
  },
  {
   "cell_type": "markdown",
   "metadata": {
    "id": "DQFPKf5HV_K6"
   },
   "source": [
    "## File paths"
   ]
  },
  {
   "cell_type": "code",
   "metadata": {
    "id": "RAx2BYSUVNNC",
    "executionInfo": {
     "status": "ok",
     "timestamp": 1640185257931,
     "user_tz": -420,
     "elapsed": 625,
     "user": {
      "displayName": "Binh Duong Van",
      "photoUrl": "https://lh3.googleusercontent.com/a-/AOh14Ggt0R_vpxdkA9SOrPvnHgwuzwsHmYSxz6AMEDHtsA=s64",
      "userId": "14650316510824230211"
     }
    }
   },
   "source": [
    "data_root = './data'\n",
    "user_1 = data_root + '/user1.csv'\n",
    "user_2 = data_root + '/user2.csv'\n",
    "user_3 = data_root + '/user3.csv'\n",
    "full_data = data_root + '/full_data.csv'\n",
    "\n",
    "fields = data_root + '/common_fields.txt'"
   ],
   "execution_count": 1,
   "outputs": []
  },
  {
   "cell_type": "markdown",
   "metadata": {
    "id": "89CDfA9VWtMM"
   },
   "source": [
    "## Libraries"
   ]
  },
  {
   "cell_type": "code",
   "metadata": {
    "id": "iiiQE7dSWyQx",
    "executionInfo": {
     "status": "ok",
     "timestamp": 1640185258819,
     "user_tz": -420,
     "elapsed": 16,
     "user": {
      "displayName": "Binh Duong Van",
      "photoUrl": "https://lh3.googleusercontent.com/a-/AOh14Ggt0R_vpxdkA9SOrPvnHgwuzwsHmYSxz6AMEDHtsA=s64",
      "userId": "14650316510824230211"
     }
    }
   },
   "source": [
    "import pandas as pd\n",
    "import numpy as np\n",
    "from scipy.stats import pearsonr"
   ],
   "execution_count": 2,
   "outputs": []
  },
  {
   "cell_type": "markdown",
   "metadata": {
    "id": "moAAQ19hiZpO"
   },
   "source": [
    "## Data"
   ]
  },
  {
   "cell_type": "code",
   "metadata": {
    "id": "yxWQeG2PibZH",
    "executionInfo": {
     "status": "ok",
     "timestamp": 1640185262324,
     "user_tz": -420,
     "elapsed": 1470,
     "user": {
      "displayName": "Binh Duong Van",
      "photoUrl": "https://lh3.googleusercontent.com/a-/AOh14Ggt0R_vpxdkA9SOrPvnHgwuzwsHmYSxz6AMEDHtsA=s64",
      "userId": "14650316510824230211"
     }
    }
   },
   "source": [
    "data_df = pd.read_csv(full_data)\n",
    "user1_df = pd.read_csv(user_1)\n",
    "user2_df = pd.read_csv(user_2)\n",
    "user3_df = pd.read_csv(user_3)"
   ],
   "execution_count": 3,
   "outputs": []
  },
  {
   "cell_type": "code",
   "source": [
    "feature_fields = []\n",
    "with open(fields, 'r') as f:\n",
    "  for l in f:\n",
    "    if l.strip() not in ['artists', 'id', 'uri', 'track_href', 'analysis_url']:\n",
    "      feature_fields.append(l.strip())"
   ],
   "metadata": {
    "id": "-_0Eb3KytFXy",
    "executionInfo": {
     "status": "ok",
     "timestamp": 1640185262690,
     "user_tz": -420,
     "elapsed": 377,
     "user": {
      "displayName": "Binh Duong Van",
      "photoUrl": "https://lh3.googleusercontent.com/a-/AOh14Ggt0R_vpxdkA9SOrPvnHgwuzwsHmYSxz6AMEDHtsA=s64",
      "userId": "14650316510824230211"
     }
    }
   },
   "execution_count": 4,
   "outputs": []
  },
  {
   "cell_type": "code",
   "source": [
    "feature_fields"
   ],
   "metadata": {
    "id": "MOAkpuQ_u2_N",
    "colab": {
     "base_uri": "https://localhost:8080/"
    },
    "executionInfo": {
     "status": "ok",
     "timestamp": 1640185262692,
     "user_tz": -420,
     "elapsed": 27,
     "user": {
      "displayName": "Binh Duong Van",
      "photoUrl": "https://lh3.googleusercontent.com/a-/AOh14Ggt0R_vpxdkA9SOrPvnHgwuzwsHmYSxz6AMEDHtsA=s64",
      "userId": "14650316510824230211"
     }
    },
    "outputId": "716087ed-f2bd-4d6b-822e-941541697634"
   },
   "execution_count": 5,
   "outputs": [
    {
     "output_type": "execute_result",
     "data": {
      "text/plain": [
       "['track_name',\n",
       " 'popularity',\n",
       " 'danceability',\n",
       " 'energy',\n",
       " 'key',\n",
       " 'loudness',\n",
       " 'mode',\n",
       " 'speechiness',\n",
       " 'acousticness',\n",
       " 'instrumentalness',\n",
       " 'liveness',\n",
       " 'valence',\n",
       " 'tempo',\n",
       " 'duration_ms',\n",
       " 'time_signature']"
      ]
     },
     "metadata": {},
     "execution_count": 5
    }
   ]
  },
  {
   "cell_type": "code",
   "metadata": {
    "id": "ZHOyQTNRja5w",
    "executionInfo": {
     "status": "ok",
     "timestamp": 1640185262695,
     "user_tz": -420,
     "elapsed": 23,
     "user": {
      "displayName": "Binh Duong Van",
      "photoUrl": "https://lh3.googleusercontent.com/a-/AOh14Ggt0R_vpxdkA9SOrPvnHgwuzwsHmYSxz6AMEDHtsA=s64",
      "userId": "14650316510824230211"
     }
    }
   },
   "source": [
    "data_track = data_df[feature_fields].values.tolist()\n",
    "user1_track = user1_df[feature_fields].values.tolist()\n",
    "user2_track = user2_df[feature_fields].values.tolist()\n",
    "user3_track = user3_df[feature_fields].values.tolist()\n",
    "\n",
    "data_track = np.array(data_track)\n",
    "user1_track = np.array(user1_track)\n",
    "user2_track = np.array(user2_track)\n",
    "user3_track = np.array(user3_track)"
   ],
   "execution_count": 6,
   "outputs": []
  },
  {
   "cell_type": "code",
   "source": [
    "data_df = pd.read_csv(full_data)\n",
    "user1_df = pd.read_csv(user_1)\n",
    "user2_df = pd.read_csv(user_2)\n",
    "user3_df = pd.read_csv(user_3)\n",
    "raw_data_track = data_df.track_name\n",
    "raw_user1_track = user1_df.track_name\n",
    "raw_user2_track = user2_df.track_name\n",
    "raw_user3_track = user3_df.track_name"
   ],
   "metadata": {
    "id": "dyfU1sFYqwnR",
    "executionInfo": {
     "status": "ok",
     "timestamp": 1640185437108,
     "user_tz": -420,
     "elapsed": 531,
     "user": {
      "displayName": "Binh Duong Van",
      "photoUrl": "https://lh3.googleusercontent.com/a-/AOh14Ggt0R_vpxdkA9SOrPvnHgwuzwsHmYSxz6AMEDHtsA=s64",
      "userId": "14650316510824230211"
     }
    }
   },
   "execution_count": 12,
   "outputs": []
  },
  {
   "cell_type": "markdown",
   "source": [
    "## Similarity functions"
   ],
   "metadata": {
    "id": "zSrWToDdwnax"
   }
  },
  {
   "cell_type": "code",
   "source": [
    "def cosine_sim(x, y):\n",
    "  x = np.array(x, dtype=float)\n",
    "  y = np.array(y, dtype=float)\n",
    "  k = np.dot(x, y.T)/(np.linalg.norm(x) * np.linalg.norm(y))\n",
    "  return k\n",
    "\n",
    "def pearson_sim(x, y):\n",
    "  x = np.array(x, dtype=float)\n",
    "  y = np.array(y, dtype=float)\n",
    "  k, _ = pearsonr(x, y)\n",
    "  return k"
   ],
   "metadata": {
    "id": "d99ak7jowpv1",
    "executionInfo": {
     "status": "ok",
     "timestamp": 1640185262697,
     "user_tz": -420,
     "elapsed": 22,
     "user": {
      "displayName": "Binh Duong Van",
      "photoUrl": "https://lh3.googleusercontent.com/a-/AOh14Ggt0R_vpxdkA9SOrPvnHgwuzwsHmYSxz6AMEDHtsA=s64",
      "userId": "14650316510824230211"
     }
    }
   },
   "execution_count": 7,
   "outputs": []
  },
  {
   "cell_type": "markdown",
   "metadata": {
    "id": "p9wOaXHEMokP"
   },
   "source": [
    "## Experiments on recommendations"
   ]
  },
  {
   "cell_type": "code",
   "metadata": {
    "id": "A77_nCc3Mv7d",
    "executionInfo": {
     "status": "ok",
     "timestamp": 1640185565591,
     "user_tz": -420,
     "elapsed": 1113,
     "user": {
      "displayName": "Binh Duong Van",
      "photoUrl": "https://lh3.googleusercontent.com/a-/AOh14Ggt0R_vpxdkA9SOrPvnHgwuzwsHmYSxz6AMEDHtsA=s64",
      "userId": "14650316510824230211"
     }
    }
   },
   "source": [
    "def top_10_similarity(user_track, raw_user_track, similarity = 'cosine'):\n",
    "  if similarity.lower() not in ['cosine', 'pearson']:\n",
    "    return None\n",
    "\n",
    "  temp = []\n",
    "  if similarity.lower() == 'cosine':\n",
    "    for track in data_track:\n",
    "      if track[0] in list(raw_user_track): continue\n",
    "      sim = cosine_sim(user_track[1:], track[1:])\n",
    "      temp.append((track[0], sim))\n",
    "  \n",
    "  else:\n",
    "    for track in data_track:\n",
    "      if track[0] in list(raw_user_track): continue\n",
    "      sim = pearson_sim(user_track[1:], track[1:])\n",
    "      temp.append((track[0], sim))\n",
    "  \n",
    "  temp.sort(key = lambda x: x[1], reverse = True)\n",
    "  return temp[:10]"
   ],
   "execution_count": 16,
   "outputs": []
  },
  {
   "cell_type": "code",
   "metadata": {
    "id": "PfI3ZF3XBU7R",
    "executionInfo": {
     "status": "ok",
     "timestamp": 1640185568892,
     "user_tz": -420,
     "elapsed": 3326,
     "user": {
      "displayName": "Binh Duong Van",
      "photoUrl": "https://lh3.googleusercontent.com/a-/AOh14Ggt0R_vpxdkA9SOrPvnHgwuzwsHmYSxz6AMEDHtsA=s64",
      "userId": "14650316510824230211"
     }
    }
   },
   "source": [
    "# Get recommend for each track of user 1\n",
    "# pearson, cosine\n",
    "pear_recommend_user1 = []\n",
    "cosine_recommend_user1 = []\n",
    "for track in user1_track:\n",
    "  pear_recommend_user1.append(top_10_similarity(track, raw_user1_track, similarity = 'pearson'))\n",
    "  cosine_recommend_user1.append(top_10_similarity(track, raw_user1_track, similarity = 'cosine'))"
   ],
   "execution_count": 17,
   "outputs": []
  },
  {
   "cell_type": "code",
   "metadata": {
    "id": "qZ6Lu0W1S3zN",
    "executionInfo": {
     "status": "ok",
     "timestamp": 1640185578182,
     "user_tz": -420,
     "elapsed": 9297,
     "user": {
      "displayName": "Binh Duong Van",
      "photoUrl": "https://lh3.googleusercontent.com/a-/AOh14Ggt0R_vpxdkA9SOrPvnHgwuzwsHmYSxz6AMEDHtsA=s64",
      "userId": "14650316510824230211"
     }
    }
   },
   "source": [
    "# Get recommend for each track of user 2\n",
    "# pearson, cosine\n",
    "pear_recommend_user2 = []\n",
    "cosine_recommend_user2 = []\n",
    "for track in user2_track:\n",
    "  pear_recommend_user2.append(top_10_similarity(track, raw_user2_track, similarity = 'pearson'))\n",
    "  cosine_recommend_user2.append(top_10_similarity(track, raw_user2_track, similarity = 'cosine'))"
   ],
   "execution_count": 18,
   "outputs": []
  },
  {
   "cell_type": "code",
   "metadata": {
    "id": "chUEhT7FWGYa",
    "executionInfo": {
     "status": "ok",
     "timestamp": 1640185584993,
     "user_tz": -420,
     "elapsed": 6278,
     "user": {
      "displayName": "Binh Duong Van",
      "photoUrl": "https://lh3.googleusercontent.com/a-/AOh14Ggt0R_vpxdkA9SOrPvnHgwuzwsHmYSxz6AMEDHtsA=s64",
      "userId": "14650316510824230211"
     }
    }
   },
   "source": [
    "# Get recommend for each track of user 3\n",
    "# pearson, cosine\n",
    "pear_recommend_user3 = []\n",
    "cosine_recommend_user3 = []\n",
    "for track in user3_track:\n",
    "  pear_recommend_user3.append(top_10_similarity(track, raw_user3_track, similarity = 'pearson'))\n",
    "  cosine_recommend_user3.append(top_10_similarity(track, raw_user3_track, similarity = 'cosine'))"
   ],
   "execution_count": 19,
   "outputs": []
  },
  {
   "cell_type": "code",
   "metadata": {
    "id": "Vbxdr7oeWLu0",
    "colab": {
     "base_uri": "https://localhost:8080/"
    },
    "executionInfo": {
     "status": "ok",
     "timestamp": 1640185584995,
     "user_tz": -420,
     "elapsed": 14,
     "user": {
      "displayName": "Binh Duong Van",
      "photoUrl": "https://lh3.googleusercontent.com/a-/AOh14Ggt0R_vpxdkA9SOrPvnHgwuzwsHmYSxz6AMEDHtsA=s64",
      "userId": "14650316510824230211"
     }
    },
    "outputId": "5a90e13b-83e4-44c9-ac48-3cb4e41a93e0"
   },
   "source": [
    "pear_recommend_user1"
   ],
   "execution_count": 20,
   "outputs": [
    {
     "output_type": "execute_result",
     "data": {
      "text/plain": [
       "[[('Cũng Đành Thôi', 0.9999999998822343),\n",
       "  ('Và Thế Là Hết', 0.9999999998626196),\n",
       "  ('Sài Gòn Đau Lòng Quá', 0.9999999998443474),\n",
       "  ('Trên Tình Bạn Dưới Tình Yêu (with 16 Typh)', 0.9999999998156526),\n",
       "  ('Mộng Mơ', 0.9999999997996984),\n",
       "  ('Vì Yêu Cứ Đâm Đầu', 0.9999999997610907),\n",
       "  ('Đã Biết Sẽ Có Ngày Hôm Qua', 0.9999999997570422),\n",
       "  ('Matchanah', 0.9999999997146066),\n",
       "  ('Xin Đừng Lặng Im', 0.9999999996864326),\n",
       "  ('Đưa Nhau Đi Trốn (Chill Version)', 0.9999999996814894)],\n",
       " [('Xin Em Cho Tôi Một Cơ Hội', 0.9999999998775294),\n",
       "  ('Mùa Đông Tàn Phai', 0.9999999998562092),\n",
       "  ('Thuong Nhau Ngay Mua (feat. Don Ho)', 0.9999999998489232),\n",
       "  ('Khi Cô Đơn Em Nhớ Ai', 0.9999999998307049),\n",
       "  ('Không Thể Sống Thiếu Em', 0.9999999997863425),\n",
       "  ('Những Mùa Dấu Yêu', 0.9999999997825159),\n",
       "  ('Tình Yêu Vượt Thời Gian', 0.9999999997482835),\n",
       "  ('Chiều Nghe Biển Khóc', 0.9999999997258422),\n",
       "  ('nan', 0.9999999997019252),\n",
       "  ('Tâm Hồn Xao Động', 0.9999999996735146)],\n",
       " [('? (feat. Dế Choắt)', 0.9999999999521021),\n",
       "  ('Em Luôn Ở Trong Tâm Trí Anh', 0.9999999999393979),\n",
       "  ('Nói Thương Nhau Đừng Làm Trái Tim Em Đau', 0.9999999999154343),\n",
       "  ('Yêu Như Ngày Yêu Cuối', 0.9999999999084276),\n",
       "  ('Liệu Ta Sẽ', 0.9999999998899065),\n",
       "  ('Còn Lại Gì Sau Cơn Mưa', 0.9999999998844608),\n",
       "  ('Một Lần Dang Dở', 0.9999999998360378),\n",
       "  ('Người Duy Nhất', 0.9999999998338012),\n",
       "  ('Anh Không Muốn Bất Công Với Em', 0.9999999998154288),\n",
       "  ('Nghi Ngờ', 0.9999999998058524)],\n",
       " [('có hẹn với thanh xuân', 0.999999999722712),\n",
       "  ('Yêu Sắc Yếu', 0.9999999995268515),\n",
       "  ('Xin Đừng Nhấc Máy', 0.999999999387668),\n",
       "  ('Đâu Cần Một Bài Ca Tình Yêu', 0.9999999991905913),\n",
       "  ('Hương', 0.9999999990027443),\n",
       "  ('Đi Theo Bóng Mặt Trời', 0.9999999989456263),\n",
       "  ('Buồn Thì Cứ Khóc Đi', 0.9999999987239886),\n",
       "  ('Bigcityboi (feat. Touliver)', 0.9999999985098232),\n",
       "  ('Đi Về Nhà', 0.9999999984352492),\n",
       "  ('Thức Giấc', 0.9999999984141953)],\n",
       " [(\"I'm Still Loving You\", 0.999999999851857),\n",
       "  ('Yêu Một Người Có Lẽ', 0.9999999997992631),\n",
       "  ('Vì Yêu Cứ Đâm Đầu', 0.9999999997286121),\n",
       "  ('Đưa Nhau Đi Trốn (Chill Version)', 0.9999999996373798),\n",
       "  ('Real Love - The Heroes Version', 0.9999999995977685),\n",
       "  ('Chú Chó Trên Ô Tô (feat. Tlinh)', 0.9999999995619933),\n",
       "  ('Nếu Mình Gần Nhau', 0.999999999547349),\n",
       "  ('Như Ngày Hôm Qua', 0.9999999995363982),\n",
       "  ('Matchanah', 0.9999999995289804),\n",
       "  ('Đi Đu Đưa Đi', 0.9999999995099896)],\n",
       " [('Nhiều Năm Nữa - Live At Show Của Đen', 0.9999999999076667),\n",
       "  ('Trời Ơi Con Chưa Muốn Chết - Live At Show Của Đen', 0.9999999998273674),\n",
       "  ('Chim Sẻ Và Dâu Tây (feat. Dế Choắt & Wowy)', 0.9999999997815797),\n",
       "  ('Chân Ái', 0.9999999996751822),\n",
       "  ('Gặp Nhưng Không Ở Lại', 0.9999999996695621),\n",
       "  ('sao anh chưa về nhà', 0.9999999996625671),\n",
       "  ('Cần Gì Hơn', 0.9999999996555327),\n",
       "  ('Em Hát Ai Nghe', 0.9999999996468305),\n",
       "  ('Vet Mua', 0.9999999995482973),\n",
       "  ('Nước Hoa', 0.9999999995409707)],\n",
       " [('Lửng Lơ', 0.9999999999318231),\n",
       "  ('24h', 0.9999999999243703),\n",
       "  ('Đâu Chỉ Riêng Em', 0.9999999998936288),\n",
       "  ('Nước Hoa', 0.9999999998219146),\n",
       "  ('Kém Duyên', 0.9999999998020207),\n",
       "  ('Ms. May (feat. Magazine)', 0.9999999997744585),\n",
       "  ('Mỗi Người Một Nơi', 0.999999999737377),\n",
       "  ('Đi Để Trở Về', 0.999999999723107),\n",
       "  ('Có Người', 0.9999999997153289),\n",
       "  ('Nghe Em', 0.9999999997018241)],\n",
       " [('Ngày Mai Em Đi', 0.9999999998967026),\n",
       "  ('Say You Do', 0.9999999998228714),\n",
       "  ('3 1 0 7 - 2 (feat. W/N & Nau)', 0.999999999651344),\n",
       "  ('Hai Triệu Năm', 0.9999999995766921),\n",
       "  ('Người Hãy Quên Em Đi', 0.9999999995269554),\n",
       "  ('Anh Đếch Cần Gì Nhiều Ngoài Em', 0.9999999994558021),\n",
       "  ('Ke Cap Gap Ba Gia (feat. BINZ)', 0.9999999994172305),\n",
       "  ('Missing You', 0.999999999400064),\n",
       "  ('Thức Giấc', 0.9999999993975787),\n",
       "  ('SO FAR', 0.9999999993888797)],\n",
       " [('Mười Năm (Lộn Xộn 3)', 0.999999999921761),\n",
       "  ('Có Em Chờ', 0.9999999996806389),\n",
       "  ('trời giấu trời mang đi', 0.9999999996787181),\n",
       "  ('từ chối nhẹ nhàng thôi', 0.9999999996304171),\n",
       "  ('Yêu Thầm', 0.9999999995779398),\n",
       "  ('Mặt Trời Của Em', 0.9999999995773305),\n",
       "  ('Ôm Trọn Nỗi Nhớ', 0.9999999995201976),\n",
       "  ('Gác Lại Âu Lo', 0.9999999995198754),\n",
       "  ('Răng Khôn', 0.9999999994953108),\n",
       "  ('Giàu Vì Bạn, Sang Vì Vợ (feat. RPT MCK)', 0.9999999994598583)],\n",
       " [('BÀI NÀY VUI PHẾT (feat. 2Can)', 0.9999999999769421),\n",
       "  ('Trò Chơi', 0.9999999999269804),\n",
       "  ('Thật Bất Ngờ', 0.9999999999143466),\n",
       "  ('MỘT VÌ SAO (STAR) [feat. Decaffeine]', 0.9999999999033291),\n",
       "  ('Mùa Đông Cô Đơn', 0.999999999898139),\n",
       "  ('Đừng Ngoảnh Lại', 0.9999999998595118),\n",
       "  ('Tình Yêu Hoa Gió', 0.9999999998588947),\n",
       "  ('Nhé anh', 0.9999999998482639),\n",
       "  ('Cạm bẫy', 0.9999999998468796),\n",
       "  ('Con Gái Bây Giờ', 0.9999999998356545)],\n",
       " [('Em Như Nào Cũng Được', 0.9999999999531651),\n",
       "  ('Thuong Em La Dieu Anh Khong The Ngo', 0.9999999998952145),\n",
       "  ('Em Không Cô Đơn', 0.9999999998550468),\n",
       "  ('Vỡ (Siêu Sao Siêu Ngố OST)', 0.9999999998546825),\n",
       "  ('Em Có Còn Dùng Số Này Không', 0.9999999998413089),\n",
       "  ('Họ Yêu Ai Mất Rồi', 0.9999999998360969),\n",
       "  ('Không Phải Dạng Vừa Đâu', 0.9999999998234618),\n",
       "  ('Kho Ve Nu Cuoi (feat. Du Uyen)', 0.9999999998218037),\n",
       "  ('Chuyện Như Chưa Bắt Đầu', 0.9999999998166019),\n",
       "  ('Túy Họa', 0.9999999998125566)],\n",
       " [('Ngỡ', 0.9999999999216835),\n",
       "  ('Đã Biết Sẽ Có Ngày Hôm Qua', 0.9999999999070914),\n",
       "  ('Hứa Thật Nhiều Thất Hứa Thật Nhiều', 0.9999999998741782),\n",
       "  ('Cũng Đành Thôi', 0.99999999985098),\n",
       "  ('Sài Gòn Đau Lòng Quá', 0.9999999998379274),\n",
       "  ('Thôi Miên', 0.9999999998176128),\n",
       "  ('Và Thế Là Hết', 0.9999999998129063),\n",
       "  ('Trên Tình Bạn Dưới Tình Yêu (with 16 Typh)', 0.9999999997959864),\n",
       "  ('Yếu Đuối', 0.9999999997885824),\n",
       "  ('Đừng Ai Nhắc Về Anh Ấy', 0.9999999997701814)],\n",
       " [('Tát Nước Đầu Đình', 0.9999999998857085),\n",
       "  ('em bỏ hút thuốc chưa', 0.999999999827278),\n",
       "  ('Thức Giấc', 0.9999999997907569),\n",
       "  ('Kém Duyên', 0.9999999997717388),\n",
       "  ('Hai Triệu Năm', 0.9999999997608379),\n",
       "  ('Đi Để Trở Về', 0.9999999996588214),\n",
       "  ('Ms. May (feat. Magazine)', 0.9999999996411734),\n",
       "  ('Người Hãy Quên Em Đi', 0.9999999996392137),\n",
       "  ('Như Ngày Hôm Qua', 0.9999999995886099),\n",
       "  ('Vet Mua', 0.9999999995869253)]]"
      ]
     },
     "metadata": {},
     "execution_count": 20
    }
   ]
  }
 ]
}